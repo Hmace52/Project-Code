{
  "cells": [
    {
      "cell_type": "code",
      "source": [
        "!pip install pure-prng"
      ],
      "metadata": {
        "id": "t3QeVxqDH5qP"
      },
      "execution_count": null,
      "outputs": []
    },
    {
      "cell_type": "code",
      "execution_count": null,
      "metadata": {
        "id": "RvbBxhpgt7Ig"
      },
      "outputs": [],
      "source": [
        "# Necessary imports\n",
        "from pure_prng_package import pure_prng\n",
        "import numpy as np\n",
        "import tensorflow as tf\n",
        "from keras.layers import *\n",
        "from keras.models import Sequential\n",
        "from sklearn.model_selection import train_test_split\n",
        "from keras.optimizers import Adam\n",
        "import matplotlib.pyplot as plt\n",
        "import math\n",
        "import time\n",
        "\n"
      ]
    },
    {
      "cell_type": "code",
      "source": [
        "# Class used to access my implmentations of PRNGs\n",
        "class PRNGManagement():\n",
        "  # Initialises object and sets the default seed\n",
        "  def __init__(self):\n",
        "      self.seed = 0\n",
        "\n",
        "  # Method to seed the PRNG (seeds all PRNGs in class)\n",
        "  def seed_PRNG(self, seed:int):\n",
        "    self.seed:int = seed\n",
        "    self.random_number:int = seed\n",
        "\n",
        "  def bit_success(self, model, inputData, trueOutputs, sequence_length):\n",
        "    \"\"\" \n",
        "    Method to evaluate the provided model and store the amount of\n",
        "    successful predictions for each bit of the output\n",
        "    :param model: keras model - Model used to generate predicitions\n",
        "    :param trueOutputs: list[list[int]]- List containing the expected y outputs\n",
        "    :param sequence_length: int - Length of generated binary string being predicited\n",
        "    :return list[int] - Amount of successful predictions for each bit\n",
        "    \"\"\"\n",
        "    # Set initial amount of successful predictions for each bit to zero\n",
        "    successfulPredicts = [0]*sequence_length\n",
        "    # Feeds the input data to the model and stores the predictions made\n",
        "    predicted = (model.predict(inputData).round())\n",
        "    # Iterate over all outputed data\n",
        "    for testIndex in range(0, len(inputData)):\n",
        "      # Iterate over each bit in output\n",
        "      for i in range(sequence_length):\n",
        "        # If the predicted bit matches the true bit value then increment the successful predicts for the current bit\n",
        "        if predicted[testIndex][i] == trueOutputs[testIndex][i]: successfulPredicts[i] += 1\n",
        "        # Prediction may be greater than 1 if the prediction is made with high certainity\n",
        "        elif predicted[testIndex][i] > 1 and trueOutputs[testIndex][i] == 1: self.successfulPredicts[i] += 1\n",
        "\n",
        "    return successfulPredicts\n",
        "   \n",
        "\n",
        "  def zero_only_PRNG(self, length=100):\n",
        "    \"\"\" \n",
        "    Returns a binary string containing only 0 of specified length.\n",
        "    Used to test for major flaws in models\n",
        "    :param length: int - Length of generated binary string\n",
        "    :return string - generated binary string\n",
        "    \"\"\"\n",
        "    return \"0\" * length        \n",
        "\n",
        "\n",
        "  def alternating_bits_PRNG(self, length=100):\n",
        "    \"\"\" \n",
        "    Returns output of a basic PRNG implementation that alernates each bit (010101)\n",
        "    :param length: int - Length of generated binary string\n",
        "    :return string - generated binary string\n",
        "    \"\"\"\n",
        "    # Use seed to determine the starting bit of the generated binary string\n",
        "    self.seed = self.seed%2\n",
        "    # Utilises efficent method to repeat a string pattern\n",
        "    if (self.seed == 1):\n",
        "        output = \"10\" * int(length/2)\n",
        "    else:\n",
        "        output = \"01\" * int(length/2)\n",
        "\n",
        "    # Length of generated binary string is odd\n",
        "    if (length%2 == 1):\n",
        "      # Add final bit to string\n",
        "      output += str(self.seed)\n",
        "      # Set the new seed value\n",
        "      if (self.seed == 0): self.seed = 1\n",
        "      else: self.seed = 0\n",
        "    \n",
        "    return output\n",
        "\n",
        "\n",
        "  def alternating_num_PRNG(self):\n",
        "    \"\"\" \n",
        "    Returns output of a basic PRNG implementation that alernates between two binary strings\n",
        "    :return string - generated binary string\n",
        "    \"\"\"\n",
        "    # Use seed to determine the binary string to be returned\n",
        "    self.seed = (self.seed+1)%2\n",
        "    if (self.seed == 0):\n",
        "      # Convert integer to a binary string \n",
        "      randomBinary = str(bin(1643712566))[2:]\n",
        "      # Returns binary string after ensuring a minimum length of 32\n",
        "      return (32-len(randomBinary))*\"0\" + randomBinary\n",
        "    else:\n",
        "      # Convert integer to a binary string \n",
        "      randomBinary = str(bin(2372817037))[2:]\n",
        "      # Returns binary string after ensuring a minimum length of 32\n",
        "      return (32-len(randomBinary))*\"0\" + randomBinary\n",
        "\n",
        "\n",
        "  def basic_equation_based(self, mult:int, add:int, mod:int, leng:int) -> str:\n",
        "    \"\"\" \n",
        "    Returns output of a very weak equation based PRNG implementation\n",
        "    Expected to be predicted near perfectly\n",
        "    :return string - generated binary string\n",
        "    \"\"\"\n",
        "    # Generates random number using previous output as seed\n",
        "    self.random_number = (mult * self.random_number + add) % 2**mod\n",
        "    # Converts generated number to a binary string\n",
        "    bits_string = bin(self.random_number)[2:]\n",
        "    # Returns binary string after using padding to ensure a length of 32\n",
        "    return bits_string.zfill(leng)\n",
        "\n",
        "\n",
        "  ## Different implmentations of equation based generators\n",
        "  def basic_equation_based1(self) -> str:\n",
        "    return self.basic_equation_based(20, 52, 32, 32)\n",
        "\n",
        "  def basic_equation_based2(self) -> str:\n",
        "    return self.basic_equation_based(36791, 83247, 32, 32)\n",
        "\n",
        "  # Expects odd starting seed\n",
        "  def poor_equation_based(self) -> str:\n",
        "    return self.basic_equation_based(65539, 0, 31, 32)\n",
        "\n",
        "\n",
        "PRNGHandler = PRNGManagement()"
      ],
      "metadata": {
        "id": "5XBLpCikQu5X"
      },
      "execution_count": null,
      "outputs": []
    },
    {
      "cell_type": "code",
      "source": [
        "# Class used to manage the PRNGs offered by the PRNG library\n",
        "class PRNGLibManagement():\n",
        "  def __init__(self, PRNGType:str, outputLen:int):\n",
        "    self.change_PRNG(PRNGType, outputLen)\n",
        "\n",
        "  # Change the type of the current PRNG\n",
        "  def change_PRNG(self, PRNGType:str, outputLen:int):\n",
        "    self.outputLen = outputLen\n",
        "    self.PRNGType = PRNGType\n",
        "    self.currentGen = pure_prng(int(time.time()), prng_type=PRNGType).source_random_number()\n",
        "\n",
        "  # Seed the current PRNG\n",
        "  def seed_current(self, seed=int(time.time())):\n",
        "    self.currentGen = pure_prng(int(seed), prng_type=self.PRNGType).source_random_number()\n",
        "\n",
        "  # Generates an output from the curent PRNG\n",
        "  def output_current(self):\n",
        "    # Converts generated number to a binary string\n",
        "    bits_string = bin(next(self.currentGen))[2:]\n",
        "    # Returns binary string after using padding to ensure a consistent length\n",
        "    return bits_string.zfill(self.outputLen)\n",
        "\n",
        "  # Generates output from current PRNG as a list containing the integer bits\n",
        "  def next_ints(self):\n",
        "    # Converts generated binary string to list of ints\n",
        "    return [int(bit) for bit in self.output_current()] \n",
        "\n",
        "  # Get stream of binary data form current generator\n",
        "  def get_stream(self, number_of_blocks:int):\n",
        "    stream = []\n",
        "    for _ in range(number_of_blocks):\n",
        "      block = self.next_ints()\n",
        "      stream.extend(block)\n",
        "    return stream"
      ],
      "metadata": {
        "id": "-GBuWcChUelq"
      },
      "execution_count": null,
      "outputs": []
    },
    {
      "cell_type": "code",
      "source": [
        "# Creates object to use the 'Ran64' PRNG\n",
        "PRNGLibHandler = PRNGLibManagement(\"Ran64\", 64)"
      ],
      "metadata": {
        "id": "LGELTqwOVa9h"
      },
      "execution_count": null,
      "outputs": []
    },
    {
      "cell_type": "code",
      "execution_count": null,
      "metadata": {
        "colab": {
          "base_uri": "https://localhost:8080/"
        },
        "id": "L-H_--JU6MG7",
        "outputId": "2c283ecb-0557-4d0e-ea17-84ed197b3f60"
      },
      "outputs": [
        {
          "name": "stdout",
          "output_type": "stream",
          "text": [
            "Number of samples:  12736\n"
          ]
        }
      ],
      "source": [
        "# Sets paramemters for generating train/test data\n",
        "num_blocks = 1000\n",
        "sequence_length = 64\n",
        "\n",
        "# Number of samples must be a multiple of 100 to prevent an error\n",
        "num_samples = (num_blocks-1)*sequence_length\n",
        "\n",
        "print(\"Number of samples: \", num_samples)\n",
        "\n",
        "# Seed generator\n",
        "PRNGLibHandler.seed(23)\n",
        "# Get stream data \n",
        "streamData = PRNGLibHandler.get_stream(num_blocks)\n",
        "\n",
        "\n",
        "# Stores output in variable to allow the sample to be featued in both x and y data\n",
        "X_data = []\n",
        "Y_data = []\n",
        "\n",
        "# Extracts stream data samples\n",
        "for i in range(num_samples):\n",
        "  X_data.append(streamData[i:i+sequence_length])\n",
        "  Y_data.append([streamData[i+sequence_length]])\n",
        "\n",
        "del streamData # saves memory"
      ]
    },
    {
      "cell_type": "code",
      "execution_count": null,
      "metadata": {
        "colab": {
          "base_uri": "https://localhost:8080/"
        },
        "id": "yx3kGN-5tXFp",
        "outputId": "5e80ddcd-f707-4ff1-83bb-93b301b9de91"
      },
      "outputs": [
        {
          "name": "stdout",
          "output_type": "stream",
          "text": [
            "Model: \"sequential\"\n",
            "_________________________________________________________________\n",
            " Layer (type)                Output Shape              Param #   \n",
            "=================================================================\n",
            " dense (Dense)               (None, 64)                4160      \n",
            "                                                                 \n",
            " batch_normalization (BatchN  (None, 64)               256       \n",
            " ormalization)                                                   \n",
            "                                                                 \n",
            " dropout (Dropout)           (None, 64)                0         \n",
            "                                                                 \n",
            " batch_normalization_1 (Batc  (None, 64)               256       \n",
            " hNormalization)                                                 \n",
            "                                                                 \n",
            " dense_1 (Dense)             (None, 32)                2080      \n",
            "                                                                 \n",
            " batch_normalization_2 (Batc  (None, 32)               128       \n",
            " hNormalization)                                                 \n",
            "                                                                 \n",
            " dense_2 (Dense)             (None, 1)                 33        \n",
            "                                                                 \n",
            "=================================================================\n",
            "Total params: 6,913\n",
            "Trainable params: 6,593\n",
            "Non-trainable params: 320\n",
            "_________________________________________________________________\n"
          ]
        }
      ],
      "source": [
        "# Sets parameters for model\n",
        "epochs = 20\n",
        "\n",
        "# Strategy to utilise GPU \n",
        "strategy = tf.distribute.OneDeviceStrategy('/gpu:0')\n",
        "\n",
        "# Model compilation using GPU\n",
        "with strategy.scope():\n",
        "  model = Sequential()\n",
        "  model.add(Dense(sequence_length, input_shape=(sequence_length, ), activation='relu'))\n",
        "  model.add(BatchNormalization())\n",
        "  model.add(Dropout(rate=0.1))\n",
        "  model.add(BatchNormalization())\n",
        "  model.add(Dense(sequence_length//2, activation='relu'))\n",
        "  model.add(BatchNormalization())\n",
        "  model.add(Dense(1, activation='sigmoid'))\n",
        "\n",
        "model.compile(loss='binary_crossentropy', optimizer=\"Adam\", metrics=['accuracy'])\n",
        "\n",
        "model.summary()"
      ]
    },
    {
      "cell_type": "code",
      "execution_count": null,
      "metadata": {
        "colab": {
          "base_uri": "https://localhost:8080/"
        },
        "id": "Pr4ICgfxAVur",
        "outputId": "7c3b6140-3b61-4b32-998f-34df6a5a5ae7"
      },
      "outputs": [
        {
          "name": "stdout",
          "output_type": "stream",
          "text": [
            "Epoch 1/20\n",
            "875/875 [==============================] - 51s 55ms/step - loss: 0.7078 - accuracy: 0.4990 - val_loss: 0.6953 - val_accuracy: 0.4984\n",
            "Epoch 2/20\n",
            "875/875 [==============================] - 6s 7ms/step - loss: 0.6941 - accuracy: 0.5044 - val_loss: 0.6942 - val_accuracy: 0.4994\n",
            "Epoch 3/20\n",
            "875/875 [==============================] - 7s 8ms/step - loss: 0.6933 - accuracy: 0.5067 - val_loss: 0.6938 - val_accuracy: 0.4991\n",
            "Epoch 4/20\n",
            "875/875 [==============================] - 6s 6ms/step - loss: 0.6930 - accuracy: 0.5087 - val_loss: 0.6939 - val_accuracy: 0.4979\n",
            "Epoch 5/20\n",
            "875/875 [==============================] - 6s 7ms/step - loss: 0.6928 - accuracy: 0.5107 - val_loss: 0.6940 - val_accuracy: 0.5002\n",
            "Epoch 6/20\n",
            "875/875 [==============================] - 6s 7ms/step - loss: 0.6928 - accuracy: 0.5115 - val_loss: 0.6938 - val_accuracy: 0.4988\n",
            "Epoch 7/20\n",
            "875/875 [==============================] - 6s 7ms/step - loss: 0.6926 - accuracy: 0.5122 - val_loss: 0.6939 - val_accuracy: 0.4998\n",
            "Epoch 8/20\n",
            "875/875 [==============================] - 6s 7ms/step - loss: 0.6925 - accuracy: 0.5148 - val_loss: 0.6940 - val_accuracy: 0.4990\n",
            "Epoch 9/20\n",
            "875/875 [==============================] - 6s 6ms/step - loss: 0.6923 - accuracy: 0.5166 - val_loss: 0.6945 - val_accuracy: 0.4987\n",
            "Epoch 10/20\n",
            "875/875 [==============================] - 6s 6ms/step - loss: 0.6921 - accuracy: 0.5183 - val_loss: 0.6941 - val_accuracy: 0.5008\n",
            "Epoch 11/20\n",
            "875/875 [==============================] - 6s 7ms/step - loss: 0.6918 - accuracy: 0.5203 - val_loss: 0.6946 - val_accuracy: 0.4986\n",
            "Epoch 12/20\n",
            "875/875 [==============================] - 6s 6ms/step - loss: 0.6916 - accuracy: 0.5220 - val_loss: 0.6951 - val_accuracy: 0.5011\n",
            "Epoch 13/20\n",
            "875/875 [==============================] - 6s 7ms/step - loss: 0.6913 - accuracy: 0.5242 - val_loss: 0.6947 - val_accuracy: 0.5010\n",
            "Epoch 14/20\n",
            "875/875 [==============================] - 6s 7ms/step - loss: 0.6912 - accuracy: 0.5247 - val_loss: 0.6951 - val_accuracy: 0.5010\n",
            "Epoch 15/20\n",
            "875/875 [==============================] - 6s 7ms/step - loss: 0.6910 - accuracy: 0.5258 - val_loss: 0.6953 - val_accuracy: 0.4995\n",
            "Epoch 16/20\n",
            "875/875 [==============================] - 6s 6ms/step - loss: 0.6906 - accuracy: 0.5277 - val_loss: 0.6955 - val_accuracy: 0.5010\n",
            "Epoch 17/20\n",
            "875/875 [==============================] - 6s 7ms/step - loss: 0.6905 - accuracy: 0.5284 - val_loss: 0.6960 - val_accuracy: 0.4994\n",
            "Epoch 18/20\n",
            "875/875 [==============================] - 6s 7ms/step - loss: 0.6904 - accuracy: 0.5296 - val_loss: 0.6959 - val_accuracy: 0.5011\n",
            "Epoch 19/20\n",
            "875/875 [==============================] - 6s 7ms/step - loss: 0.6901 - accuracy: 0.5305 - val_loss: 0.6960 - val_accuracy: 0.5008\n",
            "Epoch 20/20\n",
            "875/875 [==============================] - 6s 7ms/step - loss: 0.6900 - accuracy: 0.5318 - val_loss: 0.6959 - val_accuracy: 0.5011\n"
          ]
        }
      ],
      "source": [
        "batch_size = 512\n",
        "# Train the model with the x/y train data and validate using the test data after each epoch\n",
        "history = model.fit(x_train, y_train, validation_data=(x_test, y_test), epochs=epochs, batch_size=batch_size)"
      ]
    },
    {
      "cell_type": "code",
      "execution_count": null,
      "metadata": {
        "colab": {
          "base_uri": "https://localhost:8080/"
        },
        "id": "KcrujG0_CQtM",
        "outputId": "b3acf630-7846-4586-f95d-7ce1ce6ba794"
      },
      "outputs": [
        {
          "name": "stdout",
          "output_type": "stream",
          "text": [
            "Model: \"sequential_1\"\n",
            "_________________________________________________________________\n",
            " Layer (type)                Output Shape              Param #   \n",
            "=================================================================\n",
            " lstm (LSTM)                 (None, 64, 64)            16896     \n",
            "                                                                 \n",
            " lstm_1 (LSTM)               (None, 64, 42)            17976     \n",
            "                                                                 \n",
            " lstm_2 (LSTM)               (None, 32)                9600      \n",
            "                                                                 \n",
            " dense_3 (Dense)             (None, 1)                 33        \n",
            "                                                                 \n",
            "=================================================================\n",
            "Total params: 44,505\n",
            "Trainable params: 44,505\n",
            "Non-trainable params: 0\n",
            "_________________________________________________________________\n"
          ]
        }
      ],
      "source": [
        "# Sets parameters for model\n",
        "epochs = 10\n",
        "batch_size = 100\n",
        "\n",
        "\n",
        "# Strategy to utilise GPU \n",
        "strategy = tf.distribute.OneDeviceStrategy('/gpu:0')\n",
        "\n",
        "# Model compilation using GPU\n",
        "with strategy.scope():\n",
        "  model = Sequential()\n",
        "  model.add(LSTM(int(sequence_length), input_shape=(sequence_length, 1), return_sequences=True))\n",
        "  model.add(LSTM(int(sequence_length/1.5), return_sequences=True))\n",
        "  model.add(LSTM(int(sequence_length/2)))\n",
        "  model.add(Dense(1, activation='sigmoid'))\n",
        "\n",
        "\n",
        "  model.compile(loss='binary_crossentropy', optimizer=\"Adam\", metrics=['accuracy'])\n",
        "\n",
        "  model.summary()"
      ]
    },
    {
      "cell_type": "code",
      "execution_count": null,
      "metadata": {
        "colab": {
          "base_uri": "https://localhost:8080/"
        },
        "id": "k0lOuBdXugPo",
        "outputId": "6dd7360f-ee7d-4df0-b76b-347f1b759042"
      },
      "outputs": [
        {
          "name": "stdout",
          "output_type": "stream",
          "text": [
            "Epoch 1/10\n",
            "4478/4478 [==============================] - 110s 23ms/step - loss: 0.6932 - accuracy: 0.4993 - val_loss: 0.6932 - val_accuracy: 0.4993\n",
            "Epoch 2/10\n",
            "4478/4478 [==============================] - 60s 13ms/step - loss: 0.6932 - accuracy: 0.5005 - val_loss: 0.6933 - val_accuracy: 0.4993\n",
            "Epoch 3/10\n",
            "4478/4478 [==============================] - 61s 14ms/step - loss: 0.6932 - accuracy: 0.4988 - val_loss: 0.6932 - val_accuracy: 0.4993\n",
            "Epoch 4/10\n",
            "4478/4478 [==============================] - 61s 14ms/step - loss: 0.6932 - accuracy: 0.4994 - val_loss: 0.6932 - val_accuracy: 0.4993\n",
            "Epoch 5/10\n",
            "4478/4478 [==============================] - 62s 14ms/step - loss: 0.6932 - accuracy: 0.5005 - val_loss: 0.6932 - val_accuracy: 0.4993\n",
            "Epoch 6/10\n",
            "4478/4478 [==============================] - 62s 14ms/step - loss: 0.6932 - accuracy: 0.4987 - val_loss: 0.6932 - val_accuracy: 0.4993\n",
            "Epoch 7/10\n",
            "4478/4478 [==============================] - 60s 13ms/step - loss: 0.6932 - accuracy: 0.5005 - val_loss: 0.6931 - val_accuracy: 0.5007\n",
            "Epoch 8/10\n",
            "4478/4478 [==============================] - 65s 14ms/step - loss: 0.6932 - accuracy: 0.4990 - val_loss: 0.6932 - val_accuracy: 0.4993\n",
            "Epoch 9/10\n",
            "4478/4478 [==============================] - 63s 14ms/step - loss: 0.6932 - accuracy: 0.5010 - val_loss: 0.6931 - val_accuracy: 0.5007\n",
            "Epoch 10/10\n",
            "4478/4478 [==============================] - 62s 14ms/step - loss: 0.6932 - accuracy: 0.4997 - val_loss: 0.6932 - val_accuracy: 0.4993\n"
          ]
        }
      ],
      "source": [
        "# Train the model with the x/y train data and validate using the test data after each epoch\n",
        "history = model.fit(x_train, y_train, validation_data=(x_test, y_test), epochs=epochs, batch_size=batch_size)"
      ]
    },
    {
      "cell_type": "markdown",
      "metadata": {
        "id": "V4w46gWYUwlu"
      },
      "source": [
        "## Window approach with concatenated samples"
      ]
    },
    {
      "cell_type": "code",
      "execution_count": null,
      "metadata": {
        "colab": {
          "base_uri": "https://localhost:8080/"
        },
        "id": "2y8Gyu0TE64L",
        "outputId": "848350d2-02fd-4144-ee56-1dcd6b836312"
      },
      "outputs": [
        {
          "name": "stdout",
          "output_type": "stream",
          "text": [
            "Number of samples:  639807\n"
          ]
        }
      ],
      "source": [
        "# Sets paramemters for generating train/test data\n",
        "num_blocks = 10000\n",
        "sequence_length = 64\n",
        "samplesConcatenated = 3\n",
        "num_samples = sequence_length*num_blocks-1-(sequence_length*samplesConcatenated)\n",
        "num_samples = int(num_samples)\n",
        "# Number of samples must be a multiple of 100 to prevent an error\n",
        "#num_samples = int(num_samples/100)*100\n",
        "\n",
        "print(\"Number of samples: \", num_samples)\n",
        "\n",
        "Ran64Handler.seed(23)\n",
        "streamData = Ran64Handler.get_stream(num_blocks)\n",
        "\n",
        "\n",
        "# Stores output in variable to allow the sample to be featued in both x and y data\n",
        "X_data = []\n",
        "Y_data = []\n",
        "\n",
        "for i in range(0, num_samples):\n",
        "#for i in range(0, sequence_length*num_blocks-1):\n",
        "  X_data.append(streamData[i:i+sequence_length*samplesConcatenated])\n",
        "  Y_data.append([streamData[i+sequence_length*samplesConcatenated]])\n",
        "\n",
        "del streamData\n",
        "\n",
        "X_data = np.array(X_data)\n",
        "# Reshape binary data to match input shape for Conv1D\n",
        "X_data = np.reshape(X_data, (num_samples, sequence_length*samplesConcatenated, 1))\n",
        "\n",
        "Y_data = np.array(Y_data)\n",
        "# Reshape binary data to match input shape for Conv1D\n",
        "Y_data = np.reshape(Y_data, (num_samples,))"
      ]
    },
    {
      "cell_type": "code",
      "execution_count": null,
      "metadata": {
        "id": "lokhX2OGE64O"
      },
      "outputs": [],
      "source": [
        "x_train, x_test, y_train, y_test = train_test_split(X_data, Y_data, test_size=0.3, random_state=32)\n",
        "del X_data\n",
        "del Y_data"
      ]
    },
    {
      "cell_type": "code",
      "execution_count": null,
      "metadata": {
        "colab": {
          "base_uri": "https://localhost:8080/"
        },
        "id": "s18yeIb59npM",
        "outputId": "4c8295bc-37f7-42f1-83ab-65fc675b0dfb"
      },
      "outputs": [
        {
          "name": "stdout",
          "output_type": "stream",
          "text": [
            "Model: \"sequential_7\"\n",
            "_________________________________________________________________\n",
            " Layer (type)                Output Shape              Param #   \n",
            "=================================================================\n",
            " conv1d_4 (Conv1D)           (None, 190, 128)          512       \n",
            "                                                                 \n",
            " flatten_4 (Flatten)         (None, 24320)             0         \n",
            "                                                                 \n",
            " batch_normalization_13 (Bat  (None, 24320)            97280     \n",
            " chNormalization)                                                \n",
            "                                                                 \n",
            " dropout_5 (Dropout)         (None, 24320)             0         \n",
            "                                                                 \n",
            " dense_17 (Dense)            (None, 64)                1556544   \n",
            "                                                                 \n",
            " batch_normalization_14 (Bat  (None, 64)               256       \n",
            " chNormalization)                                                \n",
            "                                                                 \n",
            " dense_18 (Dense)            (None, 1)                 65        \n",
            "                                                                 \n",
            "=================================================================\n",
            "Total params: 1,654,657\n",
            "Trainable params: 1,605,889\n",
            "Non-trainable params: 48,768\n",
            "_________________________________________________________________\n"
          ]
        }
      ],
      "source": [
        "from keras.layers import Conv1D, Dense, Flatten\n",
        "from keras.layers import *\n",
        "\n",
        "# Sets parameters for produced model\n",
        "epochs = 10\n",
        "batch_size = 50\n",
        "\n",
        "# Strategy to utilise GPU \n",
        "strategy = tf.distribute.OneDeviceStrategy('/gpu:0')\n",
        "\n",
        "# Model compilation using GPU\n",
        "with strategy.scope():\n",
        "  model = Sequential()\n",
        "  model.add(Conv1D(filters=128, kernel_size=3, activation='relu', input_shape=(sequence_length*samplesConcatenated,1)))\n",
        "  model.add(Flatten())\n",
        "  model.add(BatchNormalization())\n",
        "  model.add(Dropout(rate=0.2))\n",
        "  model.add(Dense(sequence_length, input_shape=(sequence_length, ), activation='relu'))\n",
        "  model.add(BatchNormalization())\n",
        "  model.add(Dense(1, activation='sigmoid'))\n",
        "\n",
        "model.compile(loss='binary_crossentropy', optimizer=\"Adam\", metrics=['accuracy'])\n",
        "\n",
        "model.summary()"
      ]
    },
    {
      "cell_type": "code",
      "execution_count": null,
      "metadata": {
        "colab": {
          "base_uri": "https://localhost:8080/"
        },
        "id": "M7CyVx-uE64Q",
        "outputId": "b21fe1a8-506c-4c0b-d57d-e2a6027d4be7"
      },
      "outputs": [
        {
          "name": "stdout",
          "output_type": "stream",
          "text": [
            "Model: \"sequential_2\"\n",
            "_________________________________________________________________\n",
            " Layer (type)                Output Shape              Param #   \n",
            "=================================================================\n",
            " dense_6 (Dense)             (None, 64)                41024     \n",
            "                                                                 \n",
            " dense_7 (Dense)             (None, 32)                2080      \n",
            "                                                                 \n",
            " dense_8 (Dense)             (None, 1)                 33        \n",
            "                                                                 \n",
            "=================================================================\n",
            "Total params: 43,137\n",
            "Trainable params: 43,137\n",
            "Non-trainable params: 0\n",
            "_________________________________________________________________\n"
          ]
        }
      ],
      "source": [
        "# Sets parameters for model\n",
        "epochs = 10\n",
        "batch_size = 100\n",
        "\n",
        "\n",
        "# Strategy to utilise GPU \n",
        "strategy = tf.distribute.OneDeviceStrategy('/gpu:0')\n",
        "\n",
        "# Model compilation using GPU\n",
        "with strategy.scope():\n",
        "  model = Sequential()\n",
        "  model.add(Dense(sequence_length, input_shape=(sequence_length*samplesConcatenated, ), activation='relu'))\n",
        "  model.add(Dense(sequence_length//2, activation='relu'))\n",
        "  model.add(Dense(1, activation='sigmoid'))\n",
        "\n",
        "model.compile(loss='binary_crossentropy', optimizer=\"Adam\", metrics=['accuracy'])\n",
        "\n",
        "model.summary()"
      ]
    },
    {
      "cell_type": "code",
      "execution_count": null,
      "metadata": {
        "colab": {
          "background_save": true,
          "base_uri": "https://localhost:8080/"
        },
        "id": "zNdiSTWaFDKW",
        "outputId": "de1a5ad1-3b0f-4fab-eab7-5ee48eaadf1c"
      },
      "outputs": [
        {
          "name": "stdout",
          "output_type": "stream",
          "text": [
            "Epoch 1/10\n",
            "8958/8958 [==============================] - 68s 7ms/step - loss: 0.7008 - accuracy: 0.4997 - val_loss: 0.6941 - val_accuracy: 0.4981\n",
            "Epoch 2/10\n",
            "8958/8958 [==============================] - 64s 7ms/step - loss: 0.6936 - accuracy: 0.5002 - val_loss: 0.6935 - val_accuracy: 0.5005\n",
            "Epoch 3/10\n",
            "8958/8958 [==============================] - 64s 7ms/step - loss: 0.6933 - accuracy: 0.5042 - val_loss: 0.6936 - val_accuracy: 0.5012\n",
            "Epoch 4/10\n",
            "8958/8958 [==============================] - 64s 7ms/step - loss: 0.6931 - accuracy: 0.5059 - val_loss: 0.6934 - val_accuracy: 0.5007\n",
            "Epoch 5/10\n",
            "8958/8958 [==============================] - 65s 7ms/step - loss: 0.6929 - accuracy: 0.5097 - val_loss: 0.6936 - val_accuracy: 0.4994\n",
            "Epoch 6/10\n",
            "8958/8958 [==============================] - 65s 7ms/step - loss: 0.6927 - accuracy: 0.5113 - val_loss: 0.6936 - val_accuracy: 0.5003\n",
            "Epoch 7/10\n",
            "8958/8958 [==============================] - 65s 7ms/step - loss: 0.6927 - accuracy: 0.5116 - val_loss: 0.6936 - val_accuracy: 0.4987\n",
            "Epoch 8/10\n",
            "8958/8958 [==============================] - 64s 7ms/step - loss: 0.6929 - accuracy: 0.5063 - val_loss: 0.6935 - val_accuracy: 0.4990\n",
            "Epoch 9/10\n",
            "8958/8958 [==============================] - 64s 7ms/step - loss: 0.6931 - accuracy: 0.5050 - val_loss: 0.6934 - val_accuracy: 0.4990\n",
            "Epoch 10/10\n",
            "8958/8958 [==============================] - 65s 7ms/step - loss: 0.6930 - accuracy: 0.5071 - val_loss: 0.6933 - val_accuracy: 0.4988\n"
          ]
        }
      ],
      "source": [
        "# Train the model with the x/y train data and validate using the test data after each epoch\n",
        "history = model.fit(x_train, y_train, validation_data=(x_test, y_test), epochs=epochs, batch_size=batch_size)"
      ]
    },
    {
      "cell_type": "markdown",
      "metadata": {
        "id": "ds15vvcuUuPI"
      },
      "source": [
        "## Window approach with concatenated samples (deep learning)"
      ]
    },
    {
      "cell_type": "code",
      "execution_count": null,
      "metadata": {
        "colab": {
          "base_uri": "https://localhost:8080/"
        },
        "id": "U8-Z8Lq4IrKY",
        "outputId": "f2b448ac-b0db-450b-f6db-d43e9020bc32"
      },
      "outputs": [
        {
          "name": "stdout",
          "output_type": "stream",
          "text": [
            "Model: \"sequential_8\"\n",
            "_________________________________________________________________\n",
            " Layer (type)                Output Shape              Param #   \n",
            "=================================================================\n",
            " lstm_3 (LSTM)               (None, 640, 128)          66560     \n",
            "                                                                 \n",
            " lstm_4 (LSTM)               (None, 640, 64)           49408     \n",
            "                                                                 \n",
            " lstm_5 (LSTM)               (None, 32)                12416     \n",
            "                                                                 \n",
            " dense_22 (Dense)            (None, 1)                 33        \n",
            "                                                                 \n",
            "=================================================================\n",
            "Total params: 128,417\n",
            "Trainable params: 128,417\n",
            "Non-trainable params: 0\n",
            "_________________________________________________________________\n"
          ]
        }
      ],
      "source": [
        "# Sets parameters for model\n",
        "epochs = 10\n",
        "batch_size = 100\n",
        "\n",
        "\n",
        "# Strategy to utilise GPU \n",
        "strategy = tf.distribute.OneDeviceStrategy('/gpu:0')\n",
        "\n",
        "# Model compilation using GPU\n",
        "with strategy.scope():\n",
        "  model = Sequential()\n",
        "  model.add(LSTM(int(sequence_length*2), input_shape=(sequence_length*samplesConcatenated, 1), return_sequences=True))\n",
        "  model.add(LSTM(int(sequence_length), return_sequences=True))\n",
        "  model.add(LSTM(int(sequence_length/2)))\n",
        "  model.add(Dense(1, activation='sigmoid'))\n",
        "\n",
        "\n",
        "  model.compile(loss='binary_crossentropy', optimizer=\"Adam\", metrics=['accuracy'])\n",
        "\n",
        "  model.summary()"
      ]
    },
    {
      "cell_type": "code",
      "execution_count": null,
      "metadata": {
        "colab": {
          "base_uri": "https://localhost:8080/"
        },
        "id": "KfBBSnkkL0gf",
        "outputId": "b9810be4-1756-4c86-cd1c-142cb4851b0b"
      },
      "outputs": [
        {
          "name": "stdout",
          "output_type": "stream",
          "text": [
            "Epoch 1/10\n",
            "2236/2236 [==============================] - 387s 170ms/step - loss: 0.6932 - accuracy: 0.4982 - val_loss: 0.6931 - val_accuracy: 0.5013\n",
            "Epoch 2/10\n",
            "2236/2236 [==============================] - 192s 86ms/step - loss: 0.6932 - accuracy: 0.5014 - val_loss: 0.6932 - val_accuracy: 0.5013\n",
            "Epoch 3/10\n",
            "2236/2236 [==============================] - 178s 80ms/step - loss: 0.6932 - accuracy: 0.5006 - val_loss: 0.6932 - val_accuracy: 0.5013\n",
            "Epoch 4/10\n",
            "2236/2236 [==============================] - 177s 79ms/step - loss: 0.6932 - accuracy: 0.5010 - val_loss: 0.6932 - val_accuracy: 0.5013\n",
            "Epoch 5/10\n",
            "2236/2236 [==============================] - 178s 79ms/step - loss: 0.6932 - accuracy: 0.5007 - val_loss: 0.6931 - val_accuracy: 0.4995\n",
            "Epoch 6/10\n",
            "2236/2236 [==============================] - 177s 79ms/step - loss: 0.6932 - accuracy: 0.5005 - val_loss: 0.6932 - val_accuracy: 0.4989\n",
            "Epoch 7/10\n",
            "2236/2236 [==============================] - 177s 79ms/step - loss: 0.6932 - accuracy: 0.5013 - val_loss: 0.6932 - val_accuracy: 0.4990\n",
            "Epoch 8/10\n",
            "2236/2236 [==============================] - 177s 79ms/step - loss: 0.6932 - accuracy: 0.5002 - val_loss: 0.6932 - val_accuracy: 0.5011\n",
            "Epoch 9/10\n",
            "2236/2236 [==============================] - 178s 80ms/step - loss: 0.6932 - accuracy: 0.5002 - val_loss: 0.6932 - val_accuracy: 0.4987\n",
            "Epoch 10/10\n",
            "2236/2236 [==============================] - 182s 81ms/step - loss: 0.6932 - accuracy: 0.4997 - val_loss: 0.6931 - val_accuracy: 0.4991\n"
          ]
        }
      ],
      "source": [
        "# Train the model with the x/y train data and validate using the test data after each epoch\n",
        "history = model.fit(x_train, y_train, validation_data=(x_test, y_test), epochs=epochs, batch_size=batch_size)"
      ]
    }
  ],
  "metadata": {
    "accelerator": "GPU",
    "colab": {
      "provenance": []
    },
    "gpuClass": "standard",
    "kernelspec": {
      "display_name": "Python 3",
      "name": "python3"
    },
    "language_info": {
      "name": "python"
    }
  },
  "nbformat": 4,
  "nbformat_minor": 0
}