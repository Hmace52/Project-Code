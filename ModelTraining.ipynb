{
  "nbformat": 4,
  "nbformat_minor": 0,
  "metadata": {
    "colab": {
      "provenance": []
    },
    "kernelspec": {
      "name": "python3",
      "display_name": "Python 3"
    },
    "language_info": {
      "name": "python"
    }
  },
  "cells": [
    {
      "cell_type": "code",
      "source": [
        "class TestManagement():\n",
        "    def __init__(self):\n",
        "        self.testOutputZeros = {}\n",
        "        self.testOutputOnes = {}\n",
        "\n",
        "    def store_random_data(self, key, randomData):\n",
        "        self.testOutputZeros[key] = randomData.count('0')\n",
        "        self.testOutputOnes[key] = randomData.count('1')\n",
        "\n",
        "    def basic_prediction(self, key):\n",
        "        predictOneSuccess = self.testOutputOnes[key] / (self.testOutputZeros[key] + self.testOutputOnes[key])\n",
        "        predictZeroSuccess = 1 - predictOneSuccess\n",
        "        return max(predictOneSuccess, predictZeroSuccess)\n",
        "\n",
        "    def check_bias(self, key):\n",
        "        predictOneSuccess = self.testOutputOnes[key] / (self.testOutputZeros[key] + self.testOutputOnes[key])\n",
        "        predictZeroSuccess = 1 - predictOneSuccess\n",
        "        print(\"'1' character percentage:\", predictOneSuccess)\n",
        "        print(\"'0' character percentage:\", predictZeroSuccess)\n",
        "            \n",
        "\n",
        "\n",
        "def CrudePRNG_output(self, seed=0, length=100):\n",
        "    nextBit = seed%2\n",
        "    if (nextBit == 1):\n",
        "        output = \"10\" * int(length/2)\n",
        "    else:\n",
        "        output = \"01\" * int(length/2)\n",
        "\n",
        "    if (length%2 == 1):\n",
        "        output += str(nextBit)\n",
        "        if (nextBit == 0): nextBit = 1\n",
        "        else: nextBit = 0\n",
        "    \n",
        "    return output\n"
      ],
      "metadata": {
        "id": "gBAxXGQh1Cqc"
      },
      "execution_count": null,
      "outputs": []
    },
    {
      "cell_type": "code",
      "source": [],
      "metadata": {
        "id": "RT0lNMHYfSO3"
      },
      "execution_count": null,
      "outputs": []
    },
    {
      "cell_type": "code",
      "source": [],
      "metadata": {
        "id": "DVrvQGlUfSj7"
      },
      "execution_count": null,
      "outputs": []
    }
  ]
}