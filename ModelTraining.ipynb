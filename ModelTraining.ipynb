{
  "nbformat": 4,
  "nbformat_minor": 0,
  "metadata": {
    "colab": {
      "provenance": []
    },
    "kernelspec": {
      "name": "python3",
      "display_name": "Python 3"
    },
    "language_info": {
      "name": "python"
    }
  },
  "cells": [
    {
      "cell_type": "code",
      "source": [
        "class TestManagement():\n",
        "    def __init__(self):\n",
        "        self.testOutputZeros = {}\n",
        "        self.testOutputOnes = {}\n",
        "\n",
        "    def store_random_data(self, key, randomData):\n",
        "        self.testOutputZeros[key] = randomData.count('0')\n",
        "        self.testOutputOnes[key] = randomData.count('1')\n",
        "\n",
        "    def basic_prediction(self, key):\n",
        "        predictOneSuccess = self.testOutputOnes[key] / (self.testOutputZeros[key] + self.testOutputOnes[key])\n",
        "        predictZeroSuccess = 1 - predictOneSuccess\n",
        "        return max(predictOneSuccess, predictZeroSuccess)\n",
        "\n",
        "    def check_bias(self, key):\n",
        "        predictOneSuccess = self.testOutputOnes[key] / (self.testOutputZeros[key] + self.testOutputOnes[key])\n",
        "        predictZeroSuccess = 1 - predictOneSuccess\n",
        "        print(\"'1' character percentage:\", predictOneSuccess)\n",
        "        print(\"'0' character percentage:\", predictZeroSuccess)\n",
        "            \n",
        "\n",
        "\n",
        "def CrudePRNG_output(self, seed=0, length=100):\n",
        "    nextBit = seed%2\n",
        "    if (nextBit == 1):\n",
        "        output = \"10\" * int(length/2)\n",
        "    else:\n",
        "        output = \"01\" * int(length/2)\n",
        "\n",
        "    if (length%2 == 1):\n",
        "        output += str(nextBit)\n",
        "        if (nextBit == 0): nextBit = 1\n",
        "        else: nextBit = 0\n",
        "    \n",
        "    return output\n"
      ],
      "metadata": {
        "id": "gBAxXGQh1Cqc"
      },
      "execution_count": 1,
      "outputs": []
    },
    {
      "cell_type": "code",
      "source": [
        "import numpy as np\n",
        "from keras.layers import LSTM, Dense\n",
        "from keras.models import Sequential\n",
        "from sklearn.model_selection import train_test_split\n",
        "\n",
        "# Sets paramemters for generating train/test data\n",
        "num_samples = 1000\n",
        "sequence_length = 100\n",
        "\n",
        "# Creates a list of seeds to produce the training data\n",
        "seeds = np.random.randint(1000, size=(num_samples, 1))\n",
        "\n",
        "# Produces training data\n",
        "visibleOutput = []\n",
        "predictionBool = []\n",
        "for seed in seeds:\n",
        "  fullOutput = CrudePRNG_output(seed, sequence_length)\n",
        "  visibleOutput.append(fullOutput[:-1])\n",
        "  predictionBool.append(fullOutput[-1:])\n",
        "\n",
        "\n",
        "# Convert the list of binary strings to a numpy array\n",
        "X_data = np.array([[int(bit) for bit in binaryString] for binaryString in visibleOutput])\n",
        "# Reshape the array to match the input shape expected by the model\n",
        "X_data = X_data.reshape(len(visibleOutput), sequence_length-1, 1)\n",
        "\n",
        "\n",
        "# Convert the list of binary strings to a numpy array\n",
        "y_train = np.array([[int(bit) for bit in binaryString] for binaryString in predictionBool])\n",
        "# Reshape the array to match the input shape expected by the model\n",
        "y_train = y_train.reshape(len(predictionBool), 1, 1)\n",
        "\n",
        "\n",
        "# Percentage of data used for testing the created prediction model\n",
        "testDataPerc = 0.25\n",
        "x_train, x_test, y_train, y_test = train_test_split(X_data, y_train, test_size = testDataPerc, random_state = 0)\n",
        "\n",
        "\n",
        "# Sets the model type and sets the layers\n",
        "model = Sequential()\n",
        "model.add(LSTM(32, input_shape=(sequence_length-1, 1), return_sequences=False))\n",
        "model.add(LSTM(16, activation='relu',  return_sequences=False))\n",
        "model.add(LSTM(8, activation='relu', return_sequences=False))\n",
        "model.add(Dense(1, activation='sigmoid'))\n",
        "\n",
        "# Compiles the model\n",
        "model.compile(loss='binary_crossentropy', optimizer='adam', metrics=['accuracy'])\n",
        "\n",
        "# Train the model with the x/y train data\n",
        "model.fit(x_train, y_train, epochs=10, batch_size=32)\n",
        "\n",
        "# Evaluates the model using the x/y test data\n",
        "loss, accuracy = model.evaluate(x_test, y_test)\n"
      ],
      "metadata": {
        "colab": {
          "base_uri": "https://localhost:8080/"
        },
        "outputId": "46787d12-5fc3-48bd-dad0-3243cda994ed",
        "id": "-aXw0W6qoaLe"
      },
      "execution_count": null,
      "outputs": [
        {
          "output_type": "stream",
          "name": "stdout",
          "text": [
            "Epoch 1/10\n",
            "24/24 [==============================] - 5s 16ms/step - loss: 0.6820 - accuracy: 0.5187\n",
            "Epoch 2/10\n",
            "24/24 [==============================] - 0s 12ms/step - loss: 0.6390 - accuracy: 0.5867\n",
            "Epoch 3/10\n",
            "24/24 [==============================] - 0s 14ms/step - loss: 0.4617 - accuracy: 1.0000\n",
            "Epoch 4/10\n",
            "24/24 [==============================] - 0s 9ms/step - loss: 0.0845 - accuracy: 1.0000\n",
            "Epoch 5/10\n",
            "24/24 [==============================] - 0s 8ms/step - loss: 0.0015 - accuracy: 1.0000\n",
            "Epoch 6/10\n",
            "24/24 [==============================] - 0s 7ms/step - loss: 2.9263e-04 - accuracy: 1.0000\n",
            "Epoch 7/10\n",
            "24/24 [==============================] - 0s 7ms/step - loss: 1.7654e-04 - accuracy: 1.0000\n",
            "Epoch 8/10\n",
            "24/24 [==============================] - 0s 7ms/step - loss: 1.2356e-04 - accuracy: 1.0000\n",
            "Epoch 9/10\n",
            "24/24 [==============================] - 0s 7ms/step - loss: 9.0715e-05 - accuracy: 1.0000\n",
            "Epoch 10/10\n",
            "24/24 [==============================] - 0s 7ms/step - loss: 6.8211e-05 - accuracy: 1.0000\n",
            "8/8 [==============================] - 0s 5ms/step - loss: 6.2447e-05 - accuracy: 1.0000\n"
          ]
        }
      ]
    }
  ]
}