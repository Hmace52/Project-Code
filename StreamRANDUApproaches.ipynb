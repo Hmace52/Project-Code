{
  "nbformat": 4,
  "nbformat_minor": 0,
  "metadata": {
    "colab": {
      "provenance": []
    },
    "kernelspec": {
      "name": "python3",
      "display_name": "Python 3"
    },
    "language_info": {
      "name": "python"
    },
    "accelerator": "GPU",
    "gpuClass": "standard"
  },
  "cells": [
    {
      "cell_type": "markdown",
      "source": [
        "## Required installs/imports\n"
      ],
      "metadata": {
        "id": "gEtAF1ghdNj-"
      }
    },
    {
      "cell_type": "code",
      "source": [
        "!pip install pure-prng"
      ],
      "metadata": {
        "id": "t3QeVxqDH5qP",
        "colab": {
          "base_uri": "https://localhost:8080/"
        },
        "outputId": "4006de77-e459-4939-e88a-ac7031174643"
      },
      "execution_count": 1,
      "outputs": [
        {
          "output_type": "stream",
          "name": "stdout",
          "text": [
            "Looking in indexes: https://pypi.org/simple, https://us-python.pkg.dev/colab-wheels/public/simple/\n",
            "Collecting pure-prng\n",
            "  Downloading pure_prng-2.9.0-py3-none-any.whl (32 kB)\n",
            "Collecting pure-nrng>=1.1.0\n",
            "  Downloading pure_nrng-1.1.0-py3-none-any.whl (21 kB)\n",
            "Collecting randomgen>=1.20.3\n",
            "  Downloading randomgen-1.23.1-cp39-cp39-manylinux_2_17_x86_64.manylinux2014_x86_64.whl (3.2 MB)\n",
            "\u001b[2K     \u001b[90m━━━━━━━━━━━━━━━━━━━━━━━━━━━━━━━━━━━━━━━━\u001b[0m \u001b[32m3.2/3.2 MB\u001b[0m \u001b[31m23.8 MB/s\u001b[0m eta \u001b[36m0:00:00\u001b[0m\n",
            "\u001b[?25hCollecting gmpy2>=2.0.8\n",
            "  Downloading gmpy2-2.1.5-cp39-cp39-manylinux_2_17_x86_64.manylinux2014_x86_64.whl (1.7 MB)\n",
            "\u001b[2K     \u001b[90m━━━━━━━━━━━━━━━━━━━━━━━━━━━━━━━━━━━━━━━━\u001b[0m \u001b[32m1.7/1.7 MB\u001b[0m \u001b[31m36.1 MB/s\u001b[0m eta \u001b[36m0:00:00\u001b[0m\n",
            "\u001b[?25hRequirement already satisfied: numpy>=1.17 in /usr/local/lib/python3.9/dist-packages (from randomgen>=1.20.3->pure-prng) (1.22.4)\n",
            "Installing collected packages: gmpy2, randomgen, pure-nrng, pure-prng\n",
            "Successfully installed gmpy2-2.1.5 pure-nrng-1.1.0 pure-prng-2.9.0 randomgen-1.23.1\n"
          ]
        }
      ]
    },
    {
      "cell_type": "code",
      "execution_count": 2,
      "metadata": {
        "id": "RvbBxhpgt7Ig"
      },
      "outputs": [],
      "source": [
        "# Necessary imports\n",
        "from pure_prng_package import pure_prng\n",
        "import numpy as np\n",
        "import tensorflow as tf\n",
        "from keras.layers import *\n",
        "from keras.models import Sequential\n",
        "from sklearn.model_selection import train_test_split\n",
        "from keras.optimizers import Adam\n",
        "import matplotlib.pyplot as plt\n",
        "import math\n",
        "import time"
      ]
    },
    {
      "cell_type": "markdown",
      "source": [
        "## Classes to provide data generation/evaluation methods"
      ],
      "metadata": {
        "id": "T0n19N9-dRnD"
      }
    },
    {
      "cell_type": "code",
      "source": [
        "# Class used to access my implmentations of PRNGs\n",
        "class PRNGManagement():\n",
        "  # Initialises object and sets the default seed\n",
        "  def __init__(self, seed=0):\n",
        "      self.seed = seed\n",
        "      self.random_number:int = seed\n",
        "      self.currentGenerator = self.zero_only_PRNG()\n",
        "\n",
        "  # Method to seed the PRNG (seeds all PRNGs in class)\n",
        "  def seed_PRNG(self, seed:int):\n",
        "    self.seed:int = seed\n",
        "    self.random_number:int = seed\n",
        "\n",
        "  def set_generator(self, generatorMethod):\n",
        "    self.currentGenerator = generatorMethod\n",
        "\n",
        "  def bit_success(self, model, inputData, trueOutputs, sequence_length):\n",
        "    \"\"\" \n",
        "    Method to evaluate the provided model and store the amount of\n",
        "    successful predictions for each bit of the output\n",
        "    :param model: keras model - Model used to generate predicitions\n",
        "    :param trueOutputs: list[list[int]]- List containing the expected y outputs\n",
        "    :param sequence_length: int - Length of generated binary string being predicited\n",
        "    :return list[int] - Amount of successful predictions for each bit\n",
        "    \"\"\"\n",
        "    # Set initial amount of successful predictions for each bit to zero\n",
        "    successfulPredicts = [0]*sequence_length\n",
        "    # Feeds the input data to the model and stores the predictions made\n",
        "    predicted = (model.predict(inputData).round())\n",
        "    # Iterate over all outputed data\n",
        "    for testIndex in range(0, len(inputData)):\n",
        "      # Iterate over each bit in output\n",
        "      for i in range(sequence_length):\n",
        "        # If the predicted bit matches the true bit value then increment the successful predicts for the current bit\n",
        "        if predicted[testIndex][i] == trueOutputs[testIndex][i]: successfulPredicts[i] += 1\n",
        "        # Prediction may be greater than 1 if the prediction is made with high certainity\n",
        "        elif predicted[testIndex][i] > 1 and trueOutputs[testIndex][i] == 1: self.successfulPredicts[i] += 1\n",
        "\n",
        "    return successfulPredicts\n",
        "   \n",
        "\n",
        "  def zero_only_PRNG(self, length=100):\n",
        "    \"\"\" \n",
        "    Returns a binary string containing only 0 of specified length.\n",
        "    Used to test for major flaws in models\n",
        "    :param length: int - Length of generated binary string\n",
        "    :return string - generated binary string\n",
        "    \"\"\"\n",
        "    return \"0\" * length        \n",
        "\n",
        "\n",
        "  def alternating_bits_PRNG(self, length=100):\n",
        "    \"\"\" \n",
        "    Returns output of a basic PRNG implementation that alernates each bit (010101)\n",
        "    :param length: int - Length of generated binary string\n",
        "    :return string - generated binary string\n",
        "    \"\"\"\n",
        "    # Use seed to determine the starting bit of the generated binary string\n",
        "    self.seed = self.seed%2\n",
        "    # Utilises efficent method to repeat a string pattern\n",
        "    if (self.seed == 1):\n",
        "        output = \"10\" * int(length/2)\n",
        "    else:\n",
        "        output = \"01\" * int(length/2)\n",
        "\n",
        "    # Length of generated binary string is odd\n",
        "    if (length%2 == 1):\n",
        "      # Add final bit to string\n",
        "      output += str(self.seed)\n",
        "      # Set the new seed value\n",
        "      if (self.seed == 0): self.seed = 1\n",
        "      else: self.seed = 0\n",
        "    \n",
        "    return output\n",
        "\n",
        "\n",
        "  def alternating_num_PRNG(self):\n",
        "    \"\"\" \n",
        "    Returns output of a basic PRNG implementation that alernates between two binary strings\n",
        "    :return string - generated binary string\n",
        "    \"\"\"\n",
        "    # Use seed to determine the binary string to be returned\n",
        "    self.seed = (self.seed+1)%2\n",
        "    if (self.seed == 0):\n",
        "      # Convert integer to a binary string \n",
        "      randomBinary = str(bin(1643712566))[2:]\n",
        "      # Returns binary string after ensuring a minimum length of 32\n",
        "      return (32-len(randomBinary))*\"0\" + randomBinary\n",
        "    else:\n",
        "      # Convert integer to a binary string \n",
        "      randomBinary = str(bin(2372817037))[2:]\n",
        "      # Returns binary string after ensuring a minimum length of 32\n",
        "      return (32-len(randomBinary))*\"0\" + randomBinary\n",
        "\n",
        "\n",
        "  def basic_equation_based(self, mult:int, add:int, mod:int, leng:int) -> str:\n",
        "    \"\"\" \n",
        "    Returns output of a very weak equation based PRNG implementation\n",
        "    Expected to be predicted near perfectly\n",
        "    :return string - generated binary string\n",
        "    \"\"\"\n",
        "    # Generates random number using previous output as seed\n",
        "    self.random_number = (mult * self.random_number + add) % 2**mod\n",
        "    # Converts generated number to a binary string\n",
        "    bits_string = bin(self.random_number)[2:]\n",
        "    # Returns binary string after using padding to ensure a length of 32\n",
        "    return bits_string.zfill(leng)\n",
        "\n",
        "\n",
        "  ## Different implmentations of equation based generators\n",
        "  def basic_equation_based1(self) -> str:\n",
        "    return self.basic_equation_based(20, 52, 32, 32)\n",
        "\n",
        "  def basic_equation_based2(self) -> str:\n",
        "    return self.basic_equation_based(36791, 83247, 32, 32)\n",
        "\n",
        "  # Expects odd starting seed\n",
        "  # Imeplementation of the PRNG 'RANDU' - Outdated PRNG\n",
        "  def RANDU(self) -> str:\n",
        "    return self.basic_equation_based(65539, 0, 31, 32)\n",
        "\n",
        "  # Get stream of binary data form current generator\n",
        "  def get_stream(self, number_of_blocks:int):\n",
        "    stream = []\n",
        "    for _ in range(number_of_blocks):\n",
        "      # Converts generated binary string to list of ints\n",
        "      block = [int(bit) for bit in self.currentGenerator()] \n",
        "      stream.extend(block)\n",
        "    return stream"
      ],
      "metadata": {
        "id": "5XBLpCikQu5X"
      },
      "execution_count": 3,
      "outputs": []
    },
    {
      "cell_type": "code",
      "source": [
        "# Class used to manage the PRNGs offered by the PRNG library\n",
        "class PRNGLibManagement():\n",
        "  def __init__(self, PRNGType:str, outputLen:int):\n",
        "    self.change_PRNG(PRNGType, outputLen)\n",
        "\n",
        "  # Change the type of the current PRNG\n",
        "  def change_PRNG(self, PRNGType:str, outputLen:int):\n",
        "    self.outputLen = outputLen\n",
        "    self.PRNGType = PRNGType\n",
        "    self.currentGen = pure_prng(int(time.time()), prng_type=PRNGType).source_random_number()\n",
        "\n",
        "  # Seed the current PRNG\n",
        "  def seed_current(self, seed=int(time.time())):\n",
        "    self.currentGen = pure_prng(int(seed), prng_type=self.PRNGType).source_random_number()\n",
        "\n",
        "  # Generates an output from the curent PRNG\n",
        "  def output_current(self):\n",
        "    # Converts generated number to a binary string\n",
        "    bits_string = bin(next(self.currentGen))[2:]\n",
        "    # Returns binary string after using padding to ensure a consistent length\n",
        "    return bits_string.zfill(self.outputLen)\n",
        "\n",
        "  # Generates output from current PRNG as a list containing the integer bits\n",
        "  def next_ints(self):\n",
        "    # Converts generated binary string to list of ints\n",
        "    return [int(bit) for bit in self.output_current()] \n",
        "\n",
        "  # Get stream of binary data form current generator\n",
        "  def get_stream(self, number_of_blocks:int):\n",
        "    stream = []\n",
        "    for _ in range(number_of_blocks):\n",
        "      block = self.next_ints()\n",
        "      stream.extend(block)\n",
        "    return stream"
      ],
      "metadata": {
        "id": "-GBuWcChUelq"
      },
      "execution_count": 4,
      "outputs": []
    },
    {
      "cell_type": "markdown",
      "source": [
        "## Data generation function to be used during data production"
      ],
      "metadata": {
        "id": "dgeMdcbIdvIV"
      }
    },
    {
      "cell_type": "code",
      "source": [
        "# Creates object to use the 'Ran64' PRNG\n",
        "PRNGLibHandler = PRNGLibManagement(\"Ran64\", 64)\n",
        "# Creates object to use 'RANDU' PRNG\n",
        "PRNGHandler = PRNGManagement(1)\n",
        "PRNGHandler.set_generator(PRNGHandler.RANDU)\n",
        "\n",
        "def generatorOutput(blockNum): return PRNGHandler.get_stream(blockNum)\n",
        "def seedGenerator(seed): PRNGHandler.seed_PRNG(seed)"
      ],
      "metadata": {
        "id": "LGELTqwOVa9h"
      },
      "execution_count": 9,
      "outputs": []
    },
    {
      "cell_type": "markdown",
      "source": [
        "## Setting parameters for data generation"
      ],
      "metadata": {
        "id": "et5qzmMCfX1V"
      }
    },
    {
      "cell_type": "code",
      "source": [
        "### Setting parameters\n",
        "# Sets paramemters for generating train/test data\n",
        "num_blocks = 10000\n",
        "sequence_length = 32\n",
        "\n",
        "# Number of samples must be a multiple of 100 to prevent an error\n",
        "num_samples = (num_blocks-1)*sequence_length\n",
        "\n",
        "print(\"Number of samples: \", num_samples)"
      ],
      "metadata": {
        "id": "3KJKALf4fYvG",
        "colab": {
          "base_uri": "https://localhost:8080/"
        },
        "outputId": "45d6bb04-3464-4df5-d9e0-bbbe38d078ff"
      },
      "execution_count": 10,
      "outputs": [
        {
          "output_type": "stream",
          "name": "stdout",
          "text": [
            "Number of samples:  319968\n"
          ]
        }
      ]
    },
    {
      "cell_type": "markdown",
      "source": [
        "## Produces data for training/testing"
      ],
      "metadata": {
        "id": "XmBONkQVsfc8"
      }
    },
    {
      "cell_type": "code",
      "execution_count": 13,
      "metadata": {
        "id": "L-H_--JU6MG7"
      },
      "outputs": [],
      "source": [
        "# Seed generator\n",
        "seedGenerator(23)\n",
        "# Get stream data \n",
        "streamData = generatorOutput(num_blocks)\n",
        "\n",
        "# Stores output in variable to allow the sample to be featued in both x and y data\n",
        "X_data, Y_data = [], []\n",
        "\n",
        "# Extracts stream data samples\n",
        "for i in range(num_samples):\n",
        "  X_data.append(streamData[i:i+sequence_length])\n",
        "  Y_data.append([streamData[i+sequence_length]])\n",
        "\n",
        "# Deletes variables to save memory\n",
        "del streamData"
      ]
    },
    {
      "cell_type": "markdown",
      "source": [
        "## Splitting data into training/testing sets"
      ],
      "metadata": {
        "id": "Iyva9G6Bsiu6"
      }
    },
    {
      "cell_type": "code",
      "source": [
        "### Separate data into training/testing sets\n",
        "# Percentage of data used for testing the created prediction model\n",
        "testDataPerc = 0.2\n",
        "\n",
        "x_train, x_test, y_train, y_test = train_test_split(X_data, Y_data, test_size = testDataPerc, random_state = 5)\n",
        "\n",
        "del X_data\n",
        "del Y_data"
      ],
      "metadata": {
        "id": "BkYDUqe1Eg9X"
      },
      "execution_count": 14,
      "outputs": []
    },
    {
      "cell_type": "markdown",
      "source": [
        "## Creation and taining of different models"
      ],
      "metadata": {
        "id": "Dzn6PoDxsoFn"
      }
    },
    {
      "cell_type": "markdown",
      "source": [
        "#### Dense + Normalisation + Dropout"
      ],
      "metadata": {
        "id": "w8H8DtNPwAVb"
      }
    },
    {
      "cell_type": "code",
      "execution_count": 15,
      "metadata": {
        "colab": {
          "base_uri": "https://localhost:8080/"
        },
        "id": "yx3kGN-5tXFp",
        "outputId": "598701d3-4206-4c9d-be59-1de0956e9c82"
      },
      "outputs": [
        {
          "output_type": "stream",
          "name": "stdout",
          "text": [
            "Model: \"sequential\"\n",
            "_________________________________________________________________\n",
            " Layer (type)                Output Shape              Param #   \n",
            "=================================================================\n",
            " dense (Dense)               (None, 32)                1056      \n",
            "                                                                 \n",
            " batch_normalization (BatchN  (None, 32)               128       \n",
            " ormalization)                                                   \n",
            "                                                                 \n",
            " dropout (Dropout)           (None, 32)                0         \n",
            "                                                                 \n",
            " batch_normalization_1 (Batc  (None, 32)               128       \n",
            " hNormalization)                                                 \n",
            "                                                                 \n",
            " dense_1 (Dense)             (None, 16)                528       \n",
            "                                                                 \n",
            " batch_normalization_2 (Batc  (None, 16)               64        \n",
            " hNormalization)                                                 \n",
            "                                                                 \n",
            " dense_2 (Dense)             (None, 1)                 17        \n",
            "                                                                 \n",
            "=================================================================\n",
            "Total params: 1,921\n",
            "Trainable params: 1,761\n",
            "Non-trainable params: 160\n",
            "_________________________________________________________________\n"
          ]
        }
      ],
      "source": [
        "# Sets parameters for model\n",
        "epochs = 10\n",
        "\n",
        "# Strategy to utilise GPU \n",
        "strategy = tf.distribute.OneDeviceStrategy('/gpu:0')\n",
        "\n",
        "# Model compilation using GPU\n",
        "with strategy.scope():\n",
        "  model = Sequential()\n",
        "  model.add(Dense(sequence_length, input_shape=(sequence_length, ), activation='relu'))\n",
        "  model.add(BatchNormalization())\n",
        "  model.add(Dropout(rate=0.1))\n",
        "  model.add(BatchNormalization())\n",
        "  model.add(Dense(sequence_length//2, activation='relu'))\n",
        "  model.add(BatchNormalization())\n",
        "  model.add(Dense(1, activation='sigmoid'))\n",
        "\n",
        "model.compile(loss='binary_crossentropy', optimizer=\"Adam\", metrics=['accuracy'])\n",
        "\n",
        "model.summary()"
      ]
    },
    {
      "cell_type": "code",
      "execution_count": 16,
      "metadata": {
        "colab": {
          "base_uri": "https://localhost:8080/"
        },
        "id": "Pr4ICgfxAVur",
        "outputId": "7bcea42f-45e9-493e-f01f-58a3be854bbd"
      },
      "outputs": [
        {
          "output_type": "stream",
          "name": "stdout",
          "text": [
            "Epoch 1/10\n",
            "2560/2560 [==============================] - 39s 12ms/step - loss: 0.6512 - accuracy: 0.6201 - val_loss: 0.5488 - val_accuracy: 0.7212\n",
            "Epoch 2/10\n",
            "2560/2560 [==============================] - 20s 8ms/step - loss: 0.5247 - accuracy: 0.7246 - val_loss: 0.4834 - val_accuracy: 0.7428\n",
            "Epoch 3/10\n",
            "2560/2560 [==============================] - 20s 8ms/step - loss: 0.4939 - accuracy: 0.7351 - val_loss: 0.4686 - val_accuracy: 0.7472\n",
            "Epoch 4/10\n",
            "2560/2560 [==============================] - 18s 7ms/step - loss: 0.4819 - accuracy: 0.7414 - val_loss: 0.4584 - val_accuracy: 0.7518\n",
            "Epoch 5/10\n",
            "2560/2560 [==============================] - 17s 7ms/step - loss: 0.4757 - accuracy: 0.7437 - val_loss: 0.4504 - val_accuracy: 0.7534\n",
            "Epoch 6/10\n",
            "2560/2560 [==============================] - 17s 7ms/step - loss: 0.4713 - accuracy: 0.7452 - val_loss: 0.4500 - val_accuracy: 0.7537\n",
            "Epoch 7/10\n",
            "2560/2560 [==============================] - 18s 7ms/step - loss: 0.4673 - accuracy: 0.7474 - val_loss: 0.4452 - val_accuracy: 0.7541\n",
            "Epoch 8/10\n",
            "2560/2560 [==============================] - 16s 6ms/step - loss: 0.4644 - accuracy: 0.7478 - val_loss: 0.4409 - val_accuracy: 0.7586\n",
            "Epoch 9/10\n",
            "2560/2560 [==============================] - 17s 6ms/step - loss: 0.4616 - accuracy: 0.7503 - val_loss: 0.4424 - val_accuracy: 0.7605\n",
            "Epoch 10/10\n",
            "2560/2560 [==============================] - 17s 7ms/step - loss: 0.4592 - accuracy: 0.7507 - val_loss: 0.4392 - val_accuracy: 0.7607\n"
          ]
        }
      ],
      "source": [
        "batch_size = 100\n",
        "# Train the model with the x/y train data and validate using the test data after each epoch\n",
        "history = model.fit(x_train, y_train, validation_data=(x_test, y_test), epochs=epochs, batch_size=batch_size)"
      ]
    },
    {
      "cell_type": "code",
      "source": [
        "model.save(\"RANDUDND1.h5\")"
      ],
      "metadata": {
        "id": "ePIJFfV4bU2X"
      },
      "execution_count": 19,
      "outputs": []
    },
    {
      "cell_type": "markdown",
      "source": [
        "#### Long Short-Term Memory"
      ],
      "metadata": {
        "id": "kmpIQ40VwJSw"
      }
    },
    {
      "cell_type": "code",
      "source": [
        "# Sets parameters for model\n",
        "epochs = 10\n",
        "\n",
        "# Strategy to utilise GPU \n",
        "strategy = tf.distribute.OneDeviceStrategy('/gpu:0')\n",
        "\n",
        "# Model compilation using GPU\n",
        "with strategy.scope():\n",
        "  model = Sequential()\n",
        "  model.add(LSTM(int(sequence_length), input_shape=(sequence_length, 1), return_sequences=True))\n",
        "  model.add(LSTM(int(sequence_length/1.5), return_sequences=True))\n",
        "  model.add(LSTM(int(sequence_length/2)))\n",
        "  model.add(Dense(1, activation='sigmoid'))\n",
        "\n",
        "\n",
        "  model.compile(loss='binary_crossentropy', optimizer=\"Adam\", metrics=['accuracy'])\n",
        "\n",
        "  model.summary()"
      ],
      "metadata": {
        "colab": {
          "base_uri": "https://localhost:8080/"
        },
        "id": "tTPCqRdDFb54",
        "outputId": "ffe1179b-851f-491f-df66-8ddb6a8c04d5"
      },
      "execution_count": 20,
      "outputs": [
        {
          "output_type": "stream",
          "name": "stdout",
          "text": [
            "Model: \"sequential_1\"\n",
            "_________________________________________________________________\n",
            " Layer (type)                Output Shape              Param #   \n",
            "=================================================================\n",
            " lstm (LSTM)                 (None, 32, 32)            4352      \n",
            "                                                                 \n",
            " lstm_1 (LSTM)               (None, 32, 21)            4536      \n",
            "                                                                 \n",
            " lstm_2 (LSTM)               (None, 16)                2432      \n",
            "                                                                 \n",
            " dense_3 (Dense)             (None, 1)                 17        \n",
            "                                                                 \n",
            "=================================================================\n",
            "Total params: 11,337\n",
            "Trainable params: 11,337\n",
            "Non-trainable params: 0\n",
            "_________________________________________________________________\n"
          ]
        }
      ]
    },
    {
      "cell_type": "code",
      "source": [
        "batch_size = 100\n",
        "# Train the model with the x/y train data and validate using the test data after each epoch\n",
        "history = model.fit(x_train, y_train, validation_data=(x_test, y_test), epochs=epochs, batch_size=batch_size)"
      ],
      "metadata": {
        "colab": {
          "base_uri": "https://localhost:8080/"
        },
        "id": "eMY1z2lhFcX7",
        "outputId": "6ee20f43-b8dd-4768-cbd4-0baa26c0cdeb"
      },
      "execution_count": 21,
      "outputs": [
        {
          "output_type": "stream",
          "name": "stdout",
          "text": [
            "Epoch 1/10\n",
            "2560/2560 [==============================] - 43s 14ms/step - loss: 0.6927 - accuracy: 0.5149 - val_loss: 0.6929 - val_accuracy: 0.5163\n",
            "Epoch 2/10\n",
            "2560/2560 [==============================] - 27s 10ms/step - loss: 0.6931 - accuracy: 0.5111 - val_loss: 0.6926 - val_accuracy: 0.5286\n",
            "Epoch 3/10\n",
            "2560/2560 [==============================] - 27s 11ms/step - loss: 0.6919 - accuracy: 0.5217 - val_loss: 0.6920 - val_accuracy: 0.5253\n",
            "Epoch 4/10\n",
            "2560/2560 [==============================] - 27s 10ms/step - loss: 0.6917 - accuracy: 0.5231 - val_loss: 0.6913 - val_accuracy: 0.5233\n",
            "Epoch 5/10\n",
            "2560/2560 [==============================] - 28s 11ms/step - loss: 0.6834 - accuracy: 0.5584 - val_loss: 0.6771 - val_accuracy: 0.5888\n",
            "Epoch 6/10\n",
            "2560/2560 [==============================] - 29s 11ms/step - loss: 0.6757 - accuracy: 0.5900 - val_loss: 0.6759 - val_accuracy: 0.5888\n",
            "Epoch 7/10\n",
            "2560/2560 [==============================] - 32s 13ms/step - loss: 0.6759 - accuracy: 0.5876 - val_loss: 0.6718 - val_accuracy: 0.5604\n",
            "Epoch 8/10\n",
            "2560/2560 [==============================] - 33s 13ms/step - loss: 0.6723 - accuracy: 0.5571 - val_loss: 0.6887 - val_accuracy: 0.5426\n",
            "Epoch 9/10\n",
            "2560/2560 [==============================] - 32s 13ms/step - loss: 0.6379 - accuracy: 0.6451 - val_loss: 0.6066 - val_accuracy: 0.6982\n",
            "Epoch 10/10\n",
            "2560/2560 [==============================] - 26s 10ms/step - loss: 0.6075 - accuracy: 0.6953 - val_loss: 0.6038 - val_accuracy: 0.7000\n"
          ]
        }
      ]
    },
    {
      "cell_type": "code",
      "source": [
        "model.save(\"RANDULTSM1.h5\")"
      ],
      "metadata": {
        "id": "hyQLV_XLeJuE"
      },
      "execution_count": 22,
      "outputs": []
    },
    {
      "cell_type": "markdown",
      "source": [
        "#### Conv1d"
      ],
      "metadata": {
        "id": "8W92TcPPwSZm"
      }
    },
    {
      "cell_type": "code",
      "source": [
        "# Sets parameters for produced model\n",
        "epochs = 10\n",
        "\n",
        "# Strategy to utilise GPU \n",
        "strategy = tf.distribute.OneDeviceStrategy('/gpu:0')\n",
        "\n",
        "# Model compilation using GPU\n",
        "with strategy.scope():\n",
        "  model = Sequential()\n",
        "  model.add(Conv1D(filters=128, kernel_size=3, activation='relu', input_shape=(sequence_length,1)))\n",
        "  model.add(Flatten())\n",
        "  model.add(Dense(sequence_length, input_shape=(sequence_length, ), activation='relu'))\n",
        "  model.add(Dense(1, activation='sigmoid'))\n",
        "\n",
        "model.compile(loss='binary_crossentropy', optimizer=\"Adam\", metrics=['accuracy'])\n",
        "\n",
        "model.summary()"
      ],
      "metadata": {
        "colab": {
          "base_uri": "https://localhost:8080/"
        },
        "id": "VH3DYGo1KVjR",
        "outputId": "2d63cd8d-5dc1-4e71-f51e-1fa8cf668976"
      },
      "execution_count": 23,
      "outputs": [
        {
          "output_type": "stream",
          "name": "stdout",
          "text": [
            "Model: \"sequential_2\"\n",
            "_________________________________________________________________\n",
            " Layer (type)                Output Shape              Param #   \n",
            "=================================================================\n",
            " conv1d (Conv1D)             (None, 30, 128)           512       \n",
            "                                                                 \n",
            " flatten (Flatten)           (None, 3840)              0         \n",
            "                                                                 \n",
            " dense_4 (Dense)             (None, 32)                122912    \n",
            "                                                                 \n",
            " dense_5 (Dense)             (None, 1)                 33        \n",
            "                                                                 \n",
            "=================================================================\n",
            "Total params: 123,457\n",
            "Trainable params: 123,457\n",
            "Non-trainable params: 0\n",
            "_________________________________________________________________\n"
          ]
        }
      ]
    },
    {
      "cell_type": "code",
      "source": [
        "batch_size = 100\n",
        "# Train the model with the x/y train data and validate using the test data after each epoch\n",
        "history = model.fit(x_train, y_train, validation_data=(x_test, y_test), epochs=epochs, batch_size=batch_size)"
      ],
      "metadata": {
        "colab": {
          "base_uri": "https://localhost:8080/"
        },
        "id": "7SMzeGBfKXDu",
        "outputId": "203a2a7d-0545-4f56-d952-b8e26dbaa23e"
      },
      "execution_count": 24,
      "outputs": [
        {
          "output_type": "stream",
          "name": "stdout",
          "text": [
            "Epoch 1/10\n",
            "2560/2560 [==============================] - 26s 8ms/step - loss: 0.6207 - accuracy: 0.6427 - val_loss: 0.5995 - val_accuracy: 0.6569\n",
            "Epoch 2/10\n",
            "2560/2560 [==============================] - 12s 5ms/step - loss: 0.5655 - accuracy: 0.6949 - val_loss: 0.5294 - val_accuracy: 0.7119\n",
            "Epoch 3/10\n",
            "2560/2560 [==============================] - 12s 5ms/step - loss: 0.5197 - accuracy: 0.7100 - val_loss: 0.5107 - val_accuracy: 0.7136\n",
            "Epoch 4/10\n",
            "2560/2560 [==============================] - 12s 5ms/step - loss: 0.5083 - accuracy: 0.7277 - val_loss: 0.5033 - val_accuracy: 0.7375\n",
            "Epoch 5/10\n",
            "2560/2560 [==============================] - 12s 5ms/step - loss: 0.4957 - accuracy: 0.7405 - val_loss: 0.4866 - val_accuracy: 0.7417\n",
            "Epoch 6/10\n",
            "2560/2560 [==============================] - 13s 5ms/step - loss: 0.4821 - accuracy: 0.7446 - val_loss: 0.4786 - val_accuracy: 0.7451\n",
            "Epoch 7/10\n",
            "2560/2560 [==============================] - 13s 5ms/step - loss: 0.4772 - accuracy: 0.7477 - val_loss: 0.4780 - val_accuracy: 0.7438\n",
            "Epoch 8/10\n",
            "2560/2560 [==============================] - 14s 6ms/step - loss: 0.4746 - accuracy: 0.7480 - val_loss: 0.4806 - val_accuracy: 0.7431\n",
            "Epoch 9/10\n",
            "2560/2560 [==============================] - 14s 5ms/step - loss: 0.4731 - accuracy: 0.7484 - val_loss: 0.4722 - val_accuracy: 0.7465\n",
            "Epoch 10/10\n",
            "2560/2560 [==============================] - 14s 5ms/step - loss: 0.4723 - accuracy: 0.7487 - val_loss: 0.4709 - val_accuracy: 0.7470\n"
          ]
        }
      ]
    },
    {
      "cell_type": "code",
      "source": [
        "model.save(\"RANDUConv1D1.h5\")"
      ],
      "metadata": {
        "id": "77HrMgYNfHom"
      },
      "execution_count": 25,
      "outputs": []
    },
    {
      "cell_type": "markdown",
      "source": [
        "#### Conv1d + Normalisation + Dropout"
      ],
      "metadata": {
        "id": "_Jo1sgO-wUeI"
      }
    },
    {
      "cell_type": "code",
      "source": [
        "# Sets parameters for produced model\n",
        "epochs = 10\n",
        "\n",
        "# Strategy to utilise GPU \n",
        "strategy = tf.distribute.OneDeviceStrategy('/gpu:0')\n",
        "\n",
        "# Model compilation using GPU\n",
        "with strategy.scope():\n",
        "  model = Sequential()\n",
        "  model.add(Conv1D(filters=128, kernel_size=3, activation='relu', input_shape=(sequence_length,1)))\n",
        "  model.add(Flatten())\n",
        "  model.add(BatchNormalization())\n",
        "  model.add(Dropout(rate=0.1))\n",
        "  model.add(Dense(sequence_length, input_shape=(sequence_length, ), activation='relu'))\n",
        "  model.add(BatchNormalization())\n",
        "  model.add(Dense(1, activation='sigmoid'))\n",
        "\n",
        "model.compile(loss='binary_crossentropy', optimizer=\"Adam\", metrics=['accuracy'])\n",
        "\n",
        "model.summary()"
      ],
      "metadata": {
        "colab": {
          "base_uri": "https://localhost:8080/"
        },
        "id": "-1R2nd8dGSad",
        "outputId": "e3f817fa-b629-4fb0-b820-f8c72254a377"
      },
      "execution_count": 26,
      "outputs": [
        {
          "output_type": "stream",
          "name": "stdout",
          "text": [
            "Model: \"sequential_3\"\n",
            "_________________________________________________________________\n",
            " Layer (type)                Output Shape              Param #   \n",
            "=================================================================\n",
            " conv1d_1 (Conv1D)           (None, 30, 128)           512       \n",
            "                                                                 \n",
            " flatten_1 (Flatten)         (None, 3840)              0         \n",
            "                                                                 \n",
            " batch_normalization_3 (Batc  (None, 3840)             15360     \n",
            " hNormalization)                                                 \n",
            "                                                                 \n",
            " dropout_1 (Dropout)         (None, 3840)              0         \n",
            "                                                                 \n",
            " dense_6 (Dense)             (None, 32)                122912    \n",
            "                                                                 \n",
            " batch_normalization_4 (Batc  (None, 32)               128       \n",
            " hNormalization)                                                 \n",
            "                                                                 \n",
            " dense_7 (Dense)             (None, 1)                 33        \n",
            "                                                                 \n",
            "=================================================================\n",
            "Total params: 138,945\n",
            "Trainable params: 131,201\n",
            "Non-trainable params: 7,744\n",
            "_________________________________________________________________\n"
          ]
        }
      ]
    },
    {
      "cell_type": "code",
      "source": [
        "batch_size = 100\n",
        "# Train the model with the x/y train data and validate using the test data after each epoch\n",
        "history = model.fit(x_train, y_train, validation_data=(x_test, y_test), epochs=epochs, batch_size=batch_size)"
      ],
      "metadata": {
        "colab": {
          "base_uri": "https://localhost:8080/"
        },
        "id": "nt4W7dA1GmWv",
        "outputId": "d907bdaf-3274-4b43-8e6c-7c09348af7e2"
      },
      "execution_count": 27,
      "outputs": [
        {
          "output_type": "stream",
          "name": "stdout",
          "text": [
            "Epoch 1/10\n",
            "2560/2560 [==============================] - 25s 9ms/step - loss: 0.5428 - accuracy: 0.7135 - val_loss: 0.4827 - val_accuracy: 0.7435\n",
            "Epoch 2/10\n",
            "2560/2560 [==============================] - 17s 6ms/step - loss: 0.4724 - accuracy: 0.7494 - val_loss: 0.4536 - val_accuracy: 0.7582\n",
            "Epoch 3/10\n",
            "2560/2560 [==============================] - 16s 6ms/step - loss: 0.4582 - accuracy: 0.7585 - val_loss: 0.4421 - val_accuracy: 0.7647\n",
            "Epoch 4/10\n",
            "2560/2560 [==============================] - 15s 6ms/step - loss: 0.4507 - accuracy: 0.7626 - val_loss: 0.4384 - val_accuracy: 0.7681\n",
            "Epoch 5/10\n",
            "2560/2560 [==============================] - 16s 6ms/step - loss: 0.4453 - accuracy: 0.7654 - val_loss: 0.4349 - val_accuracy: 0.7696\n",
            "Epoch 6/10\n",
            "2560/2560 [==============================] - 15s 6ms/step - loss: 0.4427 - accuracy: 0.7675 - val_loss: 0.4305 - val_accuracy: 0.7706\n",
            "Epoch 7/10\n",
            "2560/2560 [==============================] - 15s 6ms/step - loss: 0.4406 - accuracy: 0.7683 - val_loss: 0.4300 - val_accuracy: 0.7716\n",
            "Epoch 8/10\n",
            "2560/2560 [==============================] - 17s 7ms/step - loss: 0.4382 - accuracy: 0.7695 - val_loss: 0.4293 - val_accuracy: 0.7725\n",
            "Epoch 9/10\n",
            "2560/2560 [==============================] - 18s 7ms/step - loss: 0.4375 - accuracy: 0.7694 - val_loss: 0.4287 - val_accuracy: 0.7710\n",
            "Epoch 10/10\n",
            "2560/2560 [==============================] - 23s 9ms/step - loss: 0.4356 - accuracy: 0.7709 - val_loss: 0.4267 - val_accuracy: 0.7706\n"
          ]
        }
      ]
    },
    {
      "cell_type": "code",
      "source": [
        "model.save(\"RANDUCND1.h5\")"
      ],
      "metadata": {
        "id": "q7jDaAmEgCCu"
      },
      "execution_count": 28,
      "outputs": []
    },
    {
      "cell_type": "markdown",
      "source": [
        "#### Graphing current model history"
      ],
      "metadata": {
        "id": "m9cleQ5wgWL4"
      }
    },
    {
      "cell_type": "code",
      "source": [
        "print(\"Plotting graph\")\n",
        "# Plot training & validation loss values\n",
        "# Plots loss data\n",
        "plt.plot(range(1, epochs+1), history.history['loss'])\n",
        "plt.plot(range(1, epochs+1), history.history['val_loss'])\n",
        "# Plots a label for each axis\n",
        "plt.ylabel('Loss Value')\n",
        "plt.xlabel('Epoch Number')\n",
        "# Plots the title\n",
        "plt.title('Model loss over epochs')\n",
        "# Plots the legend for each loss\n",
        "plt.legend(['Train', 'Validation'], loc='upper right')\n",
        "\n",
        "# Sets grid for plot\n",
        "plt.grid(linestyle='--', alpha=0.4)\n",
        "# Ensures the x-axis only contains integers\n",
        "plt.xticks(range(1, epochs+1))\n",
        "\n",
        "\n",
        "# Displays plot\n",
        "plt.show()\n"
      ],
      "metadata": {
        "colab": {
          "base_uri": "https://localhost:8080/",
          "height": 490
        },
        "id": "IjwVNqHagcR5",
        "outputId": "0ba9c2d7-0674-4c7f-c178-638d0b5b6ffa"
      },
      "execution_count": 29,
      "outputs": [
        {
          "output_type": "stream",
          "name": "stdout",
          "text": [
            "Plotting graph\n"
          ]
        },
        {
          "output_type": "display_data",
          "data": {
            "text/plain": [
              "<Figure size 640x480 with 1 Axes>"
            ],
            "image/png": "[encoded data removed]"
          },
          "metadata": {}
        }
      ]
    }
  ]
}