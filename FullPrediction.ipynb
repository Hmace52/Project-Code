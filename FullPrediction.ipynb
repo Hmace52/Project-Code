{
  "nbformat": 4,
  "nbformat_minor": 0,
  "metadata": {
    "colab": {
      "provenance": []
    },
    "kernelspec": {
      "name": "python3",
      "display_name": "Python 3"
    },
    "language_info": {
      "name": "python"
    },
    "accelerator": "GPU",
    "gpuClass": "standard"
  },
  "cells": [
    {
      "cell_type": "markdown",
      "source": [
        "## Required installs/imports\n"
      ],
      "metadata": {
        "id": "ACwLfIvoH2RW"
      }
    },
    {
      "cell_type": "code",
      "source": [
        "# Installs the library used to utilise modern PRNGs\n",
        "!pip install pure-prng"
      ],
      "metadata": {
        "id": "lcA2Ota8etY_",
        "colab": {
          "base_uri": "https://localhost:8080/"
        },
        "outputId": "78ca4cef-38df-4724-cc38-e4af828525cc"
      },
      "execution_count": null,
      "outputs": [
        {
          "output_type": "stream",
          "name": "stdout",
          "text": [
            "Looking in indexes: https://pypi.org/simple, https://us-python.pkg.dev/colab-wheels/public/simple/\n",
            "Collecting pure-prng\n",
            "  Downloading pure_prng-2.9.0-py3-none-any.whl (32 kB)\n",
            "Collecting gmpy2>=2.0.8\n",
            "  Downloading gmpy2-2.1.5-cp38-cp38-manylinux_2_17_x86_64.manylinux2014_x86_64.whl (1.7 MB)\n",
            "\u001b[2K     \u001b[90m━━━━━━━━━━━━━━━━━━━━━━━━━━━━━━━━━━━━━━━━\u001b[0m \u001b[32m1.7/1.7 MB\u001b[0m \u001b[31m16.2 MB/s\u001b[0m eta \u001b[36m0:00:00\u001b[0m\n",
            "\u001b[?25hCollecting randomgen>=1.20.3\n",
            "  Downloading randomgen-1.23.1-cp38-cp38-manylinux_2_17_x86_64.manylinux2014_x86_64.whl (3.2 MB)\n",
            "\u001b[2K     \u001b[90m━━━━━━━━━━━━━━━━━━━━━━━━━━━━━━━━━━━━━━━━\u001b[0m \u001b[32m3.2/3.2 MB\u001b[0m \u001b[31m21.0 MB/s\u001b[0m eta \u001b[36m0:00:00\u001b[0m\n",
            "\u001b[?25hCollecting pure-nrng>=1.1.0\n",
            "  Downloading pure_nrng-1.1.0-py3-none-any.whl (21 kB)\n",
            "Requirement already satisfied: numpy>=1.17 in /usr/local/lib/python3.8/dist-packages (from randomgen>=1.20.3->pure-prng) (1.22.4)\n",
            "Installing collected packages: gmpy2, randomgen, pure-nrng, pure-prng\n",
            "Successfully installed gmpy2-2.1.5 pure-nrng-1.1.0 pure-prng-2.9.0 randomgen-1.23.1\n"
          ]
        }
      ]
    },
    {
      "cell_type": "code",
      "execution_count": null,
      "metadata": {
        "id": "kVU2-FDUednR"
      },
      "outputs": [],
      "source": [
        "# Used to round floats\n",
        "import numpy as np\n",
        "# Aids seeding by allowing the current time to be used as a seed\n",
        "import time\n",
        "# Provides python implementations of common PRNGs\n",
        "from pure_prng_package import pure_prng\n",
        "\n",
        "# Necessary imports to allow model development\n",
        "import numpy as np\n",
        "import tensorflow as tf\n",
        "from keras.layers import LSTM, Dense\n",
        "from keras.models import Sequential\n",
        "from sklearn.model_selection import train_test_split\n",
        "from keras.optimizers import Adam"
      ]
    },
    {
      "cell_type": "markdown",
      "source": [
        "## Classes to provide data generation/evaluation methods"
      ],
      "metadata": {
        "id": "W_oyVFH-IAaA"
      }
    },
    {
      "cell_type": "code",
      "source": [
        "# Class used to access my implmentations of PRNGs\n",
        "class TestManagement():\n",
        "  # Initialises object and sets the default seed\n",
        "  def __init__(self):\n",
        "      self.seed = 0\n",
        "\n",
        "  # Method to seed the PRNG (seeds all PRNGs in class)\n",
        "  def seed_PRNG(self, seed):\n",
        "    self.seed = seed\n",
        "\n",
        "  def bit_success(self, model, inputData, trueOutputs, sequence_length):\n",
        "    \"\"\" \n",
        "    Method to evaluate the provided model and store the amount of\n",
        "    successful predictions for each bit of the output\n",
        "    :param model: keras model - Model used to generate predicitions\n",
        "    :param trueOutputs: list[list[int]]- List containing the expected y outputs\n",
        "    :param sequence_length: int - Length of generated binary string being predicited\n",
        "    :return list[int] - Amount of successful predictions for each bit\n",
        "    \"\"\"\n",
        "    # Set initial amount of successful predictions for each bit to zero\n",
        "    successfulPredicts = [0]*sequence_length\n",
        "    # Feeds the input data to the model and stores the predictions made\n",
        "    predicted = (model.predict(inputData).round())\n",
        "    # Iterate over all outputed data\n",
        "    for testIndex in range(0, len(inputData)):\n",
        "      # Iterate over each bit in output\n",
        "      for i in range(sequence_length):\n",
        "        # If the predicted bit matches the true bit value then increment the successful predicts for the current bit\n",
        "        if predicted[testIndex][i] == trueOutputs[testIndex][i]: successfulPredicts[i] += 1\n",
        "        # Prediction may be greater than 1 if the prediction is made with high certainity\n",
        "        elif predicted[testIndex][i] > 1 and trueOutputs[testIndex][i] == 1: self.successfulPredicts[i] += 1\n",
        "\n",
        "    return successfulPredicts\n",
        "   \n",
        "\n",
        "  def zero_only_PRNG(self, length=100):\n",
        "    \"\"\" \n",
        "    Returns a binary string containing only 0 of specified length.\n",
        "    Used to test for major flaws in models\n",
        "    :param length: int - Length of generated binary string\n",
        "    :return string - generated binary string\n",
        "    \"\"\"\n",
        "    return \"0\" * length        \n",
        "\n",
        "\n",
        "  def alternating_bits_PRNG(self, length=100):\n",
        "    \"\"\" \n",
        "    Returns output of a basic PRNG implementation that alernates each bit (010101)\n",
        "    :param length: int - Length of generated binary string\n",
        "    :return string - generated binary string\n",
        "    \"\"\"\n",
        "    # Use seed to determine the starting bit of the generated binary string\n",
        "    self.seed = self.seed%2\n",
        "    # Utilises efficent method to repeat a string pattern\n",
        "    if (self.seed == 1):\n",
        "        output = \"10\" * int(length/2)\n",
        "    else:\n",
        "        output = \"01\" * int(length/2)\n",
        "\n",
        "    # Length of generated binary string is odd\n",
        "    if (length%2 == 1):\n",
        "      # Add final bit to string\n",
        "      output += str(self.seed)\n",
        "      # Set the new seed value\n",
        "      if (self.seed == 0): self.seed = 1\n",
        "      else: self.seed = 0\n",
        "    \n",
        "    return output\n",
        "\n",
        "\n",
        "  def alternating_num_PRNG(self):\n",
        "    \"\"\" \n",
        "    Returns output of a basic PRNG implementation that alernates between two binary strings\n",
        "    :return string - generated binary string\n",
        "    \"\"\"\n",
        "    # Use seed to determine the binary string to be returned\n",
        "    self.seed = (self.seed+1)%2\n",
        "    if (self.seed == 0):\n",
        "      # Convert integer to a binary string \n",
        "      randomBinary = str(bin(1643712566))[2:]\n",
        "      # Returns binary string after ensuring a minimum length of 32\n",
        "      return (32-len(randomBinary))*\"0\" + randomBinary\n",
        "    else:\n",
        "      # Convert integer to a binary string \n",
        "      randomBinary = str(bin(2372817037))[2:]\n",
        "      # Returns binary string after ensuring a minimum length of 32\n",
        "      return (32-len(randomBinary))*\"0\" + randomBinary\n",
        "\n",
        "\n",
        "  def basic_equation_based(self):\n",
        "    \"\"\" \n",
        "    Returns output of a very weak equation based PRNG implementation\n",
        "    Expected to be predicted near perfectly\n",
        "    :return string - generated binary string\n",
        "    \"\"\"\n",
        "    # Generates random number using seed\n",
        "    self.seed = (20 * self.seed + 52) % 2**32\n",
        "    # Converts generated number to a binary string\n",
        "    randomBinary = str(bin(self.seed))[2:]\n",
        "    # Returns binary string after ensuring a minimum length of 32\n",
        "    return (32-len(randomBinary))*\"0\" + randomBinary\n",
        "\n",
        "\n",
        "  def basic_equation_based2(self):\n",
        "      self.seed = (36791 * self.seed + 83247) % 2**32\n",
        "      randomBinary = str(bin(self.seed))[2:]\n",
        "      return (32-len(randomBinary))*\"0\" + randomBinary\n",
        "\n",
        "\n",
        "# Expects odd starting seed\n",
        "  def poor_equation_based(self):\n",
        "    self.seed = (65539 * self.seed + 0) % 2**31\n",
        "    randomBinary = str(bin(self.seed))[2:]\n",
        "    return (32-len(randomBinary))*\"0\" + randomBinary\n",
        "\n",
        "TestHandler = TestManagement()"
      ],
      "metadata": {
        "id": "H7GAHZ0temgo"
      },
      "execution_count": null,
      "outputs": []
    },
    {
      "cell_type": "code",
      "source": [
        "class QCGManagement():\n",
        "  def __init__(self):\n",
        "    self.currentGen = pure_prng(int(time.time()), prng_type=\"QCG\").source_random_number()\n",
        "\n",
        "  def seed_current(self, seed=time.time()):\n",
        "    self.currentGen = pure_prng(int(seed), prng_type=\"QCG\").source_random_number()\n",
        "  \n",
        "  def output_current(self):\n",
        "    return str(bin(next(self.currentGen)))[2:]\n",
        "\n",
        "QCGHandler = QCGManagement()"
      ],
      "metadata": {
        "id": "WU1iJXDZe3r8"
      },
      "execution_count": null,
      "outputs": []
    },
    {
      "cell_type": "code",
      "source": [
        "class Ran64Management():\n",
        "  def __init__(self):\n",
        "    self.currentGen = pure_prng(int(time.time()), prng_type=\"Ran64\").source_random_number()\n",
        "\n",
        "  def seed_current(self, seed=time.time()):\n",
        "    self.currentGen = pure_prng(int(seed), prng_type=\"Ran64\").source_random_number()\n",
        "  \n",
        "  def output_current(self):\n",
        "    return str(bin(next(self.currentGen)))[2:]\n",
        "\n",
        "Ran64Handler = Ran64Management()"
      ],
      "metadata": {
        "id": "FL5tfpAEfJTt"
      },
      "execution_count": null,
      "outputs": []
    },
    {
      "cell_type": "markdown",
      "source": [
        "## Data generation function to be used during data production"
      ],
      "metadata": {
        "id": "2StgQUd9IjdA"
      }
    },
    {
      "cell_type": "code",
      "source": [
        "def seed_current(seed): Ran64Handler.seed_current(seed)\n",
        "\n",
        "def output_current(): \n",
        "  randomBinary = Ran64Handler.output_current()\n",
        "  return (64-len(randomBinary))*\"0\" + randomBinary"
      ],
      "metadata": {
        "id": "w5hMg2NqmAta"
      },
      "execution_count": null,
      "outputs": []
    },
    {
      "cell_type": "markdown",
      "source": [
        "## Setting parameters for data/model"
      ],
      "metadata": {
        "id": "OB-bt2LYIppm"
      }
    },
    {
      "cell_type": "code",
      "source": [
        "### Setting parameters\n",
        "# Sets paramemters for generating train/test data\n",
        "num_samples = 1000\n",
        "sequence_length = 64\n",
        "samplesConcatenated = 15\n",
        "# Sets parameters for produced model\n",
        "epochs = 10\n",
        "batch_size = 100"
      ],
      "metadata": {
        "id": "GOY-87p6jx41"
      },
      "execution_count": null,
      "outputs": []
    },
    {
      "cell_type": "markdown",
      "source": [
        "## Produces data for training/testing"
      ],
      "metadata": {
        "id": "LRaDXtIoIujX"
      }
    },
    {
      "cell_type": "code",
      "source": [
        "### Generation of data for training/testing\n",
        "# Seeding\n",
        "print(\"Seeding generator\")\n",
        "seed_current(55)\n",
        "\n",
        " \n",
        "print(\"Generating data\")\n",
        "X_data = []\n",
        "Y_data = []\n",
        "# Create the amount of samples specified\n",
        "for i in range(0, num_samples):\n",
        "  sampleData = []\n",
        "  # Concatenate amount of samples specified for x data\n",
        "  for j in range(0, samplesConcatenated):\n",
        "    sampleData += [int(bit) for bit in output_current()]\n",
        "  X_data.append(sampleData)\n",
        "  Y_data.append([int(bit) for bit in output_current()])"
      ],
      "metadata": {
        "id": "ekZIBXRvj1ds",
        "colab": {
          "base_uri": "https://localhost:8080/"
        },
        "outputId": "f7e37024-db77-4c1e-f5fa-6635f3537623"
      },
      "execution_count": null,
      "outputs": [
        {
          "output_type": "stream",
          "name": "stdout",
          "text": [
            "Seeding generator\n",
            "Generating data\n"
          ]
        }
      ]
    },
    {
      "cell_type": "markdown",
      "source": [
        "## Splitting data into training/testing sets"
      ],
      "metadata": {
        "id": "ymd-vZiRIxR7"
      }
    },
    {
      "cell_type": "code",
      "source": [
        "### Separate data into training/testing sets\n",
        "# Percentage of data used for testing the created prediction model\n",
        "testDataPerc = 0.2\n",
        "dataSplit = int(num_samples*(1-testDataPerc))\n",
        "# Separates x data\n",
        "x_train = X_data[:dataSplit]\n",
        "x_test = X_data[dataSplit:]\n",
        "del X_data\n",
        "# Separates y data\n",
        "y_train = Y_data[:dataSplit]\n",
        "y_test = Y_data[dataSplit:]\n",
        "del Y_data\n",
        "#x_train, x_test, Y_data, y_test = train_test_split(X_data, Y_data, test_size = testDataPerc, random_state = 5)\n"
      ],
      "metadata": {
        "id": "N_cF7naEj4Pn"
      },
      "execution_count": null,
      "outputs": []
    },
    {
      "cell_type": "markdown",
      "source": [
        "## Creation of model"
      ],
      "metadata": {
        "id": "sHgOgZbdI2Fa"
      }
    },
    {
      "cell_type": "code",
      "source": [
        "#optimizer = Adam(learning_rate=0.05)\n",
        "strategy = tf.distribute.OneDeviceStrategy('/gpu:0')\n",
        "\n",
        "print(\"Creating model\")\n",
        "# Model compilation\n",
        "with strategy.scope():\n",
        "  model = Sequential()\n",
        "  model.add(LSTM(sequence_length, input_shape=(sequence_length*samplesConcatenated, 1), return_sequences=True))\n",
        "  model.add(LSTM(int(sequence_length//1.5), return_sequences=True))\n",
        "  model.add(LSTM(sequence_length//2))\n",
        "  model.add(Dense(sequence_length, activation='relu'))\n",
        "\n",
        "  model.compile(loss='binary_crossentropy', optimizer=\"Adam\", metrics=['accuracy'])"
      ],
      "metadata": {
        "id": "MX4wSEYiemjY",
        "colab": {
          "base_uri": "https://localhost:8080/"
        },
        "outputId": "8d5a49b0-c60f-46bf-b170-f9bfc92bafdc"
      },
      "execution_count": null,
      "outputs": [
        {
          "output_type": "stream",
          "name": "stdout",
          "text": [
            "Creating model\n"
          ]
        }
      ]
    },
    {
      "cell_type": "markdown",
      "source": [],
      "metadata": {
        "id": "mv_iRQrSI4Fz"
      }
    },
    {
      "cell_type": "markdown",
      "source": [
        "## Training model"
      ],
      "metadata": {
        "id": "vuPmSglnI4KG"
      }
    },
    {
      "cell_type": "code",
      "source": [
        "# Train the model with the x/y train data and validate using the test data after each epoch\n",
        "history = model.fit(x_train, y_train, validation_data=(x_test, y_test), epochs=epochs, batch_size=batch_size)"
      ],
      "metadata": {
        "id": "p-fQox47kZH0",
        "colab": {
          "base_uri": "https://localhost:8080/"
        },
        "outputId": "0e140137-4d1c-4566-d802-b734361ecf24"
      },
      "execution_count": null,
      "outputs": [
        {
          "output_type": "stream",
          "name": "stdout",
          "text": [
            "Epoch 1/10\n",
            "12/12 [==============================] - 40s 3s/step - loss: 4.0746 - accuracy: 0.0000e+00 - val_loss: 3.4706 - val_accuracy: 0.0000e+00\n",
            "Epoch 2/10\n",
            "12/12 [==============================] - 29s 2s/step - loss: 3.1764 - accuracy: 0.0000e+00 - val_loss: 2.9586 - val_accuracy: 0.0000e+00\n",
            "Epoch 3/10\n",
            "12/12 [==============================] - 28s 2s/step - loss: 2.8931 - accuracy: 0.0025 - val_loss: 2.7153 - val_accuracy: 0.0000e+00\n",
            "Epoch 4/10\n",
            "12/12 [==============================] - 28s 2s/step - loss: 2.6478 - accuracy: 0.0000e+00 - val_loss: 2.5792 - val_accuracy: 0.0000e+00\n",
            "Epoch 5/10\n",
            "12/12 [==============================] - 32s 3s/step - loss: 2.5712 - accuracy: 0.0000e+00 - val_loss: 2.5626 - val_accuracy: 0.0000e+00\n",
            "Epoch 6/10\n",
            "12/12 [==============================] - 28s 2s/step - loss: 2.5578 - accuracy: 0.0000e+00 - val_loss: 2.5570 - val_accuracy: 0.0000e+00\n",
            "Epoch 7/10\n",
            "12/12 [==============================] - 31s 3s/step - loss: 2.5536 - accuracy: 0.0000e+00 - val_loss: 2.5552 - val_accuracy: 0.0000e+00\n",
            "Epoch 8/10\n",
            "12/12 [==============================] - 32s 3s/step - loss: 2.5522 - accuracy: 0.0025 - val_loss: 2.5540 - val_accuracy: 0.0100\n",
            "Epoch 9/10\n",
            "12/12 [==============================] - 30s 3s/step - loss: 2.5514 - accuracy: 0.0050 - val_loss: 2.5532 - val_accuracy: 0.0100\n",
            "Epoch 10/10\n",
            "12/12 [==============================] - 30s 3s/step - loss: 2.5510 - accuracy: 0.0050 - val_loss: 2.5529 - val_accuracy: 0.0100\n"
          ]
        }
      ]
    },
    {
      "cell_type": "code",
      "source": [
        "# Saves the model as a file\n",
        "model.save(\"Ran64FullPredict1.h5\")"
      ],
      "metadata": {
        "id": "bqI0-ytbfjYm"
      },
      "execution_count": null,
      "outputs": []
    },
    {
      "cell_type": "markdown",
      "source": [
        "## Evaluating predictability of each bit"
      ],
      "metadata": {
        "id": "yeQUoIUII8D6"
      }
    },
    {
      "cell_type": "code",
      "source": [
        "### Produces data for detailed evaluation\n",
        "# Amount of samples used for evaluation\n",
        "eval_samples = 5000\n",
        "\n",
        "\n",
        "x_test = []\n",
        "y_test = []\n",
        "# Create the amount of samples specified\n",
        "for i in range(0, eval_samples):\n",
        "  sampleData = []\n",
        "  # 'samplesConcatenated' was defined when creating the data for model training\n",
        "  # Concatenate amount of samples specified for x data\n",
        "  for j in range(0, samplesConcatenated):\n",
        "    sampleData += [int(bit) for bit in output_current()]\n",
        "  x_test.append(sampleData)\n",
        "  y_test.append([int(bit) for bit in output_current()])\n"
      ],
      "metadata": {
        "id": "mssOCBB_foTL"
      },
      "execution_count": null,
      "outputs": []
    },
    {
      "cell_type": "code",
      "source": [
        "# Feeds data to model and determines the amount of successful predictions for each bit index\n",
        "successfulPredictions=TestHandler.bit_success(model, x_test, y_test, sequence_length)\n",
        "# Prints information regarding the most predictable bit\n",
        "print(\"Highest predict rate: {rate:.2f}%\\nIndex: {index}\".format(rate=100*max(successfulPredictions)/eval_samples, index=successfulPredictions.index(max(successfulPredictions))))"
      ],
      "metadata": {
        "id": "JjRJdFaRfuRb",
        "colab": {
          "base_uri": "https://localhost:8080/"
        },
        "outputId": "6fc29d60-b289-4af6-d44d-405e77abe5dd"
      },
      "execution_count": null,
      "outputs": [
        {
          "output_type": "stream",
          "name": "stdout",
          "text": [
            "Highest predict rate: 51.74%\n",
            "Index: 26\n"
          ]
        }
      ]
    },
    {
      "cell_type": "code",
      "source": [
        "# Creates a list contaiing each bit index and the successful predictions for the bit\n",
        "indexSuccesses = []\n",
        "for i in range(len(successfulPredictions)):\n",
        "  indexSuccesses.append([successfulPredictions[i], i])\n",
        "# Sorts the list in descending order \n",
        "indexSuccesses.sort(reverse=True)\n",
        "\n",
        "# Outputs the successful prediction rate for each bit\n",
        "for i in range(len(indexSuccesses)):\n",
        "  print(\"Predict rate: {rate:.2f}%   |   Index: {index}\".format(rate=100*(indexSuccesses[i][0]/eval_samples), index=indexSuccesses[i][1]))"
      ],
      "metadata": {
        "colab": {
          "base_uri": "https://localhost:8080/"
        },
        "id": "LIDMD8fU1Ksm",
        "outputId": "3bf1849a-dca7-4501-c18b-1c0756da3e0d"
      },
      "execution_count": null,
      "outputs": [
        {
          "output_type": "stream",
          "name": "stdout",
          "text": [
            "Predict rate: 51.74%   |   Index: 26\n",
            "Predict rate: 51.60%   |   Index: 32\n",
            "Predict rate: 51.28%   |   Index: 60\n",
            "Predict rate: 51.26%   |   Index: 13\n",
            "Predict rate: 51.22%   |   Index: 14\n",
            "Predict rate: 51.20%   |   Index: 12\n",
            "Predict rate: 51.18%   |   Index: 54\n",
            "Predict rate: 51.00%   |   Index: 62\n",
            "Predict rate: 50.92%   |   Index: 38\n",
            "Predict rate: 50.84%   |   Index: 28\n",
            "Predict rate: 50.60%   |   Index: 59\n",
            "Predict rate: 50.60%   |   Index: 53\n",
            "Predict rate: 50.60%   |   Index: 24\n",
            "Predict rate: 50.60%   |   Index: 5\n",
            "Predict rate: 50.48%   |   Index: 22\n",
            "Predict rate: 50.44%   |   Index: 29\n",
            "Predict rate: 50.34%   |   Index: 15\n",
            "Predict rate: 50.32%   |   Index: 39\n",
            "Predict rate: 50.30%   |   Index: 55\n",
            "Predict rate: 50.28%   |   Index: 45\n",
            "Predict rate: 50.28%   |   Index: 21\n",
            "Predict rate: 50.24%   |   Index: 4\n",
            "Predict rate: 50.18%   |   Index: 40\n",
            "Predict rate: 50.14%   |   Index: 37\n",
            "Predict rate: 50.14%   |   Index: 33\n",
            "Predict rate: 50.12%   |   Index: 0\n",
            "Predict rate: 50.10%   |   Index: 25\n",
            "Predict rate: 50.08%   |   Index: 47\n",
            "Predict rate: 50.08%   |   Index: 11\n",
            "Predict rate: 50.04%   |   Index: 61\n",
            "Predict rate: 50.02%   |   Index: 36\n",
            "Predict rate: 50.00%   |   Index: 48\n",
            "Predict rate: 50.00%   |   Index: 35\n",
            "Predict rate: 49.96%   |   Index: 17\n",
            "Predict rate: 49.92%   |   Index: 51\n",
            "Predict rate: 49.84%   |   Index: 1\n",
            "Predict rate: 49.76%   |   Index: 46\n",
            "Predict rate: 49.76%   |   Index: 9\n",
            "Predict rate: 49.68%   |   Index: 3\n",
            "Predict rate: 49.66%   |   Index: 20\n",
            "Predict rate: 49.66%   |   Index: 7\n",
            "Predict rate: 49.60%   |   Index: 41\n",
            "Predict rate: 49.56%   |   Index: 34\n",
            "Predict rate: 49.52%   |   Index: 2\n",
            "Predict rate: 49.48%   |   Index: 42\n",
            "Predict rate: 49.48%   |   Index: 16\n",
            "Predict rate: 49.44%   |   Index: 6\n",
            "Predict rate: 49.42%   |   Index: 43\n",
            "Predict rate: 49.40%   |   Index: 52\n",
            "Predict rate: 49.38%   |   Index: 30\n",
            "Predict rate: 49.38%   |   Index: 10\n",
            "Predict rate: 49.32%   |   Index: 58\n",
            "Predict rate: 49.32%   |   Index: 57\n",
            "Predict rate: 49.32%   |   Index: 23\n",
            "Predict rate: 49.20%   |   Index: 50\n",
            "Predict rate: 49.20%   |   Index: 44\n",
            "Predict rate: 49.06%   |   Index: 31\n",
            "Predict rate: 49.00%   |   Index: 19\n",
            "Predict rate: 48.96%   |   Index: 49\n",
            "Predict rate: 48.74%   |   Index: 18\n",
            "Predict rate: 48.70%   |   Index: 8\n",
            "Predict rate: 48.64%   |   Index: 56\n",
            "Predict rate: 48.62%   |   Index: 27\n",
            "Predict rate: 48.08%   |   Index: 63\n"
          ]
        }
      ]
    }
  ]
}