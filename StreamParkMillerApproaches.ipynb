{
  "nbformat": 4,
  "nbformat_minor": 0,
  "metadata": {
    "colab": {
      "provenance": []
    },
    "kernelspec": {
      "name": "python3",
      "display_name": "Python 3"
    },
    "language_info": {
      "name": "python"
    },
    "accelerator": "GPU",
    "gpuClass": "standard"
  },
  "cells": [
    {
      "cell_type": "markdown",
      "source": [
        "## Required installs/imports\n"
      ],
      "metadata": {
        "id": "gEtAF1ghdNj-"
      }
    },
    {
      "cell_type": "code",
      "source": [
        "!pip install pure-prng"
      ],
      "metadata": {
        "id": "t3QeVxqDH5qP",
        "colab": {
          "base_uri": "https://localhost:8080/"
        },
        "outputId": "f7c47ee3-ff34-46ce-98f5-5e1d14d1fe42"
      },
      "execution_count": 1,
      "outputs": [
        {
          "output_type": "stream",
          "name": "stdout",
          "text": [
            "Looking in indexes: https://pypi.org/simple, https://us-python.pkg.dev/colab-wheels/public/simple/\n",
            "Collecting pure-prng\n",
            "  Downloading pure_prng-2.9.0-py3-none-any.whl (32 kB)\n",
            "Collecting pure-nrng>=1.1.0\n",
            "  Downloading pure_nrng-1.1.0-py3-none-any.whl (21 kB)\n",
            "Collecting randomgen>=1.20.3\n",
            "  Downloading randomgen-1.23.1-cp39-cp39-manylinux_2_17_x86_64.manylinux2014_x86_64.whl (3.2 MB)\n",
            "\u001b[2K     \u001b[90m━━━━━━━━━━━━━━━━━━━━━━━━━━━━━━━━━━━━━━━━\u001b[0m \u001b[32m3.2/3.2 MB\u001b[0m \u001b[31m26.0 MB/s\u001b[0m eta \u001b[36m0:00:00\u001b[0m\n",
            "\u001b[?25hCollecting gmpy2>=2.0.8\n",
            "  Downloading gmpy2-2.1.5-cp39-cp39-manylinux_2_17_x86_64.manylinux2014_x86_64.whl (1.7 MB)\n",
            "\u001b[2K     \u001b[90m━━━━━━━━━━━━━━━━━━━━━━━━━━━━━━━━━━━━━━━━\u001b[0m \u001b[32m1.7/1.7 MB\u001b[0m \u001b[31m58.7 MB/s\u001b[0m eta \u001b[36m0:00:00\u001b[0m\n",
            "\u001b[?25hRequirement already satisfied: numpy>=1.17 in /usr/local/lib/python3.9/dist-packages (from randomgen>=1.20.3->pure-prng) (1.22.4)\n",
            "Installing collected packages: gmpy2, randomgen, pure-nrng, pure-prng\n",
            "Successfully installed gmpy2-2.1.5 pure-nrng-1.1.0 pure-prng-2.9.0 randomgen-1.23.1\n"
          ]
        }
      ]
    },
    {
      "cell_type": "code",
      "execution_count": 2,
      "metadata": {
        "id": "RvbBxhpgt7Ig"
      },
      "outputs": [],
      "source": [
        "# Necessary imports\n",
        "from pure_prng_package import pure_prng\n",
        "import numpy as np\n",
        "import tensorflow as tf\n",
        "from keras.layers import *\n",
        "from keras.models import Sequential\n",
        "from sklearn.model_selection import train_test_split\n",
        "from keras.optimizers import Adam\n",
        "import matplotlib.pyplot as plt\n",
        "import math\n",
        "import time"
      ]
    },
    {
      "cell_type": "markdown",
      "source": [
        "## Classes to provide data generation/evaluation methods"
      ],
      "metadata": {
        "id": "T0n19N9-dRnD"
      }
    },
    {
      "cell_type": "code",
      "source": [
        "# Class used to access my implmentations of PRNGs\n",
        "class PRNGManagement():\n",
        "  # Initialises object and sets the default seed\n",
        "  def __init__(self, seed=0):\n",
        "      self.seed = seed\n",
        "      self.random_number:int = seed\n",
        "      self.currentGenerator = self.zero_only_PRNG()\n",
        "\n",
        "  # Method to seed the PRNG (seeds all PRNGs in class)\n",
        "  def seed_PRNG(self, seed:int):\n",
        "    self.seed:int = seed\n",
        "    self.random_number:int = seed\n",
        "\n",
        "  def set_generator(self, generatorMethod):\n",
        "    self.currentGenerator = generatorMethod\n",
        "\n",
        "  def bit_success(self, model, inputData, trueOutputs, sequence_length):\n",
        "    \"\"\" \n",
        "    Method to evaluate the provided model and store the amount of\n",
        "    successful predictions for each bit of the output\n",
        "    :param model: keras model - Model used to generate predicitions\n",
        "    :param trueOutputs: list[list[int]]- List containing the expected y outputs\n",
        "    :param sequence_length: int - Length of generated binary string being predicited\n",
        "    :return list[int] - Amount of successful predictions for each bit\n",
        "    \"\"\"\n",
        "    # Set initial amount of successful predictions for each bit to zero\n",
        "    successfulPredicts = [0]*sequence_length\n",
        "    # Feeds the input data to the model and stores the predictions made\n",
        "    predicted = (model.predict(inputData).round())\n",
        "    # Iterate over all outputed data\n",
        "    for testIndex in range(0, len(inputData)):\n",
        "      # Iterate over each bit in output\n",
        "      for i in range(sequence_length):\n",
        "        # If the predicted bit matches the true bit value then increment the successful predicts for the current bit\n",
        "        if predicted[testIndex][i] == trueOutputs[testIndex][i]: successfulPredicts[i] += 1\n",
        "        # Prediction may be greater than 1 if the prediction is made with high certainity\n",
        "        elif predicted[testIndex][i] > 1 and trueOutputs[testIndex][i] == 1: self.successfulPredicts[i] += 1\n",
        "\n",
        "    return successfulPredicts\n",
        "   \n",
        "\n",
        "  def zero_only_PRNG(self, length=100):\n",
        "    \"\"\" \n",
        "    Returns a binary string containing only 0 of specified length.\n",
        "    Used to test for major flaws in models\n",
        "    :param length: int - Length of generated binary string\n",
        "    :return string - generated binary string\n",
        "    \"\"\"\n",
        "    return \"0\" * length        \n",
        "\n",
        "\n",
        "  def alternating_bits_PRNG(self, length=100):\n",
        "    \"\"\" \n",
        "    Returns output of a basic PRNG implementation that alernates each bit (010101)\n",
        "    :param length: int - Length of generated binary string\n",
        "    :return string - generated binary string\n",
        "    \"\"\"\n",
        "    # Use seed to determine the starting bit of the generated binary string\n",
        "    self.seed = self.seed%2\n",
        "    # Utilises efficent method to repeat a string pattern\n",
        "    if (self.seed == 1):\n",
        "        output = \"10\" * int(length/2)\n",
        "    else:\n",
        "        output = \"01\" * int(length/2)\n",
        "\n",
        "    # Length of generated binary string is odd\n",
        "    if (length%2 == 1):\n",
        "      # Add final bit to string\n",
        "      output += str(self.seed)\n",
        "      # Set the new seed value\n",
        "      if (self.seed == 0): self.seed = 1\n",
        "      else: self.seed = 0\n",
        "    \n",
        "    return output\n",
        "\n",
        "\n",
        "  def alternating_num_PRNG(self):\n",
        "    \"\"\" \n",
        "    Returns output of a basic PRNG implementation that alernates between two binary strings\n",
        "    :return string - generated binary string\n",
        "    \"\"\"\n",
        "    # Use seed to determine the binary string to be returned\n",
        "    self.seed = (self.seed+1)%2\n",
        "    if (self.seed == 0):\n",
        "      # Convert integer to a binary string \n",
        "      randomBinary = str(bin(1643712566))[2:]\n",
        "      # Returns binary string after ensuring a minimum length of 32\n",
        "      return (32-len(randomBinary))*\"0\" + randomBinary\n",
        "    else:\n",
        "      # Convert integer to a binary string \n",
        "      randomBinary = str(bin(2372817037))[2:]\n",
        "      # Returns binary string after ensuring a minimum length of 32\n",
        "      return (32-len(randomBinary))*\"0\" + randomBinary\n",
        "\n",
        "\n",
        "  def basic_equation_based(self, mult:int, add:int, mod:int, leng:int) -> str:\n",
        "    \"\"\" \n",
        "    Returns output of a very weak equation based PRNG implementation\n",
        "    Expected to be predicted near perfectly\n",
        "    :return string - generated binary string\n",
        "    \"\"\"\n",
        "    # Generates random number using previous output as seed\n",
        "    self.random_number = (mult * self.random_number + add) % mod\n",
        "    # Converts generated number to a binary string\n",
        "    bits_string = bin(self.random_number)[2:]\n",
        "    # Returns binary string after using padding to ensure a length of 32\n",
        "    return bits_string.zfill(leng)\n",
        "\n",
        "\n",
        "  ## Different implmentations of equation based generators\n",
        "  def basic_equation_based1(self) -> str:\n",
        "    return self.basic_equation_based(20, 52, 2**32, 32)\n",
        "\n",
        "  def basic_equation_based2(self) -> str:\n",
        "    return self.basic_equation_based(36791, 83247, 2**32, 32)\n",
        "\n",
        "  # Expects odd starting seed\n",
        "  # Imeplementation of the PRNG 'RANDU' - Outdated PRNG\n",
        "  def RANDU(self) -> str:\n",
        "    return self.basic_equation_based(65539, 0, 2**31, 31)\n",
        "\n",
        "  # Implementation of the Park Miller PRNG - Outdated PRNG\n",
        "  def Park_Miller(self) -> str:\n",
        "    return self.basic_equation_based(16807, 0, 2**31-1, 32)\n",
        "\n",
        "  # Get stream of binary data form current generator\n",
        "  def get_stream(self, number_of_blocks:int):\n",
        "    stream = []\n",
        "    for _ in range(number_of_blocks):\n",
        "      # Converts generated binary string to list of ints\n",
        "      block = [int(bit) for bit in self.currentGenerator()] \n",
        "      stream.extend(block)\n",
        "    return stream"
      ],
      "metadata": {
        "id": "5XBLpCikQu5X"
      },
      "execution_count": 3,
      "outputs": []
    },
    {
      "cell_type": "code",
      "source": [
        "# Class used to manage the PRNGs offered by the PRNG library\n",
        "class PRNGLibManagement():\n",
        "  def __init__(self, PRNGType:str, outputLen:int):\n",
        "    self.change_PRNG(PRNGType, outputLen)\n",
        "\n",
        "  # Change the type of the current PRNG\n",
        "  def change_PRNG(self, PRNGType:str, outputLen:int):\n",
        "    self.outputLen = outputLen\n",
        "    self.PRNGType = PRNGType\n",
        "    self.currentGen = pure_prng(int(time.time()), prng_type=PRNGType).source_random_number()\n",
        "\n",
        "  # Seed the current PRNG\n",
        "  def seed_current(self, seed=int(time.time())):\n",
        "    self.currentGen = pure_prng(int(seed), prng_type=self.PRNGType).source_random_number()\n",
        "\n",
        "  # Generates an output from the curent PRNG\n",
        "  def output_current(self):\n",
        "    # Converts generated number to a binary string\n",
        "    bits_string = bin(next(self.currentGen))[2:]\n",
        "    # Returns binary string after using padding to ensure a consistent length\n",
        "    return bits_string.zfill(self.outputLen)\n",
        "\n",
        "  # Generates output from current PRNG as a list containing the integer bits\n",
        "  def next_ints(self):\n",
        "    # Converts generated binary string to list of ints\n",
        "    return [int(bit) for bit in self.output_current()] \n",
        "\n",
        "  # Get stream of binary data form current generator\n",
        "  def get_stream(self, number_of_blocks:int):\n",
        "    stream = []\n",
        "    for _ in range(number_of_blocks):\n",
        "      block = self.next_ints()\n",
        "      stream.extend(block)\n",
        "    return stream"
      ],
      "metadata": {
        "id": "-GBuWcChUelq"
      },
      "execution_count": 4,
      "outputs": []
    },
    {
      "cell_type": "markdown",
      "source": [
        "## Data generation function to be used during data production"
      ],
      "metadata": {
        "id": "dgeMdcbIdvIV"
      }
    },
    {
      "cell_type": "code",
      "source": [
        "# Creates object to use the 'Ran64' PRNG\n",
        "PRNGLibHandler = PRNGLibManagement(\"Ran64\", 64)\n",
        "#\n",
        "PRNGHandler = PRNGManagement(1)\n",
        "PRNGHandler.set_generator(PRNGHandler.Park_Miller)\n",
        "\n",
        "def generatorOutput(blockNum): return PRNGHandler.get_stream(blockNum)\n",
        "def seedGenerator(seed): PRNGHandler.seed_PRNG(seed)"
      ],
      "metadata": {
        "id": "LGELTqwOVa9h"
      },
      "execution_count": 5,
      "outputs": []
    },
    {
      "cell_type": "markdown",
      "source": [
        "## Setting parameters for data generation"
      ],
      "metadata": {
        "id": "et5qzmMCfX1V"
      }
    },
    {
      "cell_type": "code",
      "source": [
        "### Setting parameters\n",
        "# Sets paramemters for generating train/test data\n",
        "num_blocks = 20000\n",
        "sequence_length = 32\n",
        "\n",
        "# Number of samples must be a multiple of 100 to prevent an error\n",
        "num_samples = (num_blocks-1)*sequence_length\n",
        "\n",
        "print(\"Number of samples: \", num_samples)"
      ],
      "metadata": {
        "id": "3KJKALf4fYvG",
        "colab": {
          "base_uri": "https://localhost:8080/"
        },
        "outputId": "b1ecc58e-6b42-4012-af6d-354ddff1da99"
      },
      "execution_count": 22,
      "outputs": [
        {
          "output_type": "stream",
          "name": "stdout",
          "text": [
            "Number of samples:  639968\n"
          ]
        }
      ]
    },
    {
      "cell_type": "code",
      "execution_count": 23,
      "metadata": {
        "id": "L-H_--JU6MG7"
      },
      "outputs": [],
      "source": [
        "# Seed generator\n",
        "seedGenerator(23)\n",
        "# Get stream data \n",
        "streamData = generatorOutput(num_blocks)\n",
        "\n",
        "# Stores output in variable to allow the sample to be featued in both x and y data\n",
        "X_data, Y_data = [], []\n",
        "\n",
        "# Extracts stream data samples\n",
        "for i in range(num_samples):\n",
        "  X_data.append(streamData[i:i+sequence_length])\n",
        "  Y_data.append([streamData[i+sequence_length]])\n",
        "\n",
        "# Deletes stream data to save memory\n",
        "del streamData"
      ]
    },
    {
      "cell_type": "code",
      "source": [
        "### Separate data into training/testing sets\n",
        "# Percentage of data used for testing the created prediction model\n",
        "testDataPerc = 0.2\n",
        "\n",
        "x_train, x_test, y_train, y_test = train_test_split(X_data, Y_data, test_size = testDataPerc, random_state = 5)\n",
        "\n",
        "del X_data\n",
        "del Y_data"
      ],
      "metadata": {
        "id": "BkYDUqe1Eg9X"
      },
      "execution_count": 24,
      "outputs": []
    },
    {
      "cell_type": "markdown",
      "source": [
        "## Creation and taining of different models"
      ],
      "metadata": {
        "id": "bLBDBWwdjFqV"
      }
    },
    {
      "cell_type": "markdown",
      "source": [
        "#### Dense + Normalisation + Dropout"
      ],
      "metadata": {
        "id": "Uq1tec2ljHMh"
      }
    },
    {
      "cell_type": "code",
      "execution_count": 9,
      "metadata": {
        "colab": {
          "base_uri": "https://localhost:8080/"
        },
        "id": "yx3kGN-5tXFp",
        "outputId": "94cc0f71-af40-4a67-c515-6a907f5929c3"
      },
      "outputs": [
        {
          "output_type": "stream",
          "name": "stdout",
          "text": [
            "Model: \"sequential\"\n",
            "_________________________________________________________________\n",
            " Layer (type)                Output Shape              Param #   \n",
            "=================================================================\n",
            " dense (Dense)               (None, 32)                1056      \n",
            "                                                                 \n",
            " batch_normalization (BatchN  (None, 32)               128       \n",
            " ormalization)                                                   \n",
            "                                                                 \n",
            " dropout (Dropout)           (None, 32)                0         \n",
            "                                                                 \n",
            " batch_normalization_1 (Batc  (None, 32)               128       \n",
            " hNormalization)                                                 \n",
            "                                                                 \n",
            " dense_1 (Dense)             (None, 16)                528       \n",
            "                                                                 \n",
            " batch_normalization_2 (Batc  (None, 16)               64        \n",
            " hNormalization)                                                 \n",
            "                                                                 \n",
            " dense_2 (Dense)             (None, 1)                 17        \n",
            "                                                                 \n",
            "=================================================================\n",
            "Total params: 1,921\n",
            "Trainable params: 1,761\n",
            "Non-trainable params: 160\n",
            "_________________________________________________________________\n"
          ]
        }
      ],
      "source": [
        "# Sets parameters for model\n",
        "epochs = 10\n",
        "\n",
        "# Strategy to utilise GPU \n",
        "strategy = tf.distribute.OneDeviceStrategy('/gpu:0')\n",
        "\n",
        "# Model compilation using GPU\n",
        "with strategy.scope():\n",
        "  model = Sequential()\n",
        "  model.add(Dense(sequence_length, input_shape=(sequence_length, ), activation='relu'))\n",
        "  model.add(BatchNormalization())\n",
        "  model.add(Dropout(rate=0.1))\n",
        "  model.add(BatchNormalization())\n",
        "  model.add(Dense(sequence_length//2, activation='relu'))\n",
        "  model.add(BatchNormalization())\n",
        "  model.add(Dense(1, activation='sigmoid'))\n",
        "\n",
        "model.compile(loss='binary_crossentropy', optimizer=\"Adam\", metrics=['accuracy'])\n",
        "\n",
        "model.summary()"
      ]
    },
    {
      "cell_type": "code",
      "execution_count": 10,
      "metadata": {
        "colab": {
          "base_uri": "https://localhost:8080/"
        },
        "id": "Pr4ICgfxAVur",
        "outputId": "46bb30b2-85bc-45bd-962d-4fd883a9f373"
      },
      "outputs": [
        {
          "output_type": "stream",
          "name": "stdout",
          "text": [
            "Epoch 1/10\n",
            "2560/2560 [==============================] - 34s 10ms/step - loss: 0.6999 - accuracy: 0.5093 - val_loss: 0.6933 - val_accuracy: 0.5097\n",
            "Epoch 2/10\n",
            "2560/2560 [==============================] - 17s 7ms/step - loss: 0.6926 - accuracy: 0.5159 - val_loss: 0.6929 - val_accuracy: 0.5105\n",
            "Epoch 3/10\n",
            "2560/2560 [==============================] - 17s 7ms/step - loss: 0.6924 - accuracy: 0.5174 - val_loss: 0.6928 - val_accuracy: 0.5138\n",
            "Epoch 4/10\n",
            "2560/2560 [==============================] - 16s 6ms/step - loss: 0.6922 - accuracy: 0.5174 - val_loss: 0.6927 - val_accuracy: 0.5100\n",
            "Epoch 5/10\n",
            "2560/2560 [==============================] - 16s 6ms/step - loss: 0.6921 - accuracy: 0.5187 - val_loss: 0.6930 - val_accuracy: 0.5123\n",
            "Epoch 6/10\n",
            "2560/2560 [==============================] - 17s 7ms/step - loss: 0.6919 - accuracy: 0.5200 - val_loss: 0.6930 - val_accuracy: 0.5109\n",
            "Epoch 7/10\n",
            "2560/2560 [==============================] - 17s 7ms/step - loss: 0.6919 - accuracy: 0.5208 - val_loss: 0.6932 - val_accuracy: 0.5126\n",
            "Epoch 8/10\n",
            "2560/2560 [==============================] - 16s 6ms/step - loss: 0.6918 - accuracy: 0.5217 - val_loss: 0.6929 - val_accuracy: 0.5127\n",
            "Epoch 9/10\n",
            "2560/2560 [==============================] - 17s 7ms/step - loss: 0.6917 - accuracy: 0.5219 - val_loss: 0.6931 - val_accuracy: 0.5124\n",
            "Epoch 10/10\n",
            "2560/2560 [==============================] - 23s 9ms/step - loss: 0.6917 - accuracy: 0.5228 - val_loss: 0.6931 - val_accuracy: 0.5093\n"
          ]
        }
      ],
      "source": [
        "batch_size = 100\n",
        "# Train the model with the x/y train data and validate using the test data after each epoch\n",
        "history = model.fit(x_train, y_train, validation_data=(x_test, y_test), epochs=epochs, batch_size=batch_size)"
      ]
    },
    {
      "cell_type": "code",
      "source": [
        "model.save(\"ParkMillerDND1.h5\")"
      ],
      "metadata": {
        "id": "HcbluaPBhC3r"
      },
      "execution_count": 11,
      "outputs": []
    },
    {
      "cell_type": "markdown",
      "source": [
        "#### Long Short-Term Memory"
      ],
      "metadata": {
        "id": "ZXK--YgNjLKZ"
      }
    },
    {
      "cell_type": "code",
      "source": [
        "# Sets parameters for model\n",
        "epochs = 10\n",
        "\n",
        "# Strategy to utilise GPU \n",
        "strategy = tf.distribute.OneDeviceStrategy('/gpu:0')\n",
        "\n",
        "# Model compilation using GPU\n",
        "with strategy.scope():\n",
        "  model = Sequential()\n",
        "  model.add(LSTM(int(sequence_length), input_shape=(sequence_length, 1), return_sequences=True))\n",
        "  model.add(LSTM(int(sequence_length/1.5), return_sequences=True))\n",
        "  model.add(LSTM(int(sequence_length/2)))\n",
        "  model.add(Dense(1, activation='sigmoid'))\n",
        "\n",
        "\n",
        "  model.compile(loss='binary_crossentropy', optimizer=\"Adam\", metrics=['accuracy'])\n",
        "\n",
        "  model.summary()"
      ],
      "metadata": {
        "colab": {
          "base_uri": "https://localhost:8080/"
        },
        "id": "tTPCqRdDFb54",
        "outputId": "2db9c921-dcba-4ea4-ca8a-5f5c6fa34441"
      },
      "execution_count": 12,
      "outputs": [
        {
          "output_type": "stream",
          "name": "stdout",
          "text": [
            "Model: \"sequential_1\"\n",
            "_________________________________________________________________\n",
            " Layer (type)                Output Shape              Param #   \n",
            "=================================================================\n",
            " lstm (LSTM)                 (None, 32, 32)            4352      \n",
            "                                                                 \n",
            " lstm_1 (LSTM)               (None, 32, 21)            4536      \n",
            "                                                                 \n",
            " lstm_2 (LSTM)               (None, 16)                2432      \n",
            "                                                                 \n",
            " dense_3 (Dense)             (None, 1)                 17        \n",
            "                                                                 \n",
            "=================================================================\n",
            "Total params: 11,337\n",
            "Trainable params: 11,337\n",
            "Non-trainable params: 0\n",
            "_________________________________________________________________\n"
          ]
        }
      ]
    },
    {
      "cell_type": "code",
      "source": [
        "batch_size = 100\n",
        "# Train the model with the x/y train data and validate using the test data after each epoch\n",
        "history = model.fit(x_train, y_train, validation_data=(x_test, y_test), epochs=epochs, batch_size=batch_size)"
      ],
      "metadata": {
        "id": "7cKOcRUWt64y",
        "colab": {
          "base_uri": "https://localhost:8080/"
        },
        "outputId": "594975d8-59c0-4713-c807-7dc71bf58da4"
      },
      "execution_count": 13,
      "outputs": [
        {
          "output_type": "stream",
          "name": "stdout",
          "text": [
            "Epoch 1/10\n",
            "2560/2560 [==============================] - 41s 13ms/step - loss: 0.6927 - accuracy: 0.5159 - val_loss: 0.6930 - val_accuracy: 0.5119\n",
            "Epoch 2/10\n",
            "2560/2560 [==============================] - 26s 10ms/step - loss: 0.6927 - accuracy: 0.5162 - val_loss: 0.6929 - val_accuracy: 0.5119\n",
            "Epoch 3/10\n",
            "2560/2560 [==============================] - 26s 10ms/step - loss: 0.6926 - accuracy: 0.5161 - val_loss: 0.6929 - val_accuracy: 0.5119\n",
            "Epoch 4/10\n",
            "2560/2560 [==============================] - 26s 10ms/step - loss: 0.6926 - accuracy: 0.5162 - val_loss: 0.6929 - val_accuracy: 0.5119\n",
            "Epoch 5/10\n",
            "2560/2560 [==============================] - 29s 11ms/step - loss: 0.6926 - accuracy: 0.5162 - val_loss: 0.6930 - val_accuracy: 0.5119\n",
            "Epoch 6/10\n",
            "2560/2560 [==============================] - 26s 10ms/step - loss: 0.6926 - accuracy: 0.5162 - val_loss: 0.6929 - val_accuracy: 0.5119\n",
            "Epoch 7/10\n",
            "2560/2560 [==============================] - 26s 10ms/step - loss: 0.6926 - accuracy: 0.5162 - val_loss: 0.6929 - val_accuracy: 0.5119\n",
            "Epoch 8/10\n",
            "2560/2560 [==============================] - 26s 10ms/step - loss: 0.6926 - accuracy: 0.5162 - val_loss: 0.6929 - val_accuracy: 0.5119\n",
            "Epoch 9/10\n",
            "2560/2560 [==============================] - 26s 10ms/step - loss: 0.6926 - accuracy: 0.5162 - val_loss: 0.6930 - val_accuracy: 0.5119\n",
            "Epoch 10/10\n",
            "2560/2560 [==============================] - 29s 11ms/step - loss: 0.6926 - accuracy: 0.5162 - val_loss: 0.6929 - val_accuracy: 0.5119\n"
          ]
        }
      ]
    },
    {
      "cell_type": "code",
      "source": [
        "model.save(\"ParkMillerLTSM1.h5\")"
      ],
      "metadata": {
        "id": "4rY-x3szjOu-"
      },
      "execution_count": 14,
      "outputs": []
    },
    {
      "cell_type": "markdown",
      "source": [
        "#### Conv1d"
      ],
      "metadata": {
        "id": "Wem1siB7kwro"
      }
    },
    {
      "cell_type": "code",
      "source": [
        "# Sets parameters for produced model\n",
        "epochs = 10\n",
        "\n",
        "# Strategy to utilise GPU \n",
        "strategy = tf.distribute.OneDeviceStrategy('/gpu:0')\n",
        "\n",
        "# Model compilation using GPU\n",
        "with strategy.scope():\n",
        "  model = Sequential()\n",
        "  model.add(Conv1D(filters=128, kernel_size=3, activation='relu', input_shape=(sequence_length,1)))\n",
        "  model.add(Flatten())\n",
        "  model.add(Dense(sequence_length, input_shape=(sequence_length, ), activation='relu'))\n",
        "  model.add(Dense(1, activation='sigmoid'))\n",
        "\n",
        "model.compile(loss='binary_crossentropy', optimizer=\"Adam\", metrics=['accuracy'])\n",
        "\n",
        "model.summary()"
      ],
      "metadata": {
        "colab": {
          "base_uri": "https://localhost:8080/"
        },
        "id": "VH3DYGo1KVjR",
        "outputId": "5a187deb-140c-478a-d994-dafef7a92f5b"
      },
      "execution_count": 15,
      "outputs": [
        {
          "output_type": "stream",
          "name": "stdout",
          "text": [
            "Model: \"sequential_2\"\n",
            "_________________________________________________________________\n",
            " Layer (type)                Output Shape              Param #   \n",
            "=================================================================\n",
            " conv1d (Conv1D)             (None, 30, 128)           512       \n",
            "                                                                 \n",
            " flatten (Flatten)           (None, 3840)              0         \n",
            "                                                                 \n",
            " dense_4 (Dense)             (None, 32)                122912    \n",
            "                                                                 \n",
            " dense_5 (Dense)             (None, 1)                 33        \n",
            "                                                                 \n",
            "=================================================================\n",
            "Total params: 123,457\n",
            "Trainable params: 123,457\n",
            "Non-trainable params: 0\n",
            "_________________________________________________________________\n"
          ]
        }
      ]
    },
    {
      "cell_type": "code",
      "source": [
        "batch_size = 100\n",
        "# Train the model with the x/y train data and validate using the test data after each epoch\n",
        "history = model.fit(x_train, y_train, validation_data=(x_test, y_test), epochs=epochs, batch_size=batch_size)"
      ],
      "metadata": {
        "colab": {
          "base_uri": "https://localhost:8080/"
        },
        "id": "7SMzeGBfKXDu",
        "outputId": "beec6029-dafc-4c63-ff43-107d47bcb354"
      },
      "execution_count": 16,
      "outputs": [
        {
          "output_type": "stream",
          "name": "stdout",
          "text": [
            "Epoch 1/10\n",
            "2560/2560 [==============================] - 26s 8ms/step - loss: 0.6925 - accuracy: 0.5157 - val_loss: 0.6926 - val_accuracy: 0.5132\n",
            "Epoch 2/10\n",
            "2560/2560 [==============================] - 12s 5ms/step - loss: 0.6922 - accuracy: 0.5161 - val_loss: 0.6929 - val_accuracy: 0.5119\n",
            "Epoch 3/10\n",
            "2560/2560 [==============================] - 11s 4ms/step - loss: 0.6921 - accuracy: 0.5168 - val_loss: 0.6929 - val_accuracy: 0.5124\n",
            "Epoch 4/10\n",
            "2560/2560 [==============================] - 11s 4ms/step - loss: 0.6921 - accuracy: 0.5176 - val_loss: 0.6930 - val_accuracy: 0.5105\n",
            "Epoch 5/10\n",
            "2560/2560 [==============================] - 12s 5ms/step - loss: 0.6921 - accuracy: 0.5171 - val_loss: 0.6928 - val_accuracy: 0.5126\n",
            "Epoch 6/10\n",
            "2560/2560 [==============================] - 13s 5ms/step - loss: 0.6920 - accuracy: 0.5167 - val_loss: 0.6928 - val_accuracy: 0.5113\n",
            "Epoch 7/10\n",
            "2560/2560 [==============================] - 12s 5ms/step - loss: 0.6920 - accuracy: 0.5173 - val_loss: 0.6933 - val_accuracy: 0.5111\n",
            "Epoch 8/10\n",
            "2560/2560 [==============================] - 11s 4ms/step - loss: 0.6920 - accuracy: 0.5177 - val_loss: 0.6928 - val_accuracy: 0.5131\n",
            "Epoch 9/10\n",
            "2560/2560 [==============================] - 12s 5ms/step - loss: 0.6919 - accuracy: 0.5188 - val_loss: 0.6928 - val_accuracy: 0.5128\n",
            "Epoch 10/10\n",
            "2560/2560 [==============================] - 12s 5ms/step - loss: 0.6919 - accuracy: 0.5186 - val_loss: 0.6930 - val_accuracy: 0.5115\n"
          ]
        }
      ]
    },
    {
      "cell_type": "code",
      "source": [
        "model.save(\"ParkMillerConv1D1.h5\")"
      ],
      "metadata": {
        "id": "j065BFzikzJ5"
      },
      "execution_count": 17,
      "outputs": []
    },
    {
      "cell_type": "markdown",
      "source": [
        "#### Conv1d + Normalisation + Dropout"
      ],
      "metadata": {
        "id": "Bwycjmcelhbg"
      }
    },
    {
      "cell_type": "code",
      "source": [
        "# Sets parameters for produced model\n",
        "epochs = 10\n",
        "\n",
        "# Strategy to utilise GPU \n",
        "strategy = tf.distribute.OneDeviceStrategy('/gpu:0')\n",
        "\n",
        "# Model compilation using GPU\n",
        "with strategy.scope():\n",
        "  model = Sequential()\n",
        "  model.add(Conv1D(filters=128, kernel_size=3, activation='relu', input_shape=(sequence_length,1)))\n",
        "  model.add(Flatten())\n",
        "  model.add(BatchNormalization())\n",
        "  model.add(Dropout(rate=0.1))\n",
        "  model.add(Dense(sequence_length, input_shape=(sequence_length, ), activation='relu'))\n",
        "  model.add(BatchNormalization())\n",
        "  model.add(Dense(1, activation='sigmoid'))\n",
        "\n",
        "model.compile(loss='binary_crossentropy', optimizer=\"Adam\", metrics=['accuracy'])\n",
        "\n",
        "model.summary()"
      ],
      "metadata": {
        "colab": {
          "base_uri": "https://localhost:8080/"
        },
        "id": "-1R2nd8dGSad",
        "outputId": "38d397b1-46f2-4e6e-f923-9a067c5520ac"
      },
      "execution_count": 25,
      "outputs": [
        {
          "output_type": "stream",
          "name": "stdout",
          "text": [
            "Model: \"sequential_4\"\n",
            "_________________________________________________________________\n",
            " Layer (type)                Output Shape              Param #   \n",
            "=================================================================\n",
            " conv1d_2 (Conv1D)           (None, 30, 128)           512       \n",
            "                                                                 \n",
            " flatten_2 (Flatten)         (None, 3840)              0         \n",
            "                                                                 \n",
            " batch_normalization_5 (Batc  (None, 3840)             15360     \n",
            " hNormalization)                                                 \n",
            "                                                                 \n",
            " dropout_2 (Dropout)         (None, 3840)              0         \n",
            "                                                                 \n",
            " dense_8 (Dense)             (None, 32)                122912    \n",
            "                                                                 \n",
            " batch_normalization_6 (Batc  (None, 32)               128       \n",
            " hNormalization)                                                 \n",
            "                                                                 \n",
            " dense_9 (Dense)             (None, 1)                 33        \n",
            "                                                                 \n",
            "=================================================================\n",
            "Total params: 138,945\n",
            "Trainable params: 131,201\n",
            "Non-trainable params: 7,744\n",
            "_________________________________________________________________\n"
          ]
        }
      ]
    },
    {
      "cell_type": "code",
      "source": [
        "batch_size = 100\n",
        "# Train the model with the x/y train data and validate using the test data after each epoch\n",
        "history = model.fit(x_train, y_train, validation_data=(x_test, y_test), epochs=epochs, batch_size=batch_size)"
      ],
      "metadata": {
        "colab": {
          "base_uri": "https://localhost:8080/"
        },
        "id": "nt4W7dA1GmWv",
        "outputId": "cd7895cd-d5f4-4f5a-f411-aa41bf90973b"
      },
      "execution_count": 26,
      "outputs": [
        {
          "output_type": "stream",
          "name": "stdout",
          "text": [
            "Epoch 1/10\n",
            "5120/5120 [==============================] - 47s 9ms/step - loss: 0.6971 - accuracy: 0.5108 - val_loss: 0.6927 - val_accuracy: 0.5154\n",
            "Epoch 2/10\n",
            "5120/5120 [==============================] - 31s 6ms/step - loss: 0.6926 - accuracy: 0.5148 - val_loss: 0.6922 - val_accuracy: 0.5173\n",
            "Epoch 3/10\n",
            "5120/5120 [==============================] - 30s 6ms/step - loss: 0.6924 - accuracy: 0.5160 - val_loss: 0.6923 - val_accuracy: 0.5193\n",
            "Epoch 4/10\n",
            "5120/5120 [==============================] - 31s 6ms/step - loss: 0.6898 - accuracy: 0.5355 - val_loss: 0.6775 - val_accuracy: 0.5837\n",
            "Epoch 5/10\n",
            "5120/5120 [==============================] - 31s 6ms/step - loss: 0.6620 - accuracy: 0.5975 - val_loss: 0.6415 - val_accuracy: 0.6266\n",
            "Epoch 6/10\n",
            "5120/5120 [==============================] - 30s 6ms/step - loss: 0.6372 - accuracy: 0.6420 - val_loss: 0.6215 - val_accuracy: 0.6831\n",
            "Epoch 7/10\n",
            "5120/5120 [==============================] - 31s 6ms/step - loss: 0.6227 - accuracy: 0.6745 - val_loss: 0.6061 - val_accuracy: 0.7024\n",
            "Epoch 8/10\n",
            "5120/5120 [==============================] - 33s 6ms/step - loss: 0.6152 - accuracy: 0.6825 - val_loss: 0.6042 - val_accuracy: 0.7018\n",
            "Epoch 9/10\n",
            "5120/5120 [==============================] - 30s 6ms/step - loss: 0.6128 - accuracy: 0.6864 - val_loss: 0.6010 - val_accuracy: 0.7062\n",
            "Epoch 10/10\n",
            "5120/5120 [==============================] - 31s 6ms/step - loss: 0.6111 - accuracy: 0.6886 - val_loss: 0.5989 - val_accuracy: 0.7172\n"
          ]
        }
      ]
    },
    {
      "cell_type": "code",
      "source": [
        "model.save(\"ParkMillerCND1.h5\")"
      ],
      "metadata": {
        "id": "dJ4znEU1llMd"
      },
      "execution_count": 28,
      "outputs": []
    },
    {
      "cell_type": "markdown",
      "source": [
        "#### Graphing current model history"
      ],
      "metadata": {
        "id": "m9cleQ5wgWL4"
      }
    },
    {
      "cell_type": "code",
      "source": [
        "print(\"Plotting graph\")\n",
        "# Plot training & validation loss values\n",
        "# Plots loss data\n",
        "plt.plot(range(1, epochs+1), history.history['loss'])\n",
        "plt.plot(range(1, epochs+1), history.history['val_loss'])\n",
        "# Plots a label for each axis\n",
        "plt.ylabel('Loss Value')\n",
        "plt.xlabel('Epoch Number')\n",
        "# Plots the title\n",
        "plt.title('Model loss over epochs')\n",
        "# Plots the legend for each loss\n",
        "plt.legend(['Train', 'Validation'], loc='upper right')\n",
        "\n",
        "# Sets grid for plot\n",
        "plt.grid(linestyle='--', alpha=0.4)\n",
        "# Ensures the x-axis only contains integers\n",
        "plt.xticks(range(1, epochs+1))\n",
        "\n",
        "\n",
        "# Displays plot\n",
        "plt.show()\n"
      ],
      "metadata": {
        "colab": {
          "base_uri": "https://localhost:8080/",
          "height": 490
        },
        "id": "IjwVNqHagcR5",
        "outputId": "a151bd51-9183-4854-f4eb-7eb524895be6"
      },
      "execution_count": 29,
      "outputs": [
        {
          "output_type": "stream",
          "name": "stdout",
          "text": [
            "Plotting graph\n"
          ]
        },
        {
          "output_type": "display_data",
          "data": {
            "text/plain": [
              "<Figure size 640x480 with 1 Axes>"
            ],
            "image/png": "[encoded data removed]"
          },
          "metadata": {}
        }
      ]
    }
  ]
}