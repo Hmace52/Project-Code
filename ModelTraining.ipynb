{
  "nbformat": 4,
  "nbformat_minor": 0,
  "metadata": {
    "colab": {
      "provenance": []
    },
    "kernelspec": {
      "name": "python3",
      "display_name": "Python 3"
    },
    "language_info": {
      "name": "python"
    },
    "accelerator": "GPU",
    "gpuClass": "standard"
  },
  "cells": [
    {
      "cell_type": "markdown",
      "source": [
        "Demonstrate an early approach of predicting whether a generated integer is odd/even by viewing the preceeding bits"
      ],
      "metadata": {
        "id": "zMJ84pDeEmxe"
      }
    },
    {
      "cell_type": "code",
      "source": [
        "import numpy as np\n",
        "from keras.layers import LSTM, Dense\n",
        "from keras.models import Sequential\n",
        "from sklearn.model_selection import train_test_split\n",
        "import tensorflow as tf"
      ],
      "metadata": {
        "id": "jwE0LIyV-3k6"
      },
      "execution_count": 10,
      "outputs": []
    },
    {
      "cell_type": "code",
      "source": [
        "# Class used to access my implmentations of PRNGs\n",
        "class PRNGManagement():\n",
        "  # Initialises object and sets the default seed\n",
        "  def __init__(self):\n",
        "      self.seed = 0\n",
        "\n",
        "  # Method to seed the PRNG (seeds all PRNGs in class)\n",
        "  def seed_PRNG(self, seed:int):\n",
        "    self.seed:int = seed\n",
        "    self.random_number:int = seed\n",
        "\n",
        "  def bit_success(self, model, inputData, trueOutputs, sequence_length):\n",
        "    \"\"\" \n",
        "    Method to evaluate the provided model and store the amount of\n",
        "    successful predictions for each bit of the output\n",
        "    :param model: keras model - Model used to generate predicitions\n",
        "    :param trueOutputs: list[list[int]]- List containing the expected y outputs\n",
        "    :param sequence_length: int - Length of generated binary string being predicited\n",
        "    :return list[int] - Amount of successful predictions for each bit\n",
        "    \"\"\"\n",
        "    # Set initial amount of successful predictions for each bit to zero\n",
        "    successfulPredicts = [0]*sequence_length\n",
        "    # Feeds the input data to the model and stores the predictions made\n",
        "    predicted = (model.predict(inputData).round())\n",
        "    # Iterate over all outputed data\n",
        "    for testIndex in range(0, len(inputData)):\n",
        "      # Iterate over each bit in output\n",
        "      for i in range(sequence_length):\n",
        "        # If the predicted bit matches the true bit value then increment the successful predicts for the current bit\n",
        "        if predicted[testIndex][i] == trueOutputs[testIndex][i]: successfulPredicts[i] += 1\n",
        "        # Prediction may be greater than 1 if the prediction is made with high certainity\n",
        "        elif predicted[testIndex][i] > 1 and trueOutputs[testIndex][i] == 1: self.successfulPredicts[i] += 1\n",
        "\n",
        "    return successfulPredicts\n",
        "   \n",
        "\n",
        "  def zero_only_PRNG(self, length=100):\n",
        "    \"\"\" \n",
        "    Returns a binary string containing only 0 of specified length.\n",
        "    Used to test for major flaws in models\n",
        "    :param length: int - Length of generated binary string\n",
        "    :return string - generated binary string\n",
        "    \"\"\"\n",
        "    return \"0\" * length        \n",
        "\n",
        "\n",
        "  def alternating_bits_PRNG(self, length=100):\n",
        "    \"\"\" \n",
        "    Returns output of a basic PRNG implementation that alernates each bit (010101)\n",
        "    :param length: int - Length of generated binary string\n",
        "    :return string - generated binary string\n",
        "    \"\"\"\n",
        "    # Use seed to determine the starting bit of the generated binary string\n",
        "    self.seed = self.seed%2\n",
        "    # Utilises efficent method to repeat a string pattern\n",
        "    if (self.seed == 1):\n",
        "        output = \"10\" * int(length/2)\n",
        "    else:\n",
        "        output = \"01\" * int(length/2)\n",
        "\n",
        "    # Length of generated binary string is odd\n",
        "    if (length%2 == 1):\n",
        "      # Add final bit to string\n",
        "      output += str(self.seed)\n",
        "      # Set the new seed value\n",
        "      if (self.seed == 0): self.seed = 1\n",
        "      else: self.seed = 0\n",
        "    \n",
        "    return output\n",
        "\n",
        "\n",
        "  def alternating_num_PRNG(self):\n",
        "    \"\"\" \n",
        "    Returns output of a basic PRNG implementation that alernates between two binary strings\n",
        "    :return string - generated binary string\n",
        "    \"\"\"\n",
        "    # Use seed to determine the binary string to be returned\n",
        "    self.seed = (self.seed+1)%2\n",
        "    if (self.seed == 0):\n",
        "      # Convert integer to a binary string \n",
        "      randomBinary = str(bin(1643712566))[2:]\n",
        "      # Returns binary string after ensuring a minimum length of 32\n",
        "      return (32-len(randomBinary))*\"0\" + randomBinary\n",
        "    else:\n",
        "      # Convert integer to a binary string \n",
        "      randomBinary = str(bin(2372817037))[2:]\n",
        "      # Returns binary string after ensuring a minimum length of 32\n",
        "      return (32-len(randomBinary))*\"0\" + randomBinary\n",
        "\n",
        "\n",
        "  def basic_equation_based(self, mult:int, add:int, mod:int, leng:int) -> str:\n",
        "    \"\"\" \n",
        "    Returns output of a very weak equation based PRNG implementation\n",
        "    Expected to be predicted near perfectly\n",
        "    :return string - generated binary string\n",
        "    \"\"\"\n",
        "    # Generates random number using previous output as seed\n",
        "    self.random_number = (mult * self.random_number + add) % 2**mod\n",
        "    # Converts generated number to a binary string\n",
        "    bits_string = bin(self.random_number)[2:]\n",
        "    # Returns binary string after using padding to ensure a length of 32\n",
        "    return bits_string.zfill(leng)\n",
        "\n",
        "\n",
        "  ## Different implmentations of equation based generators\n",
        "  def basic_equation_based1(self) -> str:\n",
        "    return self.basic_equation_based(20, 52, 32, 32)\n",
        "\n",
        "  def basic_equation_based2(self) -> str:\n",
        "    return self.basic_equation_based(36791, 83247, 32, 32)\n",
        "\n",
        "  # Expects odd starting seed\n",
        "  def poor_equation_based(self) -> str:\n",
        "    return self.basic_equation_based(65539, 0, 31, 32)\n",
        "\n",
        "\n",
        "PRNGHandler = PRNGManagement()"
      ],
      "metadata": {
        "id": "gBAxXGQh1Cqc"
      },
      "execution_count": 16,
      "outputs": []
    },
    {
      "cell_type": "code",
      "source": [
        "currentGenerator = PRNGHandler.basic_equation_based2"
      ],
      "metadata": {
        "id": "ul_9fEbBD1gj"
      },
      "execution_count": 20,
      "outputs": []
    },
    {
      "cell_type": "code",
      "source": [
        "# Sets paramemters for generating train/test data\n",
        "num_samples = 1000\n",
        "sequence_length = 32\n",
        "# Percentage of data used for testing the created prediction model\n",
        "testDataPerc = 0.25"
      ],
      "metadata": {
        "id": "05LOzIkB-7t6"
      },
      "execution_count": 24,
      "outputs": []
    },
    {
      "cell_type": "code",
      "source": [
        "# Seeds generator\n",
        "PRNGHandler.seed_PRNG(23)\n",
        "\n",
        "# Produces training data\n",
        "visibleOutput = []\n",
        "predictionBool = []\n",
        "for _ in range(num_samples):\n",
        "  fullOutput = currentGenerator()\n",
        "  visibleOutput.append([int(bit) for bit in fullOutput[:-1]])\n",
        "  predictionBool.append([int(bit) for bit in fullOutput[-1:]])"
      ],
      "metadata": {
        "id": "utL8cRtmD0M7"
      },
      "execution_count": 25,
      "outputs": []
    },
    {
      "cell_type": "code",
      "source": [
        "# Splits the x/y data into test and train data\n",
        "x_train, x_test, y_train, y_test = train_test_split(visibleOutput, predictionBool, test_size = testDataPerc, random_state = 0)"
      ],
      "metadata": {
        "id": "b6vDll1xEbbC"
      },
      "execution_count": null,
      "outputs": []
    },
    {
      "cell_type": "code",
      "source": [
        "# Sets the model type and sets the layers\n",
        "model = Sequential()\n",
        "model.add(LSTM(32, input_shape=(sequence_length-1, 1), return_sequences=True))\n",
        "model.add(LSTM(16, activation='relu',  return_sequences=True))\n",
        "model.add(LSTM(8, activation='relu', return_sequences=False))\n",
        "model.add(Dense(1, activation='sigmoid'))\n",
        "\n",
        "# Compiles the model\n",
        "model.compile(loss='binary_crossentropy', optimizer='adam', metrics=['accuracy'])"
      ],
      "metadata": {
        "id": "ArwLwDAkEdZW"
      },
      "execution_count": null,
      "outputs": []
    },
    {
      "cell_type": "markdown",
      "source": [
        "High accuracy was only achieved on basic models with highly predictly final bits"
      ],
      "metadata": {
        "id": "JxUw0foFFS3_"
      }
    },
    {
      "cell_type": "code",
      "source": [
        "# Train the model with the x/y train data\n",
        "model.fit(x_train, y_train, epochs=10, batch_size=32)\n",
        "\n",
        "# Evaluates the model using the x/y test data\n",
        "loss, accuracy = model.evaluate(x_test, y_test)"
      ],
      "metadata": {
        "colab": {
          "base_uri": "https://localhost:8080/"
        },
        "outputId": "1bddd98c-5ef1-4fa6-fb9b-6312a76ced69",
        "id": "-aXw0W6qoaLe"
      },
      "execution_count": 27,
      "outputs": [
        {
          "output_type": "stream",
          "name": "stderr",
          "text": [
            "WARNING:tensorflow:Layer lstm_23 will not use cuDNN kernels since it doesn't meet the criteria. It will use a generic GPU kernel as fallback when running on GPU.\n",
            "WARNING:tensorflow:Layer lstm_24 will not use cuDNN kernels since it doesn't meet the criteria. It will use a generic GPU kernel as fallback when running on GPU.\n"
          ]
        },
        {
          "output_type": "stream",
          "name": "stdout",
          "text": [
            "Epoch 1/10\n",
            "24/24 [==============================] - 48s 110ms/step - loss: 0.6935 - accuracy: 0.5013\n",
            "Epoch 2/10\n",
            "24/24 [==============================] - 3s 111ms/step - loss: 0.6918 - accuracy: 0.5867\n",
            "Epoch 3/10\n",
            "24/24 [==============================] - 4s 148ms/step - loss: 0.6908 - accuracy: 0.5747\n",
            "Epoch 4/10\n",
            "24/24 [==============================] - 3s 112ms/step - loss: 0.6883 - accuracy: 0.6547\n",
            "Epoch 5/10\n",
            "24/24 [==============================] - 3s 111ms/step - loss: 0.6825 - accuracy: 0.5733\n",
            "Epoch 6/10\n",
            "24/24 [==============================] - 3s 111ms/step - loss: 0.6516 - accuracy: 0.6653\n",
            "Epoch 7/10\n",
            "24/24 [==============================] - 3s 119ms/step - loss: 0.4198 - accuracy: 0.8267\n",
            "Epoch 8/10\n",
            "24/24 [==============================] - 4s 156ms/step - loss: 0.1204 - accuracy: 0.9947\n",
            "Epoch 9/10\n",
            "24/24 [==============================] - 3s 137ms/step - loss: 0.0244 - accuracy: 1.0000\n",
            "Epoch 10/10\n",
            "24/24 [==============================] - 4s 188ms/step - loss: 0.0537 - accuracy: 0.9827\n",
            "8/8 [==============================] - 1s 20ms/step - loss: 0.1133 - accuracy: 1.0000\n"
          ]
        }
      ]
    }
  ]
}