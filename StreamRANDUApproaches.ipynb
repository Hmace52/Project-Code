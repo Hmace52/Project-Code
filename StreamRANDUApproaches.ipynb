{
  "nbformat": 4,
  "nbformat_minor": 0,
  "metadata": {
    "colab": {
      "provenance": []
    },
    "kernelspec": {
      "name": "python3",
      "display_name": "Python 3"
    },
    "language_info": {
      "name": "python"
    },
    "accelerator": "GPU",
    "gpuClass": "standard"
  },
  "cells": [
    {
      "cell_type": "markdown",
      "source": [
        "## Required installs/imports\n"
      ],
      "metadata": {
        "id": "gEtAF1ghdNj-"
      }
    },
    {
      "cell_type": "code",
      "source": [
        "!pip install pure-prng"
      ],
      "metadata": {
        "id": "t3QeVxqDH5qP",
        "colab": {
          "base_uri": "https://localhost:8080/"
        },
        "outputId": "3a7d5bfa-61f6-4f3a-b214-043283a7b83f"
      },
      "execution_count": 1,
      "outputs": [
        {
          "output_type": "stream",
          "name": "stdout",
          "text": [
            "Looking in indexes: https://pypi.org/simple, https://us-python.pkg.dev/colab-wheels/public/simple/\n",
            "Collecting pure-prng\n",
            "  Downloading pure_prng-2.9.0-py3-none-any.whl (32 kB)\n",
            "Collecting randomgen>=1.20.3\n",
            "  Downloading randomgen-1.23.1-cp39-cp39-manylinux_2_17_x86_64.manylinux2014_x86_64.whl (3.2 MB)\n",
            "\u001b[2K     \u001b[90m━━━━━━━━━━━━━━━━━━━━━━━━━━━━━━━━━━━━━━━━\u001b[0m \u001b[32m3.2/3.2 MB\u001b[0m \u001b[31m40.9 MB/s\u001b[0m eta \u001b[36m0:00:00\u001b[0m\n",
            "\u001b[?25hCollecting pure-nrng>=1.1.0\n",
            "  Downloading pure_nrng-1.1.0-py3-none-any.whl (21 kB)\n",
            "Collecting gmpy2>=2.0.8\n",
            "  Downloading gmpy2-2.1.5-cp39-cp39-manylinux_2_17_x86_64.manylinux2014_x86_64.whl (1.7 MB)\n",
            "\u001b[2K     \u001b[90m━━━━━━━━━━━━━━━━━━━━━━━━━━━━━━━━━━━━━━━━\u001b[0m \u001b[32m1.7/1.7 MB\u001b[0m \u001b[31m49.2 MB/s\u001b[0m eta \u001b[36m0:00:00\u001b[0m\n",
            "\u001b[?25hRequirement already satisfied: numpy>=1.17 in /usr/local/lib/python3.9/dist-packages (from randomgen>=1.20.3->pure-prng) (1.22.4)\n",
            "Installing collected packages: gmpy2, randomgen, pure-nrng, pure-prng\n",
            "Successfully installed gmpy2-2.1.5 pure-nrng-1.1.0 pure-prng-2.9.0 randomgen-1.23.1\n"
          ]
        }
      ]
    },
    {
      "cell_type": "code",
      "execution_count": 11,
      "metadata": {
        "id": "RvbBxhpgt7Ig"
      },
      "outputs": [],
      "source": [
        "# Necessary imports\n",
        "#from pure_prng_package import pure_prng\n",
        "import numpy as np\n",
        "import tensorflow as tf\n",
        "from keras.layers import *\n",
        "from keras.models import Sequential\n",
        "from sklearn.model_selection import train_test_split\n",
        "from keras.optimizers import Adam\n",
        "import matplotlib.pyplot as plt\n",
        "import math\n",
        "import time"
      ]
    },
    {
      "cell_type": "markdown",
      "source": [
        "## Classes to provide data generation/evaluation methods"
      ],
      "metadata": {
        "id": "T0n19N9-dRnD"
      }
    },
    {
      "cell_type": "code",
      "source": [
        "# Class used to access my implmentations of PRNGs\n",
        "class PRNGManagement():\n",
        "  # Initialises object and sets the default seed\n",
        "  def __init__(self, seed=0):\n",
        "      self.seed = seed\n",
        "      self.random_number:int = seed\n",
        "      self.currentGenerator = self.zero_only_PRNG()\n",
        "\n",
        "  # Method to seed the PRNG (seeds all PRNGs in class)\n",
        "  def seed_PRNG(self, seed:int):\n",
        "    self.seed:int = seed\n",
        "    self.random_number:int = seed\n",
        "\n",
        "  def set_generator(self, generatorMethod):\n",
        "    self.currentGenerator = generatorMethod\n",
        "\n",
        "  def bit_success(self, model, inputData, trueOutputs, sequence_length):\n",
        "    \"\"\" \n",
        "    Method to evaluate the provided model and store the amount of\n",
        "    successful predictions for each bit of the output\n",
        "    :param model: keras model - Model used to generate predicitions\n",
        "    :param trueOutputs: list[list[int]]- List containing the expected y outputs\n",
        "    :param sequence_length: int - Length of generated binary string being predicited\n",
        "    :return list[int] - Amount of successful predictions for each bit\n",
        "    \"\"\"\n",
        "    # Set initial amount of successful predictions for each bit to zero\n",
        "    successfulPredicts = [0]*sequence_length\n",
        "    # Feeds the input data to the model and stores the predictions made\n",
        "    predicted = (model.predict(inputData).round())\n",
        "    # Iterate over all outputed data\n",
        "    for testIndex in range(0, len(inputData)):\n",
        "      # Iterate over each bit in output\n",
        "      for i in range(sequence_length):\n",
        "        # If the predicted bit matches the true bit value then increment the successful predicts for the current bit\n",
        "        if predicted[testIndex][i] == trueOutputs[testIndex][i]: successfulPredicts[i] += 1\n",
        "        # Prediction may be greater than 1 if the prediction is made with high certainity\n",
        "        elif predicted[testIndex][i] > 1 and trueOutputs[testIndex][i] == 1: self.successfulPredicts[i] += 1\n",
        "\n",
        "    return successfulPredicts\n",
        "   \n",
        "\n",
        "  def zero_only_PRNG(self, length=100):\n",
        "    \"\"\" \n",
        "    Returns a binary string containing only 0 of specified length.\n",
        "    Used to test for major flaws in models\n",
        "    :param length: int - Length of generated binary string\n",
        "    :return string - generated binary string\n",
        "    \"\"\"\n",
        "    return \"0\" * length        \n",
        "\n",
        "\n",
        "  def alternating_bits_PRNG(self, length=100):\n",
        "    \"\"\" \n",
        "    Returns output of a basic PRNG implementation that alernates each bit (010101)\n",
        "    :param length: int - Length of generated binary string\n",
        "    :return string - generated binary string\n",
        "    \"\"\"\n",
        "    # Use seed to determine the starting bit of the generated binary string\n",
        "    self.seed = self.seed%2\n",
        "    # Utilises efficent method to repeat a string pattern\n",
        "    if (self.seed == 1):\n",
        "        output = \"10\" * int(length/2)\n",
        "    else:\n",
        "        output = \"01\" * int(length/2)\n",
        "\n",
        "    # Length of generated binary string is odd\n",
        "    if (length%2 == 1):\n",
        "      # Add final bit to string\n",
        "      output += str(self.seed)\n",
        "      # Set the new seed value\n",
        "      if (self.seed == 0): self.seed = 1\n",
        "      else: self.seed = 0\n",
        "    \n",
        "    return output\n",
        "\n",
        "\n",
        "  def alternating_num_PRNG(self):\n",
        "    \"\"\" \n",
        "    Returns output of a basic PRNG implementation that alernates between two binary strings\n",
        "    :return string - generated binary string\n",
        "    \"\"\"\n",
        "    # Use seed to determine the binary string to be returned\n",
        "    self.seed = (self.seed+1)%2\n",
        "    if (self.seed == 0):\n",
        "      # Convert integer to a binary string \n",
        "      randomBinary = str(bin(1643712566))[2:]\n",
        "      # Returns binary string after ensuring a minimum length of 32\n",
        "      return (32-len(randomBinary))*\"0\" + randomBinary\n",
        "    else:\n",
        "      # Convert integer to a binary string \n",
        "      randomBinary = str(bin(2372817037))[2:]\n",
        "      # Returns binary string after ensuring a minimum length of 32\n",
        "      return (32-len(randomBinary))*\"0\" + randomBinary\n",
        "\n",
        "\n",
        "  def basic_equation_based(self, mult:int, add:int, mod:int, leng:int) -> str:\n",
        "    \"\"\" \n",
        "    Returns output of a very weak equation based PRNG implementation\n",
        "    Expected to be predicted near perfectly\n",
        "    :return string - generated binary string\n",
        "    \"\"\"\n",
        "    # Generates random number using previous output as seed\n",
        "    self.random_number = (mult * self.random_number + add) % 2**mod\n",
        "    # Converts generated number to a binary string\n",
        "    bits_string = bin(self.random_number)[2:]\n",
        "    # Returns binary string after using padding to ensure a length of 32\n",
        "    return bits_string.zfill(leng)\n",
        "\n",
        "\n",
        "  ## Different implmentations of equation based generators\n",
        "  def basic_equation_based1(self) -> str:\n",
        "    return self.basic_equation_based(20, 52, 32, 32)\n",
        "\n",
        "  def basic_equation_based2(self) -> str:\n",
        "    return self.basic_equation_based(36791, 83247, 32, 32)\n",
        "\n",
        "  # Expects odd starting seed\n",
        "  # Imeplementation of the PRNG 'RANDU' - Outdated PRNG\n",
        "  def RANDU(self) -> str:\n",
        "    return self.basic_equation_based(65539, 0, 31, 31)\n",
        "\n",
        "  # Get stream of binary data form current generator\n",
        "  def get_stream(self, number_of_blocks:int):\n",
        "    stream = []\n",
        "    for _ in range(number_of_blocks):\n",
        "      # Converts generated binary string to list of ints\n",
        "      block = [int(bit) for bit in self.currentGenerator()] \n",
        "      stream.extend(block)\n",
        "    return stream"
      ],
      "metadata": {
        "id": "5XBLpCikQu5X"
      },
      "execution_count": 12,
      "outputs": []
    },
    {
      "cell_type": "markdown",
      "source": [
        "## Data generation function to be used during data production"
      ],
      "metadata": {
        "id": "dgeMdcbIdvIV"
      }
    },
    {
      "cell_type": "code",
      "source": [
        "# Creates object to use 'RANDU' PRNG\n",
        "PRNGHandler = PRNGManagement(1)\n",
        "PRNGHandler.set_generator(PRNGHandler.RANDU)\n",
        "\n",
        "# Generation/seed functions for use\n",
        "def generatorOutput(blockNum): return PRNGHandler.get_stream(blockNum)\n",
        "def seedGenerator(seed): PRNGHandler.seed_PRNG(seed)"
      ],
      "metadata": {
        "id": "LGELTqwOVa9h"
      },
      "execution_count": 13,
      "outputs": []
    },
    {
      "cell_type": "markdown",
      "source": [
        "## Setting parameters for data generation"
      ],
      "metadata": {
        "id": "et5qzmMCfX1V"
      }
    },
    {
      "cell_type": "code",
      "source": [
        "### Setting parameters\n",
        "# Sets paramemters for generating train/test data\n",
        "num_blocks = 10000\n",
        "sequence_length = 31\n",
        "\n",
        "# Calculates number of samples produced\n",
        "num_samples = (num_blocks-1)*sequence_length\n",
        "\n",
        "print(\"Number of samples: \", num_samples)"
      ],
      "metadata": {
        "id": "3KJKALf4fYvG",
        "colab": {
          "base_uri": "https://localhost:8080/"
        },
        "outputId": "a00ffa22-9238-49fe-afca-2a79e4c220ee"
      },
      "execution_count": 14,
      "outputs": [
        {
          "output_type": "stream",
          "name": "stdout",
          "text": [
            "Number of samples:  309969\n"
          ]
        }
      ]
    },
    {
      "cell_type": "markdown",
      "source": [
        "## Produces data for training/testing"
      ],
      "metadata": {
        "id": "XmBONkQVsfc8"
      }
    },
    {
      "cell_type": "code",
      "execution_count": 15,
      "metadata": {
        "id": "L-H_--JU6MG7"
      },
      "outputs": [],
      "source": [
        "# Seed generator\n",
        "seedGenerator(23)\n",
        "# Get stream data \n",
        "streamData = generatorOutput(num_blocks)\n",
        "\n",
        "# Stores output in variable to allow the sample to be featued in both x and y data\n",
        "X_data, Y_data = [], []\n",
        "\n",
        "# Extracts stream data samples\n",
        "for i in range(num_samples):\n",
        "  X_data.append(streamData[i:i+sequence_length])\n",
        "  Y_data.append([streamData[i+sequence_length]])\n",
        "\n",
        "# Deletes variable to save memory\n",
        "del streamData"
      ]
    },
    {
      "cell_type": "markdown",
      "source": [
        "## Splitting data into training/testing sets"
      ],
      "metadata": {
        "id": "Iyva9G6Bsiu6"
      }
    },
    {
      "cell_type": "code",
      "source": [
        "### Separate data into training/testing sets\n",
        "# Percentage of data used for testing the created prediction model\n",
        "testDataPerc = 0.2\n",
        "\n",
        "x_train, x_test, y_train, y_test = train_test_split(X_data, Y_data, test_size = testDataPerc, random_state = 5)\n",
        "\n",
        "# Deletes variable to save memory\n",
        "del X_data\n",
        "del Y_data"
      ],
      "metadata": {
        "id": "BkYDUqe1Eg9X"
      },
      "execution_count": 16,
      "outputs": []
    },
    {
      "cell_type": "markdown",
      "source": [
        "## Creation and training of different models"
      ],
      "metadata": {
        "id": "Dzn6PoDxsoFn"
      }
    },
    {
      "cell_type": "markdown",
      "source": [
        "#### Dense + Normalisation + Dropout"
      ],
      "metadata": {
        "id": "w8H8DtNPwAVb"
      }
    },
    {
      "cell_type": "code",
      "execution_count": 17,
      "metadata": {
        "colab": {
          "base_uri": "https://localhost:8080/"
        },
        "id": "yx3kGN-5tXFp",
        "outputId": "6230a7c0-0ca8-48ab-a3aa-ceb60d13bbf2"
      },
      "outputs": [
        {
          "output_type": "stream",
          "name": "stdout",
          "text": [
            "Model: \"sequential_1\"\n",
            "_________________________________________________________________\n",
            " Layer (type)                Output Shape              Param #   \n",
            "=================================================================\n",
            " dense_2 (Dense)             (None, 31)                992       \n",
            "                                                                 \n",
            " batch_normalization_2 (Batc  (None, 31)               124       \n",
            " hNormalization)                                                 \n",
            "                                                                 \n",
            " dropout_1 (Dropout)         (None, 31)                0         \n",
            "                                                                 \n",
            " batch_normalization_3 (Batc  (None, 31)               124       \n",
            " hNormalization)                                                 \n",
            "                                                                 \n",
            " dense_3 (Dense)             (None, 15)                480       \n",
            "                                                                 \n",
            " batch_normalization_4 (Batc  (None, 15)               60        \n",
            " hNormalization)                                                 \n",
            "                                                                 \n",
            " dense_4 (Dense)             (None, 1)                 16        \n",
            "                                                                 \n",
            "=================================================================\n",
            "Total params: 1,796\n",
            "Trainable params: 1,642\n",
            "Non-trainable params: 154\n",
            "_________________________________________________________________\n"
          ]
        }
      ],
      "source": [
        "# Sets parameters for model\n",
        "epochs = 10\n",
        "\n",
        "# Strategy to utilise GPU \n",
        "strategy = tf.distribute.OneDeviceStrategy('/gpu:0')\n",
        "\n",
        "# Model compilation using GPU\n",
        "with strategy.scope():\n",
        "  model = Sequential()\n",
        "  model.add(Dense(sequence_length, input_shape=(sequence_length, ), activation='relu'))\n",
        "  model.add(BatchNormalization())\n",
        "  model.add(Dropout(rate=0.1))\n",
        "  model.add(BatchNormalization())\n",
        "  model.add(Dense(sequence_length//2, activation='relu'))\n",
        "  model.add(BatchNormalization())\n",
        "  model.add(Dense(1, activation='sigmoid'))\n",
        "\n",
        "model.compile(loss='binary_crossentropy', optimizer=\"Adam\", metrics=['accuracy'])\n",
        "\n",
        "model.summary()"
      ]
    },
    {
      "cell_type": "code",
      "source": [
        "batch_size = 100\n",
        "# Train the model with the x/y train data and validate using the test data after each epoch\n",
        "history = model.fit(x_train, y_train, validation_data=(x_test, y_test), epochs=epochs, batch_size=batch_size)"
      ],
      "metadata": {
        "colab": {
          "base_uri": "https://localhost:8080/"
        },
        "id": "BltsG9O6IhcN",
        "outputId": "047b39d7-0ff2-410c-c91f-5b542f9647d6"
      },
      "execution_count": 18,
      "outputs": [
        {
          "output_type": "stream",
          "name": "stdout",
          "text": [
            "Epoch 1/10\n",
            "2480/2480 [==============================] - 36s 13ms/step - loss: 0.6805 - accuracy: 0.5821 - val_loss: 0.5943 - val_accuracy: 0.6955\n",
            "Epoch 2/10\n",
            "2480/2480 [==============================] - 24s 10ms/step - loss: 0.5653 - accuracy: 0.7096 - val_loss: 0.5277 - val_accuracy: 0.7279\n",
            "Epoch 3/10\n",
            "2480/2480 [==============================] - 24s 10ms/step - loss: 0.5344 - accuracy: 0.7224 - val_loss: 0.5109 - val_accuracy: 0.7354\n",
            "Epoch 4/10\n",
            "2480/2480 [==============================] - 24s 9ms/step - loss: 0.5226 - accuracy: 0.7296 - val_loss: 0.5012 - val_accuracy: 0.7432\n",
            "Epoch 5/10\n",
            "2480/2480 [==============================] - 23s 9ms/step - loss: 0.5166 - accuracy: 0.7331 - val_loss: 0.4962 - val_accuracy: 0.7458\n",
            "Epoch 6/10\n",
            "2480/2480 [==============================] - 24s 9ms/step - loss: 0.5119 - accuracy: 0.7363 - val_loss: 0.4996 - val_accuracy: 0.7431\n",
            "Epoch 7/10\n",
            "2480/2480 [==============================] - 24s 9ms/step - loss: 0.5079 - accuracy: 0.7387 - val_loss: 0.4916 - val_accuracy: 0.7499\n",
            "Epoch 8/10\n",
            "2480/2480 [==============================] - 23s 9ms/step - loss: 0.5054 - accuracy: 0.7409 - val_loss: 0.4901 - val_accuracy: 0.7498\n",
            "Epoch 9/10\n",
            "2480/2480 [==============================] - 23s 9ms/step - loss: 0.5039 - accuracy: 0.7404 - val_loss: 0.4890 - val_accuracy: 0.7494\n",
            "Epoch 10/10\n",
            "2480/2480 [==============================] - 24s 10ms/step - loss: 0.5022 - accuracy: 0.7420 - val_loss: 0.4882 - val_accuracy: 0.7503\n"
          ]
        }
      ]
    },
    {
      "cell_type": "code",
      "source": [
        "model.save(\"RANDUDND1.h5\")"
      ],
      "metadata": {
        "id": "ePIJFfV4bU2X"
      },
      "execution_count": 19,
      "outputs": []
    },
    {
      "cell_type": "markdown",
      "source": [
        "#### Long Short-Term Memory"
      ],
      "metadata": {
        "id": "kmpIQ40VwJSw"
      }
    },
    {
      "cell_type": "code",
      "source": [
        "# Sets parameters for model\n",
        "epochs = 10\n",
        "\n",
        "# Strategy to utilise GPU \n",
        "strategy = tf.distribute.OneDeviceStrategy('/gpu:0')\n",
        "\n",
        "# Model compilation using GPU\n",
        "with strategy.scope():\n",
        "  model = Sequential()\n",
        "  model.add(LSTM(int(sequence_length), input_shape=(sequence_length, 1), return_sequences=True))\n",
        "  model.add(LSTM(int(sequence_length/1.5), return_sequences=True))\n",
        "  model.add(LSTM(int(sequence_length/2)))\n",
        "  model.add(Dense(1, activation='sigmoid'))\n",
        "\n",
        "\n",
        "  model.compile(loss='binary_crossentropy', optimizer=\"Adam\", metrics=['accuracy'])\n",
        "\n",
        "  model.summary()"
      ],
      "metadata": {
        "colab": {
          "base_uri": "https://localhost:8080/"
        },
        "id": "tTPCqRdDFb54",
        "outputId": "d8bcf0e3-4c38-4da9-8767-26e546348d5e"
      },
      "execution_count": 20,
      "outputs": [
        {
          "output_type": "stream",
          "name": "stdout",
          "text": [
            "Model: \"sequential_2\"\n",
            "_________________________________________________________________\n",
            " Layer (type)                Output Shape              Param #   \n",
            "=================================================================\n",
            " lstm (LSTM)                 (None, 31, 31)            4092      \n",
            "                                                                 \n",
            " lstm_1 (LSTM)               (None, 31, 20)            4160      \n",
            "                                                                 \n",
            " lstm_2 (LSTM)               (None, 15)                2160      \n",
            "                                                                 \n",
            " dense_5 (Dense)             (None, 1)                 16        \n",
            "                                                                 \n",
            "=================================================================\n",
            "Total params: 10,428\n",
            "Trainable params: 10,428\n",
            "Non-trainable params: 0\n",
            "_________________________________________________________________\n"
          ]
        }
      ]
    },
    {
      "cell_type": "code",
      "source": [
        "batch_size = 100\n",
        "# Train the model with the x/y train data and validate using the test data after each epoch\n",
        "history = model.fit(x_train, y_train, validation_data=(x_test, y_test), epochs=epochs, batch_size=batch_size)"
      ],
      "metadata": {
        "colab": {
          "base_uri": "https://localhost:8080/"
        },
        "id": "eMY1z2lhFcX7",
        "outputId": "1dff2275-ab4a-4099-df5c-39536092b55e"
      },
      "execution_count": 21,
      "outputs": [
        {
          "output_type": "stream",
          "name": "stdout",
          "text": [
            "Epoch 1/10\n",
            "2480/2480 [==============================] - 54s 18ms/step - loss: 0.6726 - accuracy: 0.5736 - val_loss: 0.6467 - val_accuracy: 0.6317\n",
            "Epoch 2/10\n",
            "2480/2480 [==============================] - 36s 14ms/step - loss: 0.6282 - accuracy: 0.6630 - val_loss: 0.6187 - val_accuracy: 0.6744\n",
            "Epoch 3/10\n",
            "2480/2480 [==============================] - 36s 15ms/step - loss: 0.6171 - accuracy: 0.6789 - val_loss: 0.6135 - val_accuracy: 0.6840\n",
            "Epoch 4/10\n",
            "2480/2480 [==============================] - 36s 15ms/step - loss: 0.6140 - accuracy: 0.6804 - val_loss: 0.6104 - val_accuracy: 0.6810\n",
            "Epoch 5/10\n",
            "2480/2480 [==============================] - 36s 15ms/step - loss: 0.6115 - accuracy: 0.6812 - val_loss: 0.6173 - val_accuracy: 0.6788\n",
            "Epoch 6/10\n",
            "2480/2480 [==============================] - 36s 15ms/step - loss: 0.6056 - accuracy: 0.6839 - val_loss: 0.6007 - val_accuracy: 0.6841\n",
            "Epoch 7/10\n",
            "2480/2480 [==============================] - 38s 15ms/step - loss: 0.5989 - accuracy: 0.6871 - val_loss: 0.5915 - val_accuracy: 0.6930\n",
            "Epoch 8/10\n",
            "2480/2480 [==============================] - 37s 15ms/step - loss: 0.5921 - accuracy: 0.6908 - val_loss: 0.5935 - val_accuracy: 0.6877\n",
            "Epoch 9/10\n",
            "2480/2480 [==============================] - 38s 15ms/step - loss: 0.5881 - accuracy: 0.6928 - val_loss: 0.5944 - val_accuracy: 0.6886\n",
            "Epoch 10/10\n",
            "2480/2480 [==============================] - 38s 15ms/step - loss: 0.5845 - accuracy: 0.6945 - val_loss: 0.5913 - val_accuracy: 0.6910\n"
          ]
        }
      ]
    },
    {
      "cell_type": "code",
      "source": [
        "model.save(\"RANDULTSM1.h5\")"
      ],
      "metadata": {
        "id": "hyQLV_XLeJuE"
      },
      "execution_count": 22,
      "outputs": []
    },
    {
      "cell_type": "markdown",
      "source": [
        "#### Conv1d"
      ],
      "metadata": {
        "id": "8W92TcPPwSZm"
      }
    },
    {
      "cell_type": "code",
      "source": [
        "# Sets parameters for produced model\n",
        "epochs = 10\n",
        "\n",
        "# Strategy to utilise GPU \n",
        "strategy = tf.distribute.OneDeviceStrategy('/gpu:0')\n",
        "\n",
        "# Model compilation using GPU\n",
        "with strategy.scope():\n",
        "  model = Sequential()\n",
        "  model.add(Conv1D(filters=128, kernel_size=3, activation='relu', input_shape=(sequence_length,1)))\n",
        "  model.add(Flatten())\n",
        "  model.add(Dense(sequence_length, input_shape=(sequence_length, ), activation='relu'))\n",
        "  model.add(Dense(1, activation='sigmoid'))\n",
        "\n",
        "model.compile(loss='binary_crossentropy', optimizer=\"Adam\", metrics=['accuracy'])\n",
        "\n",
        "model.summary()"
      ],
      "metadata": {
        "colab": {
          "base_uri": "https://localhost:8080/"
        },
        "id": "VH3DYGo1KVjR",
        "outputId": "922cd21f-d6eb-4a60-f950-a9496273f45a"
      },
      "execution_count": 23,
      "outputs": [
        {
          "output_type": "stream",
          "name": "stdout",
          "text": [
            "Model: \"sequential_3\"\n",
            "_________________________________________________________________\n",
            " Layer (type)                Output Shape              Param #   \n",
            "=================================================================\n",
            " conv1d_1 (Conv1D)           (None, 29, 128)           512       \n",
            "                                                                 \n",
            " flatten_1 (Flatten)         (None, 3712)              0         \n",
            "                                                                 \n",
            " dense_6 (Dense)             (None, 31)                115103    \n",
            "                                                                 \n",
            " dense_7 (Dense)             (None, 1)                 32        \n",
            "                                                                 \n",
            "=================================================================\n",
            "Total params: 115,647\n",
            "Trainable params: 115,647\n",
            "Non-trainable params: 0\n",
            "_________________________________________________________________\n"
          ]
        }
      ]
    },
    {
      "cell_type": "code",
      "source": [
        "batch_size = 100\n",
        "# Train the model with the x/y train data and validate using the test data after each epoch\n",
        "history = model.fit(x_train, y_train, validation_data=(x_test, y_test), epochs=epochs, batch_size=batch_size)"
      ],
      "metadata": {
        "colab": {
          "base_uri": "https://localhost:8080/"
        },
        "id": "7SMzeGBfKXDu",
        "outputId": "b55d2ec3-34f0-48cf-8bed-b6cdac109b17"
      },
      "execution_count": 24,
      "outputs": [
        {
          "output_type": "stream",
          "name": "stdout",
          "text": [
            "Epoch 1/10\n",
            "2480/2480 [==============================] - 26s 10ms/step - loss: 0.5795 - accuracy: 0.6862 - val_loss: 0.5412 - val_accuracy: 0.7228\n",
            "Epoch 2/10\n",
            "2480/2480 [==============================] - 16s 7ms/step - loss: 0.5255 - accuracy: 0.7290 - val_loss: 0.5155 - val_accuracy: 0.7310\n",
            "Epoch 3/10\n",
            "2480/2480 [==============================] - 16s 6ms/step - loss: 0.5079 - accuracy: 0.7385 - val_loss: 0.5048 - val_accuracy: 0.7395\n",
            "Epoch 4/10\n",
            "2480/2480 [==============================] - 15s 6ms/step - loss: 0.5006 - accuracy: 0.7428 - val_loss: 0.5001 - val_accuracy: 0.7424\n",
            "Epoch 5/10\n",
            "2480/2480 [==============================] - 16s 7ms/step - loss: 0.4971 - accuracy: 0.7453 - val_loss: 0.5002 - val_accuracy: 0.7436\n",
            "Epoch 6/10\n",
            "2480/2480 [==============================] - 17s 7ms/step - loss: 0.4943 - accuracy: 0.7471 - val_loss: 0.4970 - val_accuracy: 0.7441\n",
            "Epoch 7/10\n",
            "2480/2480 [==============================] - 17s 7ms/step - loss: 0.4924 - accuracy: 0.7486 - val_loss: 0.5027 - val_accuracy: 0.7416\n",
            "Epoch 8/10\n",
            "2480/2480 [==============================] - 16s 6ms/step - loss: 0.4913 - accuracy: 0.7485 - val_loss: 0.4935 - val_accuracy: 0.7444\n",
            "Epoch 9/10\n",
            "2480/2480 [==============================] - 16s 6ms/step - loss: 0.4896 - accuracy: 0.7493 - val_loss: 0.4960 - val_accuracy: 0.7445\n",
            "Epoch 10/10\n",
            "2480/2480 [==============================] - 15s 6ms/step - loss: 0.4884 - accuracy: 0.7503 - val_loss: 0.4947 - val_accuracy: 0.7446\n"
          ]
        }
      ]
    },
    {
      "cell_type": "code",
      "source": [
        "model.save(\"RANDUConv1D1.h5\")"
      ],
      "metadata": {
        "id": "77HrMgYNfHom"
      },
      "execution_count": 25,
      "outputs": []
    },
    {
      "cell_type": "markdown",
      "source": [
        "#### Conv1d + Normalisation + Dropout"
      ],
      "metadata": {
        "id": "_Jo1sgO-wUeI"
      }
    },
    {
      "cell_type": "code",
      "source": [
        "# Sets parameters for produced model\n",
        "epochs = 10\n",
        "\n",
        "# Strategy to utilise GPU \n",
        "strategy = tf.distribute.OneDeviceStrategy('/gpu:0')\n",
        "\n",
        "# Model compilation using GPU\n",
        "with strategy.scope():\n",
        "  model = Sequential()\n",
        "  model.add(Conv1D(filters=128, kernel_size=3, activation='relu', input_shape=(sequence_length,1)))\n",
        "  model.add(Flatten())\n",
        "  model.add(BatchNormalization())\n",
        "  model.add(Dropout(rate=0.1))\n",
        "  model.add(Dense(sequence_length, input_shape=(sequence_length, ), activation='relu'))\n",
        "  model.add(BatchNormalization())\n",
        "  model.add(Dense(1, activation='sigmoid'))\n",
        "\n",
        "model.compile(loss='binary_crossentropy', optimizer=\"Adam\", metrics=['accuracy'])\n",
        "\n",
        "model.summary()"
      ],
      "metadata": {
        "colab": {
          "base_uri": "https://localhost:8080/"
        },
        "id": "-1R2nd8dGSad",
        "outputId": "54641e4a-e915-4700-c23a-678966af422c"
      },
      "execution_count": 26,
      "outputs": [
        {
          "output_type": "stream",
          "name": "stdout",
          "text": [
            "Model: \"sequential_4\"\n",
            "_________________________________________________________________\n",
            " Layer (type)                Output Shape              Param #   \n",
            "=================================================================\n",
            " conv1d_2 (Conv1D)           (None, 29, 128)           512       \n",
            "                                                                 \n",
            " flatten_2 (Flatten)         (None, 3712)              0         \n",
            "                                                                 \n",
            " batch_normalization_5 (Batc  (None, 3712)             14848     \n",
            " hNormalization)                                                 \n",
            "                                                                 \n",
            " dropout_2 (Dropout)         (None, 3712)              0         \n",
            "                                                                 \n",
            " dense_8 (Dense)             (None, 31)                115103    \n",
            "                                                                 \n",
            " batch_normalization_6 (Batc  (None, 31)               124       \n",
            " hNormalization)                                                 \n",
            "                                                                 \n",
            " dense_9 (Dense)             (None, 1)                 32        \n",
            "                                                                 \n",
            "=================================================================\n",
            "Total params: 130,619\n",
            "Trainable params: 123,133\n",
            "Non-trainable params: 7,486\n",
            "_________________________________________________________________\n"
          ]
        }
      ]
    },
    {
      "cell_type": "code",
      "source": [
        "batch_size = 100\n",
        "# Train the model with the x/y train data and validate using the test data after each epoch\n",
        "history = model.fit(x_train, y_train, validation_data=(x_test, y_test), epochs=epochs, batch_size=batch_size)"
      ],
      "metadata": {
        "colab": {
          "base_uri": "https://localhost:8080/"
        },
        "id": "nt4W7dA1GmWv",
        "outputId": "bcc5db1c-8dba-4b34-c2c5-9953b5c012e8"
      },
      "execution_count": 27,
      "outputs": [
        {
          "output_type": "stream",
          "name": "stdout",
          "text": [
            "Epoch 1/10\n",
            "2480/2480 [==============================] - 32s 12ms/step - loss: 0.5728 - accuracy: 0.6984 - val_loss: 0.5195 - val_accuracy: 0.7297\n",
            "Epoch 2/10\n",
            "2480/2480 [==============================] - 21s 9ms/step - loss: 0.5171 - accuracy: 0.7349 - val_loss: 0.5021 - val_accuracy: 0.7429\n",
            "Epoch 3/10\n",
            "2480/2480 [==============================] - 22s 9ms/step - loss: 0.5048 - accuracy: 0.7420 - val_loss: 0.4948 - val_accuracy: 0.7466\n",
            "Epoch 4/10\n",
            "2480/2480 [==============================] - 22s 9ms/step - loss: 0.4988 - accuracy: 0.7460 - val_loss: 0.4926 - val_accuracy: 0.7479\n",
            "Epoch 5/10\n",
            "2480/2480 [==============================] - 22s 9ms/step - loss: 0.4949 - accuracy: 0.7478 - val_loss: 0.4867 - val_accuracy: 0.7524\n",
            "Epoch 6/10\n",
            "2480/2480 [==============================] - 21s 8ms/step - loss: 0.4918 - accuracy: 0.7507 - val_loss: 0.4851 - val_accuracy: 0.7516\n",
            "Epoch 7/10\n",
            "2480/2480 [==============================] - 20s 8ms/step - loss: 0.4897 - accuracy: 0.7523 - val_loss: 0.4844 - val_accuracy: 0.7511\n",
            "Epoch 8/10\n",
            "2480/2480 [==============================] - 21s 9ms/step - loss: 0.4876 - accuracy: 0.7528 - val_loss: 0.4839 - val_accuracy: 0.7534\n",
            "Epoch 9/10\n",
            "2480/2480 [==============================] - 23s 9ms/step - loss: 0.4869 - accuracy: 0.7535 - val_loss: 0.4848 - val_accuracy: 0.7523\n",
            "Epoch 10/10\n",
            "2480/2480 [==============================] - 20s 8ms/step - loss: 0.4858 - accuracy: 0.7548 - val_loss: 0.4829 - val_accuracy: 0.7557\n"
          ]
        }
      ]
    },
    {
      "cell_type": "code",
      "source": [
        "model.save(\"RANDUCND1.h5\")"
      ],
      "metadata": {
        "id": "lPIhq9EtNWrL"
      },
      "execution_count": 28,
      "outputs": []
    },
    {
      "cell_type": "markdown",
      "source": [
        "## Concatenated samples with best model"
      ],
      "metadata": {
        "id": "ftJLh_aNABYc"
      }
    },
    {
      "cell_type": "code",
      "source": [
        "## Example for single model\n",
        "\n",
        "# Sets paramemters for generating train/test data\n",
        "num_blocks = 10000\n",
        "sequence_length = 31\n",
        "samplesConcatenated = 3\n",
        "num_samples = (num_blocks-1)*sequence_length-sequence_length*(samplesConcatenated-1)\n",
        "\n",
        "print(\"Number of samples: \", num_samples)\n",
        "\n",
        "# Seed generator\n",
        "seedGenerator(23)\n",
        "# Get stream data \n",
        "streamData = generatorOutput(num_blocks)\n",
        "\n",
        "\n",
        "# Stores output in variable to allow the sample to be featued in both x and y data\n",
        "X_data = []\n",
        "Y_data = []\n",
        "\n",
        "for i in range(0, num_samples):\n",
        "  X_data.append(streamData[i:i+sequence_length*samplesConcatenated])\n",
        "  Y_data.append([streamData[i+sequence_length*samplesConcatenated]])\n",
        "\n",
        "del streamData\n",
        "\n",
        "x_train, x_test, y_train, y_test = train_test_split(X_data, Y_data, test_size=0.3, random_state=32)\n",
        "del X_data\n",
        "del Y_data"
      ],
      "metadata": {
        "colab": {
          "base_uri": "https://localhost:8080/"
        },
        "id": "Mxe88W2EAD_c",
        "outputId": "45d1a407-d8c4-4e44-e97f-dbe6fcc1a8e3"
      },
      "execution_count": 7,
      "outputs": [
        {
          "output_type": "stream",
          "name": "stdout",
          "text": [
            "Number of samples:  309907\n"
          ]
        }
      ]
    },
    {
      "cell_type": "code",
      "source": [
        "# Sets parameters for produced model\n",
        "epochs = 10\n",
        "\n",
        "# Strategy to utilise GPU \n",
        "strategy = tf.distribute.OneDeviceStrategy('/gpu:0')\n",
        "\n",
        "# Model compilation using GPU\n",
        "with strategy.scope():\n",
        "  model = Sequential()\n",
        "  model.add(Conv1D(filters=128, kernel_size=3, activation='relu', input_shape=(sequence_length*samplesConcatenated,1)))\n",
        "  model.add(Flatten())\n",
        "  model.add(BatchNormalization())\n",
        "  model.add(Dropout(rate=0.1))\n",
        "  model.add(Dense(sequence_length, input_shape=(sequence_length, ), activation='relu'))\n",
        "  model.add(BatchNormalization())\n",
        "  model.add(Dense(1, activation='sigmoid'))\n",
        "\n",
        "model.compile(loss='binary_crossentropy', optimizer=\"Adam\", metrics=['accuracy'])\n",
        "\n",
        "model.summary()"
      ],
      "metadata": {
        "colab": {
          "base_uri": "https://localhost:8080/"
        },
        "id": "IDmot5yEGlot",
        "outputId": "1a740611-345a-4335-c690-334e4876ff28"
      },
      "execution_count": 8,
      "outputs": [
        {
          "output_type": "stream",
          "name": "stdout",
          "text": [
            "Model: \"sequential\"\n",
            "_________________________________________________________________\n",
            " Layer (type)                Output Shape              Param #   \n",
            "=================================================================\n",
            " conv1d (Conv1D)             (None, 91, 128)           512       \n",
            "                                                                 \n",
            " flatten (Flatten)           (None, 11648)             0         \n",
            "                                                                 \n",
            " batch_normalization (BatchN  (None, 11648)            46592     \n",
            " ormalization)                                                   \n",
            "                                                                 \n",
            " dropout (Dropout)           (None, 11648)             0         \n",
            "                                                                 \n",
            " dense (Dense)               (None, 31)                361119    \n",
            "                                                                 \n",
            " batch_normalization_1 (Batc  (None, 31)               124       \n",
            " hNormalization)                                                 \n",
            "                                                                 \n",
            " dense_1 (Dense)             (None, 1)                 32        \n",
            "                                                                 \n",
            "=================================================================\n",
            "Total params: 408,379\n",
            "Trainable params: 385,021\n",
            "Non-trainable params: 23,358\n",
            "_________________________________________________________________\n"
          ]
        }
      ]
    },
    {
      "cell_type": "code",
      "source": [
        "batch_size = 100\n",
        "# Train the model with the x/y train data and validate using the test data after each epoch\n",
        "history = model.fit(x_train, y_train, validation_data=(x_test, y_test), epochs=epochs, batch_size=batch_size)"
      ],
      "metadata": {
        "colab": {
          "base_uri": "https://localhost:8080/"
        },
        "id": "aymB4htvGoa-",
        "outputId": "60db6fc0-3451-44a7-b5cf-872c1b705718"
      },
      "execution_count": 9,
      "outputs": [
        {
          "output_type": "stream",
          "name": "stdout",
          "text": [
            "Epoch 1/10\n",
            "2170/2170 [==============================] - 69s 26ms/step - loss: 0.5096 - accuracy: 0.7360 - val_loss: 0.3399 - val_accuracy: 0.8498\n",
            "Epoch 2/10\n",
            "2170/2170 [==============================] - 20s 9ms/step - loss: 0.2948 - accuracy: 0.8747 - val_loss: 0.2409 - val_accuracy: 0.9000\n",
            "Epoch 3/10\n",
            "2170/2170 [==============================] - 19s 9ms/step - loss: 0.2344 - accuracy: 0.9031 - val_loss: 0.1970 - val_accuracy: 0.9196\n",
            "Epoch 4/10\n",
            "2170/2170 [==============================] - 20s 9ms/step - loss: 0.2082 - accuracy: 0.9148 - val_loss: 0.1800 - val_accuracy: 0.9256\n",
            "Epoch 5/10\n",
            "2170/2170 [==============================] - 19s 9ms/step - loss: 0.1942 - accuracy: 0.9207 - val_loss: 0.1706 - val_accuracy: 0.9308\n",
            "Epoch 6/10\n",
            "2170/2170 [==============================] - 23s 10ms/step - loss: 0.1837 - accuracy: 0.9251 - val_loss: 0.1587 - val_accuracy: 0.9360\n",
            "Epoch 7/10\n",
            "2170/2170 [==============================] - 20s 9ms/step - loss: 0.1768 - accuracy: 0.9286 - val_loss: 0.1585 - val_accuracy: 0.9361\n",
            "Epoch 8/10\n",
            "2170/2170 [==============================] - 19s 9ms/step - loss: 0.1720 - accuracy: 0.9307 - val_loss: 0.1516 - val_accuracy: 0.9391\n",
            "Epoch 9/10\n",
            "2170/2170 [==============================] - 20s 9ms/step - loss: 0.1675 - accuracy: 0.9327 - val_loss: 0.1444 - val_accuracy: 0.9420\n",
            "Epoch 10/10\n",
            "2170/2170 [==============================] - 19s 9ms/step - loss: 0.1629 - accuracy: 0.9345 - val_loss: 0.1483 - val_accuracy: 0.9406\n"
          ]
        }
      ]
    },
    {
      "cell_type": "code",
      "source": [
        "model.save(\"RANDUCNDConcat1.h5\")"
      ],
      "metadata": {
        "id": "i5CjkaPqNyW_"
      },
      "execution_count": null,
      "outputs": []
    },
    {
      "cell_type": "markdown",
      "source": [
        "#### Graphing current model history"
      ],
      "metadata": {
        "id": "m9cleQ5wgWL4"
      }
    },
    {
      "cell_type": "code",
      "source": [
        "print(\"Plotting graph\")\n",
        "# Plot training & validation loss values\n",
        "# Plots loss data\n",
        "plt.plot(range(1, epochs+1), history.history['loss'])\n",
        "plt.plot(range(1, epochs+1), history.history['val_loss'])\n",
        "# Plots a label for each axis\n",
        "plt.ylabel('Loss Value')\n",
        "plt.xlabel('Epoch Number')\n",
        "# Plots the title\n",
        "plt.title('Model loss over epochs')\n",
        "# Plots the legend for each loss\n",
        "plt.legend(['Train', 'Validation'], loc='upper right')\n",
        "\n",
        "# Sets grid for plot\n",
        "plt.grid(linestyle='--', alpha=0.4)\n",
        "# Ensures the x-axis only contains integers\n",
        "plt.xticks(range(1, epochs+1))\n",
        "\n",
        "\n",
        "# Displays plot\n",
        "plt.show()"
      ],
      "metadata": {
        "id": "odz7gUIW3acl",
        "colab": {
          "base_uri": "https://localhost:8080/",
          "height": 490
        },
        "outputId": "9f565031-08ce-4782-ba3f-bcf9a4ccb328"
      },
      "execution_count": 10,
      "outputs": [
        {
          "output_type": "stream",
          "name": "stdout",
          "text": [
            "Plotting graph\n"
          ]
        },
        {
          "output_type": "display_data",
          "data": {
            "text/plain": [
              "<Figure size 640x480 with 1 Axes>"
            ],
            "image/png": "[encoded data removed]"
          },
          "metadata": {}
        }
      ]
    }
  ]
}